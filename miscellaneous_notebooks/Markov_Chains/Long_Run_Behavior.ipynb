{
 "cells": [
  {
   "cell_type": "code",
   "execution_count": 1,
   "metadata": {
    "collapsed": true
   },
   "outputs": [],
   "source": [
    "# HIDDEN\n",
    "from datascience import *\n",
    "from prob140 import *\n",
    "import numpy as np\n",
    "import matplotlib.pyplot as plt\n",
    "plt.style.use('fivethirtyeight')\n",
    "%matplotlib inline\n",
    "import math\n",
    "from scipy import stats\n",
    "from scipy import misc"
   ]
  },
  {
   "cell_type": "markdown",
   "metadata": {},
   "source": [
    "### Long Run Behavior ###\n",
    "By conditioning on $X_n$, we have seen that for any state $j$,\n",
    "\n",
    "$$\n",
    "P(X_{n+1} = j) = P_{n+1}(j) = \\sum_{i \\in S} P_n(i)P(i, j)\n",
    "$$\n",
    "\n",
    "In principle, this allows us to calculate the distributions $P_n$ sequentially, starting with the inital distribution and transition matrix. That's what the `distribution` method does.\n",
    "\n",
    "The input for `distribution` is a numerical transition matrix. Symbolic calculations, on the other hand, can quickly get intractable, and indeed, so can numerical calculations when the state space and run time of the chain are both large.\n",
    "\n",
    "To see why, let's try to get a sense of what is involved. Suppose $n \\ge 1$ and let $i$ and $j$ be any two states. The one-step transition probability $P_1(i, j)$ is just $P(i, j)$ which can be read off the transition matrix. Next, by conditioning on the first move,\n",
    "\n",
    "$$\n",
    "P_2(i, j) = \\sum_{k \\in S} P_1(i, k)P(k, j) = \\sum_{k \\in S} P(i, k)P(k, j)\n",
    "$$\n",
    "\n",
    "If you have taken some linear algebra you will recognize this as an element in the product of the transition matrix with itself. Indeed, if you denote the 2-step transition matrix by $\\mathbb{P}_2$, then\n",
    "\n",
    "$$\n",
    "\\mathbb{P}_2 = \\mathbb{P}^2\n",
    "$$\n",
    "By induction, the $n$-step transition matrix is\n",
    "$$\n",
    "\\mathbb{P}_n = \\mathbb{P}^n\n",
    "$$\n",
    "\n",
    "The $n$-step transition matrix is the $n$th power of the one-step transition matrix. \n",
    "\n",
    "Raising a large matrix to a large power is a formidable operation. Yet it is important to understand how the chain behaves in the long run. Fortunately, a marvelous theorem comes to the rescue."
   ]
  },
  {
   "cell_type": "markdown",
   "metadata": {},
   "source": [
    "### Convergence to Stationarity ###\n",
    "Every irreducible and aperiodic Markov Chain with a finite state space exhibits astonishing regularity after it has run for a while.\n",
    "\n",
    "For such a chain, for all states $i$ and $j$,\n",
    "\n",
    "$$\n",
    "P_n(i, j) \\to \\pi(j) ~~~ \\text{as } n \\to \\infty\n",
    "$$\n",
    "\n",
    "That is, the $n$-step transition probability from $i$ to $j$ converges to a limit that does not depend on $i$. Moreover,\n",
    "\n",
    "- $\\pi(j) > 0$ for all states $j$, and\n",
    "\n",
    "- $\\sum_{j \\in S} \\pi(j) = 1$\n",
    "\n",
    "**That is, as $n \\to \\infty$, the limit $\\pi$ of the distributions $P_n$ is a probability distribution in which all terms are positive. It is called the *stationary* or *invariant* or *steady state* distribution of the chain.**\n",
    "\n",
    "The proof of this theorem is beyond the scope of this course. In fact the result is true in greater generality, for some classes of Markov Chains on infinitely many states. In Prob140 we will assume that it is true for irreducible aperiodic finite state chains, and then see what it implies.\n",
    "\n",
    "First, let's recall that we have seen this behavior in examples. Here is the transition diagram for a lazy reflecting random walk on five states.\n",
    "\n",
    "![Lazy Reflecting Walk](trans_refl.png)\n",
    "\n",
    "Here is the same information in a transition matrix."
   ]
  },
  {
   "cell_type": "code",
   "execution_count": 3,
   "metadata": {
    "collapsed": false
   },
   "outputs": [
    {
     "data": {
      "text/html": [
       "<div>\n",
       "<table border=\"1\" class=\"dataframe\">\n",
       "  <thead>\n",
       "    <tr style=\"text-align: right;\">\n",
       "      <th></th>\n",
       "      <th>1</th>\n",
       "      <th>2</th>\n",
       "      <th>3</th>\n",
       "      <th>4</th>\n",
       "      <th>5</th>\n",
       "    </tr>\n",
       "  </thead>\n",
       "  <tbody>\n",
       "    <tr>\n",
       "      <th>1</th>\n",
       "      <td>0.50</td>\n",
       "      <td>0.50</td>\n",
       "      <td>0.00</td>\n",
       "      <td>0.00</td>\n",
       "      <td>0.00</td>\n",
       "    </tr>\n",
       "    <tr>\n",
       "      <th>2</th>\n",
       "      <td>0.25</td>\n",
       "      <td>0.50</td>\n",
       "      <td>0.25</td>\n",
       "      <td>0.00</td>\n",
       "      <td>0.00</td>\n",
       "    </tr>\n",
       "    <tr>\n",
       "      <th>3</th>\n",
       "      <td>0.00</td>\n",
       "      <td>0.25</td>\n",
       "      <td>0.50</td>\n",
       "      <td>0.25</td>\n",
       "      <td>0.00</td>\n",
       "    </tr>\n",
       "    <tr>\n",
       "      <th>4</th>\n",
       "      <td>0.00</td>\n",
       "      <td>0.00</td>\n",
       "      <td>0.25</td>\n",
       "      <td>0.50</td>\n",
       "      <td>0.25</td>\n",
       "    </tr>\n",
       "    <tr>\n",
       "      <th>5</th>\n",
       "      <td>0.00</td>\n",
       "      <td>0.00</td>\n",
       "      <td>0.00</td>\n",
       "      <td>0.50</td>\n",
       "      <td>0.50</td>\n",
       "    </tr>\n",
       "  </tbody>\n",
       "</table>\n",
       "</div>"
      ],
      "text/plain": [
       "      1     2     3     4     5\n",
       "1  0.50  0.50  0.00  0.00  0.00\n",
       "2  0.25  0.50  0.25  0.00  0.00\n",
       "3  0.00  0.25  0.50  0.25  0.00\n",
       "4  0.00  0.00  0.25  0.50  0.25\n",
       "5  0.00  0.00  0.00  0.50  0.50"
      ]
     },
     "execution_count": 3,
     "metadata": {},
     "output_type": "execute_result"
    }
   ],
   "source": [
    "def ref_walk_probs(i, j):\n",
    "    if i-j == 0:\n",
    "        return 0.5\n",
    "    elif 2 <= i <= 4:\n",
    "        if abs(i-j) == 1:\n",
    "            return 0.25\n",
    "        else:\n",
    "            return 0\n",
    "    elif i == 1:\n",
    "        if j == 2:\n",
    "            return 0.5\n",
    "        else:\n",
    "            return 0\n",
    "    elif i == 5:\n",
    "        if j == 4:\n",
    "            return 0.5\n",
    "        else:\n",
    "            return 0\n",
    "        \n",
    "trans_tbl = Table().states(s).transition_function(ref_walk_probs)\n",
    "refl_walk = trans_tbl.toMarkovChain()\n",
    "refl_walk"
   ]
  },
  {
   "cell_type": "markdown",
   "metadata": {},
   "source": [
    "Let's start the chain out with an arbitrary initial distribution."
   ]
  },
  {
   "cell_type": "code",
   "execution_count": 2,
   "metadata": {
    "collapsed": false
   },
   "outputs": [
    {
     "data": {
      "text/html": [
       "<table border=\"1\" class=\"dataframe\">\n",
       "    <thead>\n",
       "        <tr>\n",
       "            <th>State</th> <th>Probability</th>\n",
       "        </tr>\n",
       "    </thead>\n",
       "    <tbody>\n",
       "        <tr>\n",
       "            <td>1    </td> <td>0.1        </td>\n",
       "        </tr>\n",
       "    </tbody>\n",
       "        <tr>\n",
       "            <td>2    </td> <td>0.2        </td>\n",
       "        </tr>\n",
       "    </tbody>\n",
       "        <tr>\n",
       "            <td>3    </td> <td>0.3        </td>\n",
       "        </tr>\n",
       "    </tbody>\n",
       "        <tr>\n",
       "            <td>4    </td> <td>0.25       </td>\n",
       "        </tr>\n",
       "    </tbody>\n",
       "        <tr>\n",
       "            <td>5    </td> <td>0.15       </td>\n",
       "        </tr>\n",
       "    </tbody>\n",
       "</table>"
      ],
      "text/plain": [
       "State | Probability\n",
       "1     | 0.1\n",
       "2     | 0.2\n",
       "3     | 0.3\n",
       "4     | 0.25\n",
       "5     | 0.15"
      ]
     },
     "execution_count": 2,
     "metadata": {},
     "output_type": "execute_result"
    }
   ],
   "source": [
    "s = np.arange(1, 6)\n",
    "init_probs = [0.1, 0.2, 0.3, 0.25, 0.15]\n",
    "initial = Table().states(s).probability(init_probs)\n",
    "initial"
   ]
  },
  {
   "cell_type": "markdown",
   "metadata": {},
   "source": [
    "Here is $P_3$, the distribution of $X_3$. This is what we are calling the \"distribution at time 3\"."
   ]
  },
  {
   "cell_type": "code",
   "execution_count": 4,
   "metadata": {
    "collapsed": false
   },
   "outputs": [
    {
     "data": {
      "text/html": [
       "<table border=\"1\" class=\"dataframe\">\n",
       "    <thead>\n",
       "        <tr>\n",
       "            <th>State</th> <th>Probability</th>\n",
       "        </tr>\n",
       "    </thead>\n",
       "    <tbody>\n",
       "        <tr>\n",
       "            <td>1    </td> <td>0.110156   </td>\n",
       "        </tr>\n",
       "    </tbody>\n",
       "        <tr>\n",
       "            <td>2    </td> <td>0.23125    </td>\n",
       "        </tr>\n",
       "    </tbody>\n",
       "        <tr>\n",
       "            <td>3    </td> <td>0.253125   </td>\n",
       "        </tr>\n",
       "    </tbody>\n",
       "        <tr>\n",
       "            <td>4    </td> <td>0.26875    </td>\n",
       "        </tr>\n",
       "    </tbody>\n",
       "        <tr>\n",
       "            <td>5    </td> <td>0.136719   </td>\n",
       "        </tr>\n",
       "    </tbody>\n",
       "</table>"
      ],
      "text/plain": [
       "State | Probability\n",
       "1     | 0.110156\n",
       "2     | 0.23125\n",
       "3     | 0.253125\n",
       "4     | 0.26875\n",
       "5     | 0.136719"
      ]
     },
     "execution_count": 4,
     "metadata": {},
     "output_type": "execute_result"
    }
   ],
   "source": [
    "refl_walk.distribution(initial, 3)"
   ]
  },
  {
   "cell_type": "markdown",
   "metadata": {},
   "source": [
    "Here is the distribution at time 100:"
   ]
  },
  {
   "cell_type": "code",
   "execution_count": 8,
   "metadata": {
    "collapsed": false
   },
   "outputs": [
    {
     "data": {
      "text/html": [
       "<table border=\"1\" class=\"dataframe\">\n",
       "    <thead>\n",
       "        <tr>\n",
       "            <th>State</th> <th>Probability</th>\n",
       "        </tr>\n",
       "    </thead>\n",
       "    <tbody>\n",
       "        <tr>\n",
       "            <td>1    </td> <td>0.125      </td>\n",
       "        </tr>\n",
       "    </tbody>\n",
       "        <tr>\n",
       "            <td>2    </td> <td>0.25       </td>\n",
       "        </tr>\n",
       "    </tbody>\n",
       "        <tr>\n",
       "            <td>3    </td> <td>0.25       </td>\n",
       "        </tr>\n",
       "    </tbody>\n",
       "        <tr>\n",
       "            <td>4    </td> <td>0.25       </td>\n",
       "        </tr>\n",
       "    </tbody>\n",
       "        <tr>\n",
       "            <td>5    </td> <td>0.125      </td>\n",
       "        </tr>\n",
       "    </tbody>\n",
       "</table>"
      ],
      "text/plain": [
       "State | Probability\n",
       "1     | 0.125\n",
       "2     | 0.25\n",
       "3     | 0.25\n",
       "4     | 0.25\n",
       "5     | 0.125"
      ]
     },
     "execution_count": 8,
     "metadata": {},
     "output_type": "execute_result"
    }
   ],
   "source": [
    "refl_walk.distribution(initial, 100)"
   ]
  },
  {
   "cell_type": "markdown",
   "metadata": {},
   "source": [
    "And here it is at time 200:"
   ]
  },
  {
   "cell_type": "code",
   "execution_count": 9,
   "metadata": {
    "collapsed": false
   },
   "outputs": [
    {
     "data": {
      "text/html": [
       "<table border=\"1\" class=\"dataframe\">\n",
       "    <thead>\n",
       "        <tr>\n",
       "            <th>State</th> <th>Probability</th>\n",
       "        </tr>\n",
       "    </thead>\n",
       "    <tbody>\n",
       "        <tr>\n",
       "            <td>1    </td> <td>0.125      </td>\n",
       "        </tr>\n",
       "    </tbody>\n",
       "        <tr>\n",
       "            <td>2    </td> <td>0.25       </td>\n",
       "        </tr>\n",
       "    </tbody>\n",
       "        <tr>\n",
       "            <td>3    </td> <td>0.25       </td>\n",
       "        </tr>\n",
       "    </tbody>\n",
       "        <tr>\n",
       "            <td>4    </td> <td>0.25       </td>\n",
       "        </tr>\n",
       "    </tbody>\n",
       "        <tr>\n",
       "            <td>5    </td> <td>0.125      </td>\n",
       "        </tr>\n",
       "    </tbody>\n",
       "</table>"
      ],
      "text/plain": [
       "State | Probability\n",
       "1     | 0.125\n",
       "2     | 0.25\n",
       "3     | 0.25\n",
       "4     | 0.25\n",
       "5     | 0.125"
      ]
     },
     "execution_count": 9,
     "metadata": {},
     "output_type": "execute_result"
    }
   ],
   "source": [
    "refl_walk.distribution(initial, 200)"
   ]
  },
  {
   "cell_type": "markdown",
   "metadata": {},
   "source": [
    "As the theorem predicts, the distribution at time $n$ has a limit as $n$ gets large. The limit is a probability distribution whose elements are all positive."
   ]
  },
  {
   "cell_type": "markdown",
   "metadata": {},
   "source": [
    "### Forgetting Where it Came From ###\n",
    "Let's start the chain out with a different initial distribution; one that puts all its mass at state 3. The limit distribution is still the same."
   ]
  },
  {
   "cell_type": "code",
   "execution_count": 12,
   "metadata": {
    "collapsed": false
   },
   "outputs": [],
   "source": [
    "initial2 = Table().states(s).probability([0, 0, 1, 0, 0])"
   ]
  },
  {
   "cell_type": "code",
   "execution_count": 13,
   "metadata": {
    "collapsed": false
   },
   "outputs": [
    {
     "data": {
      "text/html": [
       "<table border=\"1\" class=\"dataframe\">\n",
       "    <thead>\n",
       "        <tr>\n",
       "            <th>State</th> <th>Probability</th>\n",
       "        </tr>\n",
       "    </thead>\n",
       "    <tbody>\n",
       "        <tr>\n",
       "            <td>1    </td> <td>0.125      </td>\n",
       "        </tr>\n",
       "    </tbody>\n",
       "        <tr>\n",
       "            <td>2    </td> <td>0.25       </td>\n",
       "        </tr>\n",
       "    </tbody>\n",
       "        <tr>\n",
       "            <td>3    </td> <td>0.25       </td>\n",
       "        </tr>\n",
       "    </tbody>\n",
       "        <tr>\n",
       "            <td>4    </td> <td>0.25       </td>\n",
       "        </tr>\n",
       "    </tbody>\n",
       "        <tr>\n",
       "            <td>5    </td> <td>0.125      </td>\n",
       "        </tr>\n",
       "    </tbody>\n",
       "</table>"
      ],
      "text/plain": [
       "State | Probability\n",
       "1     | 0.125\n",
       "2     | 0.25\n",
       "3     | 0.25\n",
       "4     | 0.25\n",
       "5     | 0.125"
      ]
     },
     "execution_count": 13,
     "metadata": {},
     "output_type": "execute_result"
    }
   ],
   "source": [
    "refl_walk.distribution(initial2, 100)"
   ]
  },
  {
   "cell_type": "markdown",
   "metadata": {},
   "source": [
    "As the theorem says, $\\lim_n P_n(i, j)$ is $\\pi(j)$, which depends on the end state $j$ but not on the start state $i$. In the long run, a Markov Chain forgets where it started."
   ]
  },
  {
   "cell_type": "markdown",
   "metadata": {},
   "source": [
    "### Balance Equations ###\n",
    "The `distribution` method is a way to identify the stationary distribuion $\\pi$ if you have a numerical transition matrix and a computer equipped with the `prob140` Python library. But there is a more general way of finding $\\pi$.\n",
    "\n",
    "Let $n \\ge 0$ and let $i$ and $j$ be two states. Then\n",
    "\n",
    "$$\n",
    "P_{n+1}(i, j) = \\sum_{k \\in S} P_n(i, k)P(k, j)\n",
    "$$\n",
    "\n",
    "Therefore\n",
    "\n",
    "\\begin{align*}\n",
    "\\lim_{n \\to \\infty} P_{n+1}(i, j) &= \\lim_{n \\to \\infty} \\sum_{k \\in S} P_n(i, k)P(k, j) \\\\ \\\\\n",
    "&= \\sum_{k \\in S} \\big{(} \\lim_{n \\to \\infty} P_n(i, k) \\big{)} P(k, j)\n",
    "\\end{align*}\n",
    "\n",
    "We can exchange the limit and the sum because $S$ is finite. Now apply the theorem on convergence to stationarity:\n",
    "\n",
    "$$\n",
    "\\pi(j) = \\sum_{k \\in S} \\pi(k)P(k, j)\n",
    "$$\n",
    "\n",
    "These are called the *balance equations*.\n",
    "\n",
    "In matrix notation, if you think of $\\pi$ as a row vector, these equations become\n",
    "\n",
    "$$\n",
    "\\pi = \\pi \\mathbb{P} ~~~~~ \\text{or, equivalently,} ~~~~~ \\pi\\mathbb{P} = \\pi\n",
    "$$\n",
    "\n",
    "Let's see how this works out for our lazy reflecting random walk. Here is its transition matrix:"
   ]
  },
  {
   "cell_type": "code",
   "execution_count": 14,
   "metadata": {
    "collapsed": false
   },
   "outputs": [
    {
     "data": {
      "text/html": [
       "<div>\n",
       "<table border=\"1\" class=\"dataframe\">\n",
       "  <thead>\n",
       "    <tr style=\"text-align: right;\">\n",
       "      <th></th>\n",
       "      <th>1</th>\n",
       "      <th>2</th>\n",
       "      <th>3</th>\n",
       "      <th>4</th>\n",
       "      <th>5</th>\n",
       "    </tr>\n",
       "  </thead>\n",
       "  <tbody>\n",
       "    <tr>\n",
       "      <th>1</th>\n",
       "      <td>0.50</td>\n",
       "      <td>0.50</td>\n",
       "      <td>0.00</td>\n",
       "      <td>0.00</td>\n",
       "      <td>0.00</td>\n",
       "    </tr>\n",
       "    <tr>\n",
       "      <th>2</th>\n",
       "      <td>0.25</td>\n",
       "      <td>0.50</td>\n",
       "      <td>0.25</td>\n",
       "      <td>0.00</td>\n",
       "      <td>0.00</td>\n",
       "    </tr>\n",
       "    <tr>\n",
       "      <th>3</th>\n",
       "      <td>0.00</td>\n",
       "      <td>0.25</td>\n",
       "      <td>0.50</td>\n",
       "      <td>0.25</td>\n",
       "      <td>0.00</td>\n",
       "    </tr>\n",
       "    <tr>\n",
       "      <th>4</th>\n",
       "      <td>0.00</td>\n",
       "      <td>0.00</td>\n",
       "      <td>0.25</td>\n",
       "      <td>0.50</td>\n",
       "      <td>0.25</td>\n",
       "    </tr>\n",
       "    <tr>\n",
       "      <th>5</th>\n",
       "      <td>0.00</td>\n",
       "      <td>0.00</td>\n",
       "      <td>0.00</td>\n",
       "      <td>0.50</td>\n",
       "      <td>0.50</td>\n",
       "    </tr>\n",
       "  </tbody>\n",
       "</table>\n",
       "</div>"
      ],
      "text/plain": [
       "      1     2     3     4     5\n",
       "1  0.50  0.50  0.00  0.00  0.00\n",
       "2  0.25  0.50  0.25  0.00  0.00\n",
       "3  0.00  0.25  0.50  0.25  0.00\n",
       "4  0.00  0.00  0.25  0.50  0.25\n",
       "5  0.00  0.00  0.00  0.50  0.50"
      ]
     },
     "execution_count": 14,
     "metadata": {},
     "output_type": "execute_result"
    }
   ],
   "source": [
    "refl_walk"
   ]
  },
  {
   "cell_type": "markdown",
   "metadata": {},
   "source": [
    "According to the balance equations,\n",
    "\n",
    "$$\n",
    "\\pi(1) = \\sum_{k=1}^s \\pi(k)P(k, 1)\n",
    "$$\n",
    "\n",
    "That is, we're multiplying $\\pi$ by the `1` column of $\\mathbb{P}$ and adding. So\n",
    "\n",
    "$$\n",
    "\\pi(1) = \\pi(1)\\cdot 0.5 ~ + ~ \\pi(2) \\cdot 0.25 = 0.5\\pi(1) + 0.25\\pi(2)\n",
    "$$\n",
    "\n",
    "Follow the same process to get all five balance equations:\n",
    "\n",
    "\\begin{align*}\n",
    "\\pi(1) &= 0.5\\pi(1) + 0.25\\pi(2) \\\\\n",
    "\\pi(2) &= 0.5\\pi(1) + 0.5\\pi(2) + 0.25\\pi(3) \\\\\n",
    "\\pi(3) &= 0.25\\pi(2) + 0.5\\pi(3) + 0.25\\pi(4) \\\\\n",
    "\\pi(4) &= 0.25\\pi(3) + 0.5\\pi(4) + 0.5\\pi(5) \\\\\n",
    "\\pi(5) &= 0.25\\pi(4) + 0.5\\pi(5)\n",
    "\\end{align*}\n",
    "\n",
    "Some observations make the system easy to solve.\n",
    "- By rearranging the first equation, we get $\\pi(2) = 2\\pi(1)$.\n",
    "- By symmetry, $\\pi(1) = \\pi(5)$ and $\\pi(2) = \\pi (4)$.\n",
    "- Because $\\pi(2) = \\pi(4)$, the equation for $\\pi(3)$ shows that $\\pi(3) = \\pi(2) = \\pi(4)$.\n",
    "\n",
    "So the distribution $\\pi$) is\n",
    "$$\n",
    "\\big{(} \\pi(1), 2\\pi(1), 2\\pi(1), 2\\pi(1), \\pi(1) \\big{)}\n",
    "$$\n",
    "\n",
    "As $\\pi$ is a probability distribution, it sums to 1. As its total is $8\\pi(1)$, we have\n",
    "\n",
    "$$\n",
    "\\pi = \\big{(} \\frac{1}{8}, \\frac{2}{8}, \\frac{2}{8}, \\frac{2}{8}, \\frac{1}{8} \\big{)}\n",
    "$$\n",
    "\n",
    "This agrees with what we got by using `distribution` for $n=100$. In fact we could just have used the method `steady_state` to get $\\pi$:"
   ]
  },
  {
   "cell_type": "code",
   "execution_count": 15,
   "metadata": {
    "collapsed": false
   },
   "outputs": [
    {
     "data": {
      "text/html": [
       "<table border=\"1\" class=\"dataframe\">\n",
       "    <thead>\n",
       "        <tr>\n",
       "            <th>State</th> <th>Probability</th>\n",
       "        </tr>\n",
       "    </thead>\n",
       "    <tbody>\n",
       "        <tr>\n",
       "            <td>1    </td> <td>0.125      </td>\n",
       "        </tr>\n",
       "    </tbody>\n",
       "        <tr>\n",
       "            <td>2    </td> <td>0.25       </td>\n",
       "        </tr>\n",
       "    </tbody>\n",
       "        <tr>\n",
       "            <td>3    </td> <td>0.25       </td>\n",
       "        </tr>\n",
       "    </tbody>\n",
       "        <tr>\n",
       "            <td>4    </td> <td>0.25       </td>\n",
       "        </tr>\n",
       "    </tbody>\n",
       "        <tr>\n",
       "            <td>5    </td> <td>0.125      </td>\n",
       "        </tr>\n",
       "    </tbody>\n",
       "</table>"
      ],
      "text/plain": [
       "State | Probability\n",
       "1     | 0.125\n",
       "2     | 0.25\n",
       "3     | 0.25\n",
       "4     | 0.25\n",
       "5     | 0.125"
      ]
     },
     "execution_count": 15,
     "metadata": {},
     "output_type": "execute_result"
    }
   ],
   "source": [
    "refl_walk.steady_state()"
   ]
  },
  {
   "cell_type": "markdown",
   "metadata": {},
   "source": [
    "The steady state isn't an element of the state space $S$ – it's the condition of the chain after it has been run for a long time. Let's examine this further. "
   ]
  },
  {
   "cell_type": "markdown",
   "metadata": {},
   "source": [
    "### Balance and Steady State ###\n",
    "To see what is being \"balanced\" in these equations, imagine a large number of independent replications of this chain. For example, imagine a large number of particles that are moving among the states 1 through 5 according to the transition probabilities of the lazy reflectin walk, and suppose all the particles are moving at instants 1, 2, 3, $\\ldots$ independently of each other.\n",
    "\n",
    "Then at any instant and for any state $j$, there is some proportion of particles that is leaving $j$, and another proportion that is entering $j$. The balance equations say that those two proportions are equal.\n",
    "\n",
    "Let's check this by looking at the equations again: for any state $j$,\n",
    "\n",
    "$$\n",
    "\\pi(j) = \\sum_{k \\in S} \\pi(k)P(k, j)\n",
    "$$\n",
    "\n",
    "For every $k \\in S$ (including $k=j$), think of $\\pi(k)$ as the proportion of particles leaving state $k$ after the chain has been run a long time. Then the left hand side is the proportion leaving $j$. The generic term in the sum on the right is the proportion that left $k$ at the previous instant and are moving to $j$. Those are the particles entering $j$. When the two sides are equal, the chain is *balanced*. \n",
    "\n",
    "The theorem on convergence to stationarity says that the chain approaches balance as $n$ gets large. If it actually achieves balance, that is, if $P_n = \\pi$ for some $n$, then it stays balanced. The reason:\n",
    "\n",
    "$$\n",
    "P_{n+1}(j) = \\sum_{i \\in S} P_n(i)P(i, j) = \\sum_{i \\in S} \\pi(i)P(i, j) = \\pi(j)\n",
    "$$\n",
    "\n",
    "by the balance equations.\n",
    "\n",
    "In particular, if you start the chain with its stationary distribution $\\pi$, then the distribution of $X_n$ is $\\pi$ for every $n$."
   ]
  },
  {
   "cell_type": "markdown",
   "metadata": {},
   "source": [
    "### Uniqueness ###\n",
    "It's not very hard to show that if a probability distribution solves the balance equations, then it has to be $\\pi$, the limit of the marginal distributions of $X_n$. We won't do the proof; it essentially repeats the steps we took to derive the balance equations. You should just be aware that an irreducible, aperiodic, finite state Markov Chain has exactly one stationary distribution.\n",
    "\n",
    "This is particularly helpful if you happen to guess a solution to the balance equations. If the solution that you have guessed is a probability distribution, you have found the stationary distribution of the chain."
   ]
  },
  {
   "cell_type": "markdown",
   "metadata": {},
   "source": [
    "### Expected Long Run Proportion of Time ###\n",
    "Let $j$ be a state, and let $I_m(j)$ be the indicator of the event $\\{X_m = j\\}$. The *proportion of time the chain spends at $j$*, from time 1 through time $n$, is\n",
    "\n",
    "$$\n",
    "\\frac{1}{n} \\sum_{m=1}^n I_m(j)\n",
    "$$\n",
    "\n",
    "Therefore, the *expected proportion of time the chain spends at $j$*, given that it started at $i$, is\n",
    "\n",
    "$$\n",
    "\\frac{1}{n} \\sum_{m=1}^n E(I_m(j) \\mid X_0 = i) \n",
    "= \\frac{1}{n} \\sum_{m=1}^n P(X_m = j \\mid X_0 = i) \n",
    "= \\frac{1}{n} \\sum_{m=1}^n P_m(i, j)\n",
    "$$\n",
    "\n",
    "Now recall a property of convergent sequences of real numbers: If $x_n \\to x$ as $n \\to \\infty$, then the sequence of averages also converges to $x$:\n",
    "$$\n",
    "\\frac{1}{n} \\sum_{m=1}^n x_m \\to x ~~~ \\text{as } n \\to \\infty\n",
    "$$\n",
    "\n",
    "Take $x_n = P_n(i, j)$. Then by the theorem on convergence to stationarity,\n",
    "\n",
    "$$\n",
    "P_n(i, j) \\to \\pi(j) ~~~ \\text{as } n \\to \\infty\n",
    "$$\n",
    "and hence the averages also converge:\n",
    "$$\n",
    "\\frac{1}{n} \\sum_{m=1}^n P_m(i, j) \\to \\pi(j) ~~~ \\text{as } n \\to \\infty\n",
    "$$\n",
    "\n",
    "**Thus the long run expected proportion of time the chain spends in state $j$ is $\\pi(j)$, where $\\pi$ is the stationary distribution of the chain.**\n",
    "\n",
    "For example, the lazy reflecting random walk of this section is expected to spend about 12.5% of its time at state 1, 25% of its time at each of states 2, 3, and 4, and the remaining 12.5% of its time at state 5."
   ]
  },
  {
   "cell_type": "code",
   "execution_count": null,
   "metadata": {
    "collapsed": true
   },
   "outputs": [],
   "source": []
  }
 ],
 "metadata": {
  "kernelspec": {
   "display_name": "Python [Root]",
   "language": "python",
   "name": "Python [Root]"
  },
  "language_info": {
   "codemirror_mode": {
    "name": "ipython",
    "version": 3
   },
   "file_extension": ".py",
   "mimetype": "text/x-python",
   "name": "python",
   "nbconvert_exporter": "python",
   "pygments_lexer": "ipython3",
   "version": "3.5.2"
  }
 },
 "nbformat": 4,
 "nbformat_minor": 0
}
