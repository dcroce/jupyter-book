{
 "cells": [
  {
   "cell_type": "code",
   "execution_count": 1,
   "metadata": {
    "collapsed": true
   },
   "outputs": [],
   "source": [
    "# HIDDEN\n",
    "from datascience import *\n",
    "from prob140 import *\n",
    "import numpy as np\n",
    "import matplotlib.pyplot as plt\n",
    "plt.style.use('fivethirtyeight')\n",
    "%matplotlib inline\n",
    "from scipy import stats"
   ]
  },
  {
   "cell_type": "markdown",
   "metadata": {},
   "source": [
    "$$\n",
    "\\newcommand{\\mat}[1]{\\mathop{#1}_{\\sim}}\n",
    "\\newcommand{\\bsymb}[1]{\\boldsymbol{#1}}\n",
    "$$"
   ]
  },
  {
   "cell_type": "markdown",
   "metadata": {},
   "source": [
    "### Best Predictor ###\n",
    "We end with a solution to a problem of prediction based on more than one predictor.\n",
    "\n",
    "Let $p$ (for *predictors*) be a positive integer. Suppose the random vector\n",
    "\n",
    "$$\n",
    "\\begin{bmatrix}\n",
    "Y \\\\\n",
    "X_1 \\\\\n",
    "X_2 \\\\\n",
    "\\vdots \\\\\n",
    "X_p\n",
    "\\end{bmatrix}\n",
    "$$\n",
    "\n",
    "is multivariate normal, and suppose we are trying to predict $Y$ based on the $p$ predictor variables \n",
    "\n",
    "$$\n",
    "\\mat{X} ~ = ~ \n",
    "\\begin{bmatrix}\n",
    "X_1 \\\\\n",
    "X_2 \\\\\n",
    "\\vdots \\\\\n",
    "X_p\n",
    "\\end{bmatrix}\n",
    "$$\n",
    "\n",
    "You will recognize the following as extensions of results you know well from predicting $Y$ based on a single $X$.\n",
    "- The conditional distribution of $Y$ given $\\mat{X} = \\mat{x}$ is normal.\n",
    "- The conditional expectation of $Y$ given $\\mat{X}$ is the least squares predictor of $Y$ given $\\mat{X}$.\n",
    "- The conditional expectation of $Y$ given $\\mat{X}$ is linear, and hence the best overall predictor (by the criterion of least squares) is the same as the best linear predictor. \n",
    "\n",
    "To complete the specification of the normal conditional distribution of $Y$ given $\\mat{X}$, we have to identify the conditional mean and the conditional variance. We will not derive these quantities, but we will demonstrate how their formulas are clear analogs of the familiar calculations when there is only one predictor variable."
   ]
  },
  {
   "cell_type": "markdown",
   "metadata": {},
   "source": [
    "To keep our variables organized and our notation compact, we will *partition* the random vector and its mean vector.\n",
    "\n",
    "$$\n",
    "\\begin{bmatrix}\n",
    "Y \\\\\n",
    "X_1 \\\\\n",
    "X_2 \\\\\n",
    "\\vdots \\\\\n",
    "X_p\n",
    "\\end{bmatrix}\n",
    "~ = ~ \n",
    "\\begin{bmatrix}\n",
    "Y \\\\\n",
    "\\mat{X}\n",
    "\\end{bmatrix}\n",
    "~~~~~~~~~~~~~~~\n",
    "\\begin{bmatrix}\n",
    "\\mu_Y \\\\\n",
    "\\mu_{X_1} \\\\\n",
    "\\mu_{X_2} \\\\\n",
    "\\vdots \\\\\n",
    "\\mu_{X_p}\n",
    "\\end{bmatrix}\n",
    "~ = ~ \n",
    "\\begin{bmatrix}\n",
    "\\mu_Y \\\\\n",
    "\\mat{\\mu_X}\n",
    "\\end{bmatrix}\n",
    "$$\n",
    "\n",
    "We can partition the covariance matrix as well, according to the demarcating lines shown below."
   ]
  },
  {
   "cell_type": "markdown",
   "metadata": {},
   "source": [
    "$$\n",
    "\\left[\\begin{array}{c|cccc}\n",
    "\\sigma_Y^2 & \\sigma_{Y, X_1} & \\sigma_{Y, X_2} & \\cdots & \\sigma_{Y, X_p}\\\\ \\hline\n",
    "\\sigma_{X_1, Y} & \\sigma_{X_1}^2 & \\sigma_{X_1, X_3} & \\cdots & \\sigma_{X_2, X_p} \\\\ \n",
    "\\vdots & \\vdots & \\ddots &\\vdots & \\vdots \\\\ \n",
    "\\sigma_{X_p, Y} & \\sigma_{X_p, X_1} & \\sigma_{X_p, X_2} & \\cdots & \\sigma_{X_p}^2 \\\\\n",
    "\\end{array}\\right]\n",
    "~ = ~ \n",
    "\\left[\\begin{array}{c|c}\n",
    "\\sigma_Y^2& \\bsymb{\\Sigma_{Y,X}} \\\\ \\hline\n",
    "\\bsymb{\\Sigma_{X,Y}} & \\bsymb{\\Sigma_{X,X}}\\\\\n",
    "\\end{array}\\right]\n",
    "$$"
   ]
  },
  {
   "cell_type": "markdown",
   "metadata": {},
   "source": [
    "- The top left (1, 1) element is the variance of $Y$. \n",
    "- The bottom right hand $p \\times p$ matrix $\\bsymb{\\Sigma_{X,X}}$ is a covariance matrix in its own right. It is the covariance matrix of the $p$ predictor variables.\n",
    "- The top right hand row vector $\\bsymb{\\Sigma_{Y,X}}$ and bottom left hand column vector $\\bsymb{\\Sigma_{X,Y}}$ are transposes of each other. Each contains the covariance of the response variable $Y$ with each of the predictor variables."
   ]
  },
  {
   "cell_type": "markdown",
   "metadata": {},
   "source": [
    "### Conditional Expectation ###\n",
    "We will start by recalling how to predict $Y$ based on one predictor variable $X$. As in previous sections, let $a^*$ be the slope of the regression line. Our first step is to write $a^*$ in terms of elements of elements of the covariance matrix of $X$ and $Y$.\n",
    "\n",
    "$$\n",
    "a^* ~ = ~ \\rho \\frac{\\sigma_Y}{\\sigma_X} ~ = ~ \\frac{\\sigma_{X,Y}}{\\sigma_X \\sigma_Y} \\cdot \\frac{\\sigma_Y}{\\sigma_X} ~ = ~ \\sigma_{Y,X}({\\sigma_X^2})^{-1}\n",
    "$$\n",
    "\n",
    "The equation of the regression line is\n",
    "\n",
    "\\begin{align*}\n",
    "E(Y \\mid X = x) ~ &= ~ a^*x + (\\mu_Y - a^*\\mu_X) \\\\\n",
    "&= ~ a^*(x - \\mu_X) + \\mu_Y \\\\\n",
    "&= ~ \\sigma_{Y,X}({\\sigma_X^2})^{-1}(x - \\mu_X) + \\mu_Y\n",
    "\\end{align*}\n",
    "\n",
    "To extend this result to the case where $\\mat{X}$ has $p$ components, replace each of the quantities in the formula by its matrix counterpart.\n",
    "\n",
    "#### Regression of $Y$ on $\\mat{X}$ ####\n",
    "$$\n",
    "E(Y \\mid \\mat{X} = \\mat{x}) ~ = ~ \\bsymb{\\Sigma_{Y,X}}\\bsymb{\\Sigma_{X,X}}^{-1}\n",
    "\\big{(} \\mat{x} - \\mat{\\mu_X} \\big{)} + \\mu_Y\n",
    "$$\n",
    "\n",
    "The result should be quite believable though we have proved it only in the case of one predictor variable. There are several ways to prove it in the general case. One way is to use the division rule to find the conditional density of $Y$ given $X$. A more insightful way is to write multivariate normal variables in terms of independent normal variables and then make use of the independence just as we did when we had one predictor.\n",
    "\n",
    "Whether or not you go through the proof in the future, keep in mind that order matters when you are multiplying matrices: you can only multiply matrices if their shapes allow it. In the formula for $E(Y \\mid \\mat{X} = \\mat{x})$, the mean $\\mu_Y$ is a scalar. So $\\bsymb{\\Sigma_{Y,X}}\\bsymb{\\Sigma_{X,X}}^{-1}\n",
    "\\big{(} \\mat{x} - \\mat{\\mu_X} \\big{)}$ had better be a scalar as well. It is, because:\n",
    "- $\\bsymb{\\Sigma_{Y,X}}$ is a $1 \\times p$ row vector\n",
    "- $\\bsymb{\\Sigma_{X,X}}^{-1}$ is a $p \\times p$ matrix\n",
    "- $\\big{(} \\mat{x} - \\mat{\\mu_X} \\big{)}$ is a $p \\times 1$ column vector"
   ]
  },
  {
   "cell_type": "markdown",
   "metadata": {},
   "source": [
    "### Conditional Variance ###\n",
    "Return to predicting $Y$ based on just one variable $X$, and this time write $\\rho^2$ in terms of elements of the covariance matrix of $X$ and $Y$.\n",
    "\n",
    "$$\n",
    "\\rho^2 ~ = ~ \\frac{\\sigma_{X,Y}^2}{\\sigma_X^2 \\sigma_Y^2} ~ = ~ \n",
    "\\sigma_{Y,X}({\\sigma_X^2})^{-1}\\sigma_{X,Y}({\\sigma_Y^2})^{-1}\n",
    "$$\n",
    "Thus for every $x$,\n",
    "$$\n",
    "Var(Y \\mid X = x) ~ = ~ (1 - \\rho^2)\\sigma_Y^2 ~ = ~ \\sigma_Y^2 - \\rho^2\\sigma_Y^2 ~ = ~ \n",
    "\\sigma_Y^2 - \\sigma_{Y,X}({\\sigma_X^2})^{-1}\\sigma_{X,Y}\n",
    "$$\n",
    "\n",
    "As before, replace each of the quantities above by its matrix counterpart to extend the result to the case of $p$ predictors.\n",
    "\n",
    "#### Mean Square Error of Regression ####\n",
    "$$\n",
    "Var(Y \\mid \\mat{X} = \\mat{x}) ~ = ~ \n",
    "\\sigma_Y^2 ~ - ~ \\bsymb{\\Sigma_{Y,X}}(\\bsymb{\\Sigma_{X,X}})^{-1}\\bsymb{\\Sigma_{X,Y}}\n",
    "$$"
   ]
  },
  {
   "cell_type": "code",
   "execution_count": null,
   "metadata": {
    "collapsed": true
   },
   "outputs": [],
   "source": []
  }
 ],
 "metadata": {
  "anaconda-cloud": {},
  "kernelspec": {
   "display_name": "Python 3",
   "language": "python",
   "name": "python3"
  },
  "language_info": {
   "codemirror_mode": {
    "name": "ipython",
    "version": 3
   },
   "file_extension": ".py",
   "mimetype": "text/x-python",
   "name": "python",
   "nbconvert_exporter": "python",
   "pygments_lexer": "ipython3",
   "version": "3.6.4"
  }
 },
 "nbformat": 4,
 "nbformat_minor": 1
}
