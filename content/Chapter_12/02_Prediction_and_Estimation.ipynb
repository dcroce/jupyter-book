{
 "cells": [
  {
   "cell_type": "code",
   "execution_count": 1,
   "metadata": {
    "collapsed": true
   },
   "outputs": [],
   "source": [
    "# HIDDEN\n",
    "from datascience import *\n",
    "from prob140 import *\n",
    "import numpy as np\n",
    "import matplotlib.pyplot as plt\n",
    "plt.style.use('fivethirtyeight')\n",
    "%matplotlib inline\n",
    "import math\n",
    "from scipy import stats\n",
    "from scipy import misc"
   ]
  },
  {
   "cell_type": "markdown",
   "metadata": {},
   "source": [
    "## Prediction and Estimation ##"
   ]
  },
  {
   "cell_type": "markdown",
   "metadata": {},
   "source": [
    "One way to think about the SD is in terms of errors in prediction. Suppose I am going to generate a value of the random variable $X$, and I ask you to predict the value I am going to get. What should you use as your predictor?\n",
    "\n",
    "A natural choice is $\\mu_X$, the expectation of $X$. But you could choose any number $c$. The error that you will make is $X - c$. About how big is that? For most reasonable choices of $c$, the error will sometimes be positive and sometimes negative. To find the rough size of this error, we will avoid cancellation as before, and start by calculating the *mean squared error* $E[(X-c)^2]$.\n",
    "\n",
    "Because we have guessed that $\\mu_X$ might be a good choice, we will organize the algebra around that value. The mean squared error using $c$ as your predictor is\n",
    "\n",
    "$$\n",
    "\\begin{align*}\n",
    "E\\big{[}(X - c)^2\\big{]} &= E\\big{[} \\big{(} (X - \\mu_X) + (\\mu_X - c) \\big{)}^2 \\big{]} \\\\\n",
    "&= E\\big{[} (X - \\mu_X)^2 \\big{]} +2(\\mu_X - c)E\\big{[} (X-\\mu_X) \\big{]} + (\\mu_X -c)^2 \\\\\n",
    "&= \\sigma_X^2 + 0 + (\\mu_X -c)^2 \\\\\n",
    "&\\ge \\sigma_X^2\n",
    "\\end{align*}\n",
    "$$\n",
    "\n",
    "with equality if and only if $c = \\mu_X$."
   ]
  },
  {
   "cell_type": "markdown",
   "metadata": {},
   "source": [
    "### The Mean as a Least Squares Predictor ###\n",
    "What we have shown is the predictor $\\mu_X$ has the smallest mean squared error among all choices $c$. That smallest mean squared error is the variance of $X$, and hence the smallest root mean squared error is the SD $\\sigma_X$.\n",
    "\n",
    "This is why a common approach to prediction is, \"My guess is the mean, and I'll be off by about an SD.\" "
   ]
  },
  {
   "cell_type": "markdown",
   "metadata": {
    "collapsed": true
   },
   "source": [
    "### Comparing Estimates ###\n",
    "If we have two competing estimators of a parameter, we can use expected values and SDs to compare them. \n",
    "\n",
    "As an example, recall the German warplanes example of Data 8. The model was that we were observing $X_1, X_2, \\ldots , X_n$, which are $n$ draws made at random with replacement from $1, 2, \\ldots , N$. The goal was to estimate $N$, the total number of warplanes.\n",
    "\n",
    "One natural estimate is $M = \\max(X_1, X_2, \\ldots , X_n)$. The other, developed more carefully earlier in this text than in Data 8, is $2A - 1$\n",
    "where \n",
    "\n",
    "$$\n",
    "A = \\frac{X_1 + X_2 + \\ldots + X_n}{n}\n",
    "$$ \n",
    "\n",
    "is the sample average.\n",
    "\n",
    "Here is the simulation we did in Data 8, using a sample of size 30 to estimate $N$ which we had taken to be 300."
   ]
  },
  {
   "cell_type": "code",
   "execution_count": 2,
   "metadata": {
    "collapsed": true
   },
   "outputs": [],
   "source": [
    "N = 300\n",
    "n = 30\n",
    "serial_nos = np.arange(1, N+1)\n",
    "\n",
    "repetitions = 10000\n",
    "maxes = make_array()\n",
    "double_means = make_array()\n",
    "for i in range(repetitions):\n",
    "    sample = np.random.choice(serial_nos, size=n)\n",
    "    maxes = np.append(maxes, np.max(sample))\n",
    "    double_means = np.append(double_means, 2*np.mean(sample)-1)\n",
    "\n",
    "results = Table().with_columns(\n",
    "    'M', maxes,\n",
    "    '2A - 1', double_means\n",
    ")"
   ]
  },
  {
   "cell_type": "code",
   "execution_count": 3,
   "metadata": {},
   "outputs": [
    {
     "name": "stderr",
     "output_type": "stream",
     "text": [
      "/Users/dominiccroce/anaconda3/envs/textbook/lib/python3.6/site-packages/matplotlib/axes/_axes.py:6462: UserWarning: The 'normed' kwarg is deprecated, and has been replaced by the 'density' kwarg.\n",
      "  warnings.warn(\"The 'normed' kwarg is deprecated, and has been \"\n"
     ]
    },
    {
     "data": {
      "image/png": "[encoded data removed]",
      "text/plain": [
       "<Figure size 432x288 with 1 Axes>"
      ]
     },
     "metadata": {},
     "output_type": "display_data"
    }
   ],
   "source": [
    "every_ten = np.arange(1, N+101, 10)\n",
    "results.hist(bins=every_ten)"
   ]
  },
  {
   "cell_type": "markdown",
   "metadata": {},
   "source": [
    "We constructed the estimator $2A - 1$ to be unbiased, and indeed its empirical distribution is symmetric around the parameter 300. The estimator $M$ is clearly biased: it can never be larger than $N$ but it can be smaller. If we just compare expectations, then $E(2A-1) = 300$ while $E(M) \\ne 300$, so it seems as though $2A-1$ is the better estimate.\n",
    "\n",
    "But the graph tells a different story, because the graph also shows the spread in each of the two distributions. The distribution of $2A-1$ is much more spread out than the distribution of $M$. The two empirical SDs differ by a factor of around 3.5:"
   ]
  },
  {
   "cell_type": "code",
   "execution_count": 4,
   "metadata": {},
   "outputs": [
    {
     "data": {
      "text/plain": [
       "9.3922573298435559"
      ]
     },
     "execution_count": 4,
     "metadata": {},
     "output_type": "execute_result"
    }
   ],
   "source": [
    "np.std(maxes)"
   ]
  },
  {
   "cell_type": "code",
   "execution_count": 5,
   "metadata": {},
   "outputs": [
    {
     "data": {
      "text/plain": [
       "32.007300134643586"
      ]
     },
     "execution_count": 5,
     "metadata": {},
     "output_type": "execute_result"
    }
   ],
   "source": [
    "np.std(double_means)"
   ]
  },
  {
   "cell_type": "markdown",
   "metadata": {},
   "source": [
    "This tells us that though $M$ is typically going to be below 300, it won't be below by much, whereas $2A-1$ can be quite far away from 300, underestimating about as often as it overestimates.\n",
    "\n",
    "Perhaps now you'd prefer to use $M$ instead of $2A-1$.\n",
    "\n",
    "This is an example of the *bias-variance tradeoff* that is common in estimation. Both expectation and SD are important in choosing one estimator over another. As in this example, the choice isn't always clear. But if the estimator with the lower SD also happens to be unbiased, then you can declare it the winner."
   ]
  },
  {
   "cell_type": "code",
   "execution_count": 6,
   "metadata": {
    "collapsed": true
   },
   "outputs": [],
   "source": []
  }
 ],
 "metadata": {
  "anaconda-cloud": {},
  "kernelspec": {
   "display_name": "Python 3",
   "language": "python",
   "name": "python3"
  },
  "language_info": {
   "codemirror_mode": {
    "name": "ipython",
    "version": 3
   },
   "file_extension": ".py",
   "mimetype": "text/x-python",
   "name": "python",
   "nbconvert_exporter": "python",
   "pygments_lexer": "ipython3",
   "version": "3.6.4"
  }
 },
 "nbformat": 4,
 "nbformat_minor": 1
}
