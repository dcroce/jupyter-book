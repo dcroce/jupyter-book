{
 "cells": [
  {
   "cell_type": "markdown",
   "metadata": {},
   "source": [
    "### General Inclusion-Exclusion Formula ###\n",
    "For events $A_1, A_2, \\ldots, A_n$, \n",
    "\n",
    "\\begin{align*}\n",
    "P\\big{(}\\bigcup_{i=1}^n A_i \\big{)} &=\n",
    "\\sum_{i=1}^n P(A_i) - \\mathop{\\sum \\sum}_{1 \\le i < j \\le n} P(A_iA_j)\n",
    "+ \\mathop{\\sum \\sum \\sum}_{1 \\le i < j < k \\le n} P(A_iA_jA_j) - \\cdots\n",
    "+ (-1)^{n+1} P(A_1A_2 \\ldots A_n)\n",
    "\\end{align*}\n",
    "\n",
    "Let's be fearless and prove this by induction. We know that it is true for $n=2$, so we must assume the induction hypothesis that it is true for $n$ as stated above and then show the following:\n",
    "\n",
    "\n",
    "\\begin{align*}\n",
    "P\\big{(}\\bigcup_{i=1}^{n+1} A_i \\big{)} &=\n",
    "\\sum_{i=1}^{n+1} P(A_i) - \\mathop{\\sum \\sum}_{1 \\le i < j \\le n+1} P(A_iA_j)\n",
    "+ \\mathop{\\sum \\sum \\sum}_{1 \\le i < j < k \\le n+1} P(A_iA_jA_j) - \\cdots\n",
    "+ (-1)^n P(A_1A_2 \\ldots A_{n+1})\n",
    "\\end{align*}\n",
    "\n",
    "The key is to observe that each sum above splits in two parts: the terms that only involve the indices 1 through $n$, and those that involve the index $n+1$.\n",
    "\n",
    "Let $B = \\bigcup_{i=1}^n A_i$. Then\n",
    "\n",
    "\\begin{align*}\n",
    "P\\big{(}\\bigcup_{i=1}^{n+1} A_i \\big{)} &= P(B \\cup A_{n+1}) \\\\\n",
    "&= P(B) + P(A_{n+1}) - P(BA_{n+1})\n",
    "\\end{align*}\n",
    "by using the result for two events.\n",
    "\n",
    "By the induction hypothesis,\n",
    "\n",
    "\\begin{align*}\n",
    "P(B) &=\n",
    "\\sum_{i=1}^n P(A_i) - \\mathop{\\sum \\sum}_{1 \\le i < j \\le n} P(A_iA_j)\n",
    "+ \\mathop{\\sum \\sum \\sum}_{1 \\le i < j < k \\le n} P(A_iA_jA_j) - \\cdots\n",
    "+ (-1)^{n+1} P(A_1A_2 \\ldots A_n)\n",
    "\\end{align*}\n",
    "\n",
    "That means we've already got all the terms that involve on the indices 1 through $n$. Now we need only the terms that involve $A_{n+1}$. We can see one of those: $P(A_{n+1})$. That completes the first term in the right hand side of what we have to prove, which is the sum of all $n+1$ probabilities.\n",
    "\n",
    "To complete the second sum, we need all terms of the form $P(A_iA_{n+1})$, and we have to remember the negative sign. These terms must come from the term $-P(BA_{n+1})$. How?\n",
    "\n",
    "Notice that\n",
    "$$\n",
    "BA_{n+1} = \\big{(}\\bigcup_{i=1}^n A_i \\big{)} \\cap A_{n+1}\n",
    "= \\bigcup_{i=1}^n A_iA_{n+1}\n",
    "$$\n",
    "\n",
    "That is a union of $n$ events, so we can use the induction hypothesis to find it by inclusion-exclusion. Notice that \n",
    "$$\n",
    "(A_iA_{n+1})\\cap(A_jA_{n+1}) = A_iA_jA_{n+1}\n",
    "$$\n",
    "\n",
    "So\n",
    "\n",
    "\\begin{align*}\n",
    "-P(BA_{n+1}) &= -P(\\bigcup_{i=1}^n A_iA_{n+1}) \\\\\n",
    "&= -\\sum_{i=1}^n P(A_iA_{n+1}) + \\mathop{\\sum \\sum}_{1 \\le i < j \\le n} P(A_iA_jA_{n+1}) + \\cdots + (-1)^n P(A_1A_2 \\ldots A_{n+1})\n",
    "\\end{align*}\n",
    "\n",
    "These are exactly the remaining terms that we need. The induction is complete."
   ]
  },
  {
   "cell_type": "code",
   "execution_count": null,
   "metadata": {
    "collapsed": true
   },
   "outputs": [],
   "source": []
  }
 ],
 "metadata": {
  "anaconda-cloud": {},
  "kernelspec": {
   "display_name": "Python [Root]",
   "language": "python",
   "name": "Python [Root]"
  },
  "language_info": {
   "codemirror_mode": {
    "name": "ipython",
    "version": 3
   },
   "file_extension": ".py",
   "mimetype": "text/x-python",
   "name": "python",
   "nbconvert_exporter": "python",
   "pygments_lexer": "ipython3",
   "version": "3.5.2"
  }
 },
 "nbformat": 4,
 "nbformat_minor": 0
}
