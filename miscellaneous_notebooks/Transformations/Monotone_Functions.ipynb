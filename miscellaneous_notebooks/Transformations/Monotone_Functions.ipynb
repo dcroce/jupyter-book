{
 "cells": [
  {
   "cell_type": "code",
   "execution_count": 2,
   "metadata": {
    "collapsed": true
   },
   "outputs": [],
   "source": [
    "# HIDDEN\n",
    "from datascience import *\n",
    "from prob140 import *\n",
    "import numpy as np\n",
    "import matplotlib.pyplot as plt\n",
    "plt.style.use('fivethirtyeight')\n",
    "%matplotlib inline\n",
    "import math\n",
    "from scipy import stats"
   ]
  },
  {
   "cell_type": "markdown",
   "metadata": {},
   "source": [
    "### Monotone Functions ###\n",
    "Let $X$ have density $f_X$. Let $g$ be a smooth (that is, differentiable) increasing function, and let $Y = g(X)$. Examples of such functions $g$ are:\n",
    "- $g(x) = ax + b$ for some $a > 0$. This case was covered in the previous section.\n",
    "- $g(x) = e^x$\n",
    "- $g(x) = \\sqrt{x}$ on positive values of $x$\n",
    "\n",
    "To find a formula for the density of $Y$ in terms of $f_X$ and $g$, we will use the same approach as in the previous section.\n",
    "\n",
    "- For $Y$ to be $y$, $X$ has to be $g^{-1}(y)$.\n",
    "- Now $g$ need not be linear, so the tranformation by $g$ won't necessarily stretch the horizontal axis by a constant factor. Instead, the factor has different values at each $x$. If $g'$ denotes the derivative of $g$, then the stretch factor at $x$ is $g'(x)$, the rate of change of $g$ at $x$. To make the total area under the density equal to 1, we have to compensate by dividing by $g'(x)$. This is valid because $g$ is increasing and hence $g'$ is positive.\n",
    "\n",
    "Thus we have an intuitive justification for the following formula."
   ]
  },
  {
   "cell_type": "markdown",
   "metadata": {},
   "source": [
    "### Change of Variable Formula for Density: Increasing Function ###\n",
    "The density of $Y = g(X)$ is given by\n",
    "$$\n",
    "f_Y(y) ~ = ~ f_X(x) \\cdot \\frac{1}{g'(x)} ~~~ \\text{at } x = g^{-1}(y)\n",
    "$$"
   ]
  },
  {
   "cell_type": "markdown",
   "metadata": {},
   "source": [
    "Before we formally establish the formula, let's use it in an example so that we understand all its component parts."
   ]
  },
  {
   "cell_type": "markdown",
   "metadata": {},
   "source": [
    "### Log-normal Density ###\n",
    "Let $Z$ be a standard normal random variable and suppose $\\mu$ and $\\sigma$ are constants with $\\sigma > 0$. Let $Y = e^{\\sigma Z + \\mu}$. Then $Y$ is a random variable *whose $\\log$ is normal* and hence its density is known as *log-normal*.\n",
    "\n",
    "To find the density of $Y$, first note that the possible values of $Y$ are in $(0, \\infty)$. Here are the components of the change of variable formula.\n",
    "\n",
    "- Define $g(z) = e^{\\sigma z + \\mu}$. Then $g$ is increasing because $\\sigma > 0$.\n",
    "- The derivative of $g$ is given by $g'(z) = \\sigma e^{\\sigma z + \\mu}$.\n",
    "- For $y > 0$ let $y = g(z) = e^{\\sigma z + \\mu}$. Then $z = g^{-1}(y) = \\frac{\\log(y) - \\mu}{\\sigma}$.\n",
    "- The density of $Z$ is $\\phi(z) = \\frac{1}{\\sqrt{2\\pi}} e^{-\\frac{1}{2}z^2}$.\n",
    "\n",
    "For $y > 0$ our formula says\n",
    "$$\n",
    "f_Y(y) ~ = ~ \\phi(z) \\frac{1}{g'(z)} ~~~ \\text{at } z = g^{-1}(y)\n",
    "$$\n",
    "So\n",
    "\n",
    "$$\n",
    "f_Y(y) ~ = ~ \\frac{1}{\\sqrt{2\\pi}} e^{-\\frac{1}{2}z^2} \\frac{1}{\\sigma e^{\\sigma z + \\mu}}\n",
    "~~~ \\text{at } z = g^{-1}(y) \n",
    "$$\n",
    "\n",
    "At $z = g^{-1}(y) = \\frac{\\log(y) - \\mu}{\\sigma}$ we have $\\sigma z + \\mu = \\log(y)$ and hence $e^{\\sigma z + \\mu} = y$.\n",
    "\n",
    "Hence for $y > 0$,\n",
    "$$\n",
    "f_Y(y) ~ = ~ \\frac{1}{\\sqrt{2\\pi}\\sigma y} e^{-\\frac{1}{2} \\big{(} \\frac{\\log(y) - \\mu}{\\sigma} \\big{)}^2}\n",
    "$$"
   ]
  },
  {
   "cell_type": "code",
   "execution_count": 14,
   "metadata": {
    "collapsed": false
   },
   "outputs": [
    {
     "data": {
      "image/png": "[encoded data removed]",
      "text/plain": [
       "<matplotlib.figure.Figure at 0x1195fd128>"
      ]
     },
     "metadata": {},
     "output_type": "display_data"
    }
   ],
   "source": [
    "# HIDDEN\n",
    "x = np.arange(0, 8.01, 0.01)\n",
    "y = stats.lognorm.pdf(x, s=1, loc=0, scale=np.exp(0))\n",
    "plt.plot(x, y, color='darkblue', lw=2)\n",
    "plt.xlabel('$s$')\n",
    "plt.ylabel('$f_S(s)$', rotation=0)\n",
    "plt.title('Log-normal Density: $\\mu = 0$, $\\sigma = 1$');"
   ]
  },
  {
   "cell_type": "markdown",
   "metadata": {},
   "source": [
    "A log-normal density can be used as an approximation for the density of a product of a large number of i.i.d. random variables. The log of the product is the sum of a large number of i.i.d. variables, and hence is approximately normal by the Central Limit Theorem."
   ]
  },
  {
   "cell_type": "markdown",
   "metadata": {},
   "source": [
    "### Proof of Formula ###\n",
    "Let $g$ be smooth and increasing, and let $Y = g(X)$. We want a formula for $f_Y$. We can derive it by using the cdf as we did for linear functions.\n",
    "\n",
    "\\begin{align*}\n",
    "F_Y(y) ~ & = ~ P(Y \\le y) \\\\\n",
    "&= ~ P(g(X) \\le y) \\\\\n",
    "&= ~ P(X \\le g^{-1}(y)) ~~~~ g \\text{ is increasing} \\\\\n",
    "&= ~ F_X(g^{-1}(y))\n",
    "\\end{align*}\n",
    "\n",
    "By the chain rule and the fact that the derivative of an inverse is the reciprocal of the derivative,\n",
    "$$\n",
    "f_Y(y) ~ = ~ f_X(g^{-1}(y)) \\frac{d}{dy} g^{-1}(y)\n",
    "~ = ~ f_X(x) \\frac{1}{g'(x)} ~ \\text{at } x = g^{-1}(y)\n",
    "$$"
   ]
  },
  {
   "cell_type": "markdown",
   "metadata": {},
   "source": [
    "### Change of Variable Formula for Density: Monotone Function ###\n",
    "Let $g$ be smooth and monotone (that is, either increasing or decreasing). The density of $Y = g(X)$ is given by\n",
    "\n",
    "$$\n",
    "f_Y(y) ~ = ~ f_X(x) \\cdot \\frac{1}{\\lvert g'(x) \\rvert} ~~~ \\text{at } x = g^{-1}(y)\n",
    "$$\n",
    "\n",
    "We have proved the result for increasing $g$. When $g$ is decreasing, the proof is analogous to proof in the linear case and accounts for $g'$ being negative. We won't take the time to write it out."
   ]
  },
  {
   "cell_type": "markdown",
   "metadata": {},
   "source": [
    "### Reciprocal of a Uniform Variable ###\n",
    "Let $U$ be uniform on $(0, 1)$ and let $V = 1/U$. The distribution of $V$ is called the *inverse uniform* but the word \"inverse\" is confusing in the context of change of variable. So we will simply call $V$ the reciprocal of $U$.\n",
    "\n",
    "To find the density of $V$, start by noticing that the possible values of $V$ are in $(1, \\infty)$ as the possible values of $U$ are in $(0, 1)$.\n",
    "\n",
    "The components of the change of variable formula for densities:\n",
    "- Define $g(u) = 1/u$.\n",
    "- Then $g'(u) = -u^{-2}$.\n",
    "- Let $v = g(u) = 1/u$. Then $u = g^{-1}(v) = 1/v$.\n",
    "- $f_U(u) = 1$ for $0 < u < 1$.\n",
    "\n",
    "By the formula, for $v > 1$ we have\n",
    "$$\n",
    "f_V(v) ~ = ~ f_U(u) \\cdot \\frac{1}{\\lvert g'(u) \\rvert} ~~~ \\text{at } u = g^{-1}(v)\n",
    "$$\n",
    "\n",
    "That is, for $v > 1$,\n",
    "$$\n",
    "f_V(v) ~ = ~ 1 \\cdot u^2 ~~~ \\text{at } u = 1/v\n",
    "$$\n",
    "So \n",
    "$$\n",
    "f_V(v) ~ = ~ \\frac{1}{v^2}, ~~~ v > 1\n",
    "$$\n",
    "\n",
    "You should check that $f_V$ is indeed a density, that is, it integrates to 1. You should also check that the expectation of $V$ is infinite."
   ]
  },
  {
   "cell_type": "code",
   "execution_count": 19,
   "metadata": {
    "collapsed": false
   },
   "outputs": [
    {
     "data": {
      "image/png": "[encoded data removed]",
      "text/plain": [
       "<matplotlib.figure.Figure at 0x11a0d6278>"
      ]
     },
     "metadata": {},
     "output_type": "display_data"
    }
   ],
   "source": [
    "# HIDDEN\n",
    "v = np.arange(1, 10, 0.01)\n",
    "y = 1/v**2\n",
    "plt.plot(v, y, color='darkblue', lw=2)\n",
    "plt.plot([-0.5, 1], [0, 0], color='darkblue', lw=2 )\n",
    "plt.ylim(-0.05, 1.05)\n",
    "plt.xlim(-0.5, 10)\n",
    "plt.xlabel('$v$')\n",
    "plt.ylabel('$f_V(v)$', rotation=0)\n",
    "plt.title('Density of Reciprocal of Uniform (0, 1)');"
   ]
  },
  {
   "cell_type": "code",
   "execution_count": null,
   "metadata": {
    "collapsed": true
   },
   "outputs": [],
   "source": []
  }
 ],
 "metadata": {
  "anaconda-cloud": {},
  "kernelspec": {
   "display_name": "Python 3",
   "language": "python",
   "name": "python3"
  },
  "language_info": {
   "codemirror_mode": {
    "name": "ipython",
    "version": 3
   },
   "file_extension": ".py",
   "mimetype": "text/x-python",
   "name": "python",
   "nbconvert_exporter": "python",
   "pygments_lexer": "ipython3",
   "version": "3.5.1"
  }
 },
 "nbformat": 4,
 "nbformat_minor": 0
}
