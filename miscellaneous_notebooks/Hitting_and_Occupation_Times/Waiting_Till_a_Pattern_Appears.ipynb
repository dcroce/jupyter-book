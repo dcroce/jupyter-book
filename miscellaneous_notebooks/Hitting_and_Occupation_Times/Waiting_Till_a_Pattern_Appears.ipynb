{
 "cells": [
  {
   "cell_type": "code",
   "execution_count": 1,
   "metadata": {
    "collapsed": true
   },
   "outputs": [],
   "source": [
    "# HIDDEN\n",
    "from datascience import *\n",
    "from prob140 import *\n",
    "import numpy as np\n",
    "import matplotlib.pyplot as plt\n",
    "plt.style.use('fivethirtyeight')\n",
    "%matplotlib inline\n",
    "import math\n",
    "from scipy import stats\n",
    "from scipy import misc"
   ]
  },
  {
   "cell_type": "markdown",
   "metadata": {},
   "source": [
    "### Waiting Till a Pattern Appears ###\n",
    "You already know how to do this for short patterns, but Markov Chain methods will help you organize and extend your calculations. Here we will set up a way of using Markov Chains to find the expected waiting time till a particular pattern appears in a sequence of i.i.d. trials. The method is based on conditioning on the first move of the chain, so we have been calling it \"conditioning on the first move.\" In Markov Chain terminology, the method is called \"first step analysis.\""
   ]
  },
  {
   "cell_type": "markdown",
   "metadata": {},
   "source": [
    "### Waiting Till HTH ###\n",
    "Suppose you toss a coin that lands heads with probability $p$. Lazily, we will call it a $p$-coin. What is the expected number of tosses till you see the pattern HTH? You know how to do this by conditioning on the first few moves. Let's do that calculation in the language of Markov Chains, and you will see how to generalize it to any pattern.\n",
    "\n",
    "Imagine the sequence of heads and tails, and at time $n \\ge 1$, let $X_n$ keep track of where in the pattern the chain is at time $n$. That means:\n",
    "\n",
    "- Define $\\mathcal{S}$ to be the \"starting state\" where the chain is not in the pattern at all. So $X_0 = \\mathcal{S}$ with probability 1. For $n \\ge 1$, if the $n$th toss is T, look back at the $(n-1)$th toss. If that was also T, or if there wasn't an $(n-1)$th toss because $n=1$, then at time $n$ the chain is not in the pattern at all, so $X_n = \\mathcal{S}$.\n",
    "- If the $n$th toss is $H$, then check the previous two tosses; if those were HT then the wait is over, which we will define to be a different state below. If the previous two tosses weren't HT then at time $n$ the chain is one character into the pattern. We will say $X_n = H$.\n",
    "- If the $n$th toss is T and the previous toss was H, the chain is two characters into the pattern and we define $X_n = HT$.\n",
    "- If the $n$th toss is H and the previous two tosses were HT then we define $X_n = HTH$ and the wait is over.\n",
    "\n",
    "Then $X_0, X_1, X_2, \\ldots $ is a Markov Chain (you should check this) with the following transition matrix.\n",
    "\n",
    "|                      | $\\mathbf{\\mathcal{S}}$ | H   | HT  | HTH |\n",
    "|----------------------|------------------------|-----|-----|-----|\n",
    "|$\\mathbf{\\mathcal{S}}$| $q$                    | $p$ | 0   | 0   |\n",
    "|**H**                 | 0                      | $p$ | $q$ | 0   |\n",
    "|**HT**                | $q$                    | 0   | 0   | $p$ |\n",
    "|**HTH**               | 0                      | 0   | 0   | 1   |\n",
    "\n",
    "Our goal is to find \n",
    "$$\n",
    "\\mu(\\mathcal{S}) = E(W_{HTH} \\mid X_0 = \\mathcal{S})\n",
    "$$\n",
    "\n",
    "We will do this by a first step analysis, for which we will need some notation. Define:\n",
    "\n",
    "- $\\mu(H) = E(W_{HTH} \\mid X_1 = H)$\n",
    "- $\\mu(HT) = E(W_{HTH} \\mid X_1 = H, X_2 = T)$\n",
    "\n",
    "Then we get a system of equations.\n",
    "\n",
    "\\begin{align*} \n",
    "\\mu(\\mathcal{S}) &= q(1 + \\mu(\\mathcal{S})) + p(1 + \\mu(H))\\\\\n",
    "\\mu(H) &= p(1 + \\mu(H)) + q(1 + \\mu(HT)) \\\\\n",
    "\\mu(HT) &= p + q(1 + \\mu(\\mathcal{S}))\n",
    "\\end{align*}\n",
    "\n",
    "That's three equations in three unknowns. Let's simplify each of them. Notice that each of the simplified equations says that the chain has to go 1 more step, and then there is some additional amount of time to account for. The accounting is done by weighting those additional expected times according to which state the chain entered at the first step.\n",
    "\n",
    "\\begin{align*} \n",
    "\\mu(\\mathcal{S}) &= 1 + q\\mu(S) + p\\mu(H)\\\\\n",
    "\\mu(H) &= 1 + p\\mu(H) + q\\mu(HT) \\\\\n",
    "\\mu(HT) &= 1 + q\\mu(\\mathcal{S})\n",
    "\\end{align*}\n",
    "\n",
    "To solve such systems of equations it is usually simplest to write each of the unknowns in terms of $\\mu(\\mathcal{S})$ which is the one we want to find. One standard way is to start with the first equation and write $\\mu(H)$ in terms of $\\mu(\\mathcal{S})$, then plug that into the next equation, and so on:\n",
    "\n",
    "$$\n",
    "\\mu(H) = \\mu(\\mathcal{S}) - \\frac{1}{p}\n",
    "$$\n",
    "and so\n",
    "$$\n",
    "\\mu(HT) = \\mu(H) - \\frac{1}{q} = \\mu(\\mathcal{S}) - \\frac{1}{p} - \\frac{1}{q}\n",
    "$$\n",
    "\n",
    "The third equation gives another expression for $\\mu(HT)$, so equate the two:\n",
    "\n",
    "$$\n",
    "\\mu(\\mathcal{S}) - \\frac{1}{p} - \\frac{1}{q} = 1 + q\\mu(\\mathcal{S})\n",
    "$$\n",
    "So\n",
    "$$\n",
    "p\\mu(\\mathcal{S}) = 1 + \\frac{1}{p} + \\frac{1}{q}\n",
    "$$\n",
    "and finally\n",
    "$$\n",
    "\\mu(\\mathcal{S}) = \\frac{1}{p} + \\frac{1}{p^2} + \\frac{1}{pq}\n",
    "$$\n",
    "\n",
    "\n",
    "For $p = 1/2$, this works out to 10. The expected number of tosses of a fair coin till you get HTH is 10.\n",
    "\n",
    "It makes sense that the answer is bigger than $1/p$, the expected waiting time till the first H. If you are so inclined, you can double check the answer by conditioning on $W_H$. You will find yourself redoing much of the work we have done here.\n",
    "\n",
    "Notice that the answer can be written as\n",
    "$$\n",
    "\\mu(\\mathcal{S}) = \\frac{1}{p} + \\frac{1}{p^2} + \\frac{1}{pq} = \\frac{1}{p} + \\frac{1}{pqp}\n",
    "$$\n",
    "\n",
    "That's tantalizing, as you can recognize both the pieces and will be wondering if there is a quick way to see how they fit together. There is, by a gambling interpretation involving the use of a process called a *martingale*. It's beautiful stuff but a bit of detour for us here. We'll talk a bit more about the answer at the end of this section and hope that it will inspire you to learn more about stochastic processes."
   ]
  },
  {
   "cell_type": "markdown",
   "metadata": {},
   "source": [
    "You can see that in principle this method can be extended to a pattern of any length from any alphabet from which you are making i.i.d. draws. Here is another example."
   ]
  },
  {
   "cell_type": "markdown",
   "metadata": {},
   "source": [
    "### Professor Typing GAGA ###\n",
    "Probability text books contain many examples in which monkeys are described as doing mindless repetitive tasks without learning from past results. No self-respecting monkey would do that. Even machines learn these days. In a different take on this setting, let's just pretend that a professor is having a really bad time and is spending it hitting keys of a typewriter independently at random. Assume that the keys only include the 26 upper case letters. How many times do you expect the professor to hit keys until the sequence GAGA appears?\n",
    "\n",
    "We will follow the process we developed in the previous example and use a Markov Chain whose states look back at the past few hits and keep track of the maximal progress made towards the pattern GAGA. So the states are $\\mathcal{S}$, G (this means it was not preceded by GA), GA, GAG, and GAGA. The transition probabilities are:\n",
    "\n",
    "|               | $\\mathbf{\\mathcal{S}}$ | G    | GA   | GAG  | GAGA |\n",
    "|---------------|------------------------|------|------|------|------|\n",
    "| $\\mathcal{S}$ | 25/26                  | 1/26 |  0   |  0   |  0   |\n",
    "| **G**         | 24/26                  | 1/26 | 1/26 |  0   |  0   |\n",
    "| **GA**        | 25/26                  |  0   |  0   | 1/26 |  0   |\n",
    "| **GAG**       | 24/26                  | 1/26 |  0   |  0   | 1/26 |\n",
    "| **GAGA**      | 0                      |  0   |  0   |  0   |  1   |\n",
    "\n",
    "The equations are:\n",
    "\n",
    "\\begin{align*}\n",
    "\\mu(\\mathcal{S}) &= 1 + \\frac{25}{26}\\mu(\\mathcal{S}) + \\frac{1}{26}\\mu(G) \\\\\n",
    "\\mu(G) &= 1 + \\frac{24}{26}\\mu(\\mathcal{S}) + \\frac{1}{26}\\mu(G) + \\frac{1}{26}\\mu(GA) \\\\\n",
    "\\mu(GA) &= 1 + \\frac{25}{26}\\mu(\\mathcal{S}) + \\frac{1}{26}\\mu(GAG) \\\\\n",
    "\\mu(GAG) &= 1 + \\frac{24}{26}\\mu(\\mathcal{S}) + \\frac{1}{26}\\mu(G) \n",
    "\\end{align*}\n",
    "\n",
    "Multiply all the equations by 26 and start writing all the unknowns in terms of $\\mu(\\mathcal{S})$.\n",
    "\n",
    "\\begin{align*}\n",
    "\\mu(G) &= \\mu(\\mathcal{S}) - 26 \\\\\n",
    "\\mu(GA) &= 25\\mu(G) - 24\\mu(\\mathcal{S}) - 26 = \\mu(\\mathcal{S}) - (25\\times26) - 26 \\\\\n",
    "\\mu(GAG) &= 26\\mu(GA) - 25\\mu(\\mathcal{S}) - 26 = \\mu(\\mathcal{S}) - (25\\times26\\times26) - (26\\times26) - 26\\\\\n",
    "26\\mu(GAG) &= 26 + 24\\mu(\\mathcal{S}) + \\mu(G) = 25\\mu(\\mathcal{S})\n",
    "\\end{align*}\n",
    "\n",
    "Finally, multiply the third equation above by 26 and subtract the fourth. You will get\n",
    "\n",
    "\\begin{align*}\n",
    "\\mu(\\mathcal{S}) &= (25\\times26\\times26\\times26) + (26\\times26\\times26) + (26\\times26) \\\\\n",
    "&= (26\\times26\\times26\\times26) + (26\\times26) \\\\\n",
    "&= 26^4 + 26^2 \\\\\n",
    "&= 457652\n",
    "\\end{align*}"
   ]
  },
  {
   "cell_type": "code",
   "execution_count": 2,
   "metadata": {
    "collapsed": false
   },
   "outputs": [
    {
     "data": {
      "text/plain": [
       "457652"
      ]
     },
     "execution_count": 2,
     "metadata": {},
     "output_type": "execute_result"
    }
   ],
   "source": [
    "26**4 + 26**2"
   ]
  },
  {
   "cell_type": "markdown",
   "metadata": {},
   "source": [
    "To get a sense of the amount of time involved, suppose the professor hits keys at the rate of 180 per minute. Then, assuming no rest breaks or slowing down, you expect the professor to keep going for almost two days before the pattern GAGA appears."
   ]
  },
  {
   "cell_type": "code",
   "execution_count": 8,
   "metadata": {
    "collapsed": false
   },
   "outputs": [
    {
     "data": {
      "text/plain": [
       "1.7656327160493828"
      ]
     },
     "execution_count": 8,
     "metadata": {},
     "output_type": "execute_result"
    }
   ],
   "source": [
    "(26**4 + 26**2)/(24*60*180)"
   ]
  },
  {
   "cell_type": "markdown",
   "metadata": {},
   "source": [
    "### A Pattern in the Answer ###\n",
    "In the GAGA example as in the HTH example, you can see that the answer is a sum of terms which are the inverses of:\n",
    "\n",
    "- the chance of the whole pattern\n",
    "- the chance of the segment which occurs both at the start and the end of the pattern.\n",
    "\n",
    "Of course there might be more than one segment that you can see at the start as well as at the end. For example, if the pattern is GAGAGA, then GAGA is the longest segment that repeats in this way, but GA repeats as well. The expected time till GAGAGA turns out to be $26^6 + 26^4 + 26^2$. That's the sum of the inverses of the probabilities of the whole pattern and of all the segments that appear both at the start and at the end. If you are intrepid you can check this by setting up seven-state Markov Chain following the method developed in this section.\n",
    "\n",
    "But the Markov Chain method doesn't provide insight into why the answers are the way they are. Maybe by the end of the term we will have included a section on the elegant martingale methods that explain what's going on. \n",
    "\n",
    "For now, go back through your exercises and do the algebra to check that in tosses of a $p$-coin, $E(W_{HH}) = \\frac{1}{p^2} + \\frac{1}{p}$ whereas $E(W_{HT}) = \\frac{1}{pq}$. The pattern HT doesn't have the feature that the start of the pattern appears again at the end.\n",
    "\n",
    "After this, you might be willing to accept that the expected number of times the professor has to hit the typewriter keys till the pattern ABRACADABRA appears is $26^{11} + 26^4 + 26$, by noticing that both ABRA and A reappear at the end of ABRACADABRA.  That's 3,670,344,487,444,778 times."
   ]
  },
  {
   "cell_type": "code",
   "execution_count": 6,
   "metadata": {
    "collapsed": false
   },
   "outputs": [
    {
     "data": {
      "text/plain": [
       "3670344487444778"
      ]
     },
     "execution_count": 6,
     "metadata": {},
     "output_type": "execute_result"
    }
   ],
   "source": [
    "26**11 + 26**4 + 26"
   ]
  },
  {
   "cell_type": "markdown",
   "metadata": {},
   "source": [
    "At the professor's rate of 180 keys per minute, that's almost 39 million years. "
   ]
  },
  {
   "cell_type": "code",
   "execution_count": 9,
   "metadata": {
    "collapsed": false
   },
   "outputs": [
    {
     "data": {
      "text/plain": [
       "38795286.73521032"
      ]
     },
     "execution_count": 9,
     "metadata": {},
     "output_type": "execute_result"
    }
   ],
   "source": [
    "(26**11 + 26**4 + 26)/(365*24*60*180)"
   ]
  },
  {
   "cell_type": "markdown",
   "metadata": {},
   "source": [
    "We end this section with a few observations about patterns in coin tossing. If you toss a fair coin six times, then the patterns that you expect to take the longest time to appear are HHHHHH and TTTTTT. Both have expected waiting times of $2^6 + 2^5 + 2^4 + 2^3 + 2^2 + 2 = 126$. "
   ]
  },
  {
   "cell_type": "code",
   "execution_count": 8,
   "metadata": {
    "collapsed": false
   },
   "outputs": [
    {
     "data": {
      "text/plain": [
       "126"
      ]
     },
     "execution_count": 8,
     "metadata": {},
     "output_type": "execute_result"
    }
   ],
   "source": [
    "2**6 + 2**5 + 2**4 + 2**3 + 2**2 + 2"
   ]
  },
  {
   "cell_type": "markdown",
   "metadata": {},
   "source": [
    "Even though all patterns of length six have the same chance if the coin is fair, the expected time till each pattern depends on how the pattern wraps around itself. The expected time till HTTTTH is $2^6 + 2 = 66$, the expected time till HHTTHH is $2^6 + 2^2 + 2 = 70$, and so on.\n",
    "\n",
    "If the coin is unfair with $p > 1/2$, then the expected time till HHHHHH is \n",
    "\n",
    "$$\n",
    "\\frac{1}{p^6} + \\frac{1}{p^5} + \\frac{1}{p^4} + \\frac{1}{p^3} + \\frac{1}{p^2} + \\frac{1}{p}\n",
    "$$\n",
    "\n",
    "That's less than the expected time till TTTTTT, which has the same formula as above but with $q$ replacing $p$. Here are some more examples.\n",
    "\n",
    "$$\n",
    "E(W_{HTTTTH}) = \\frac{1}{pq^4p} + \\frac{1}{p} ~~~~~~~~~~\n",
    "E(W_{HTHTTT}) = \\frac{1}{pqpq^3} ~~~~~~~~~~\n",
    "E(W_{HHTTHH}) = \\frac{1}{p^2q^2p^2} + \\frac{1}{p^2} + \\frac{1}{p}\n",
    "$$"
   ]
  },
  {
   "cell_type": "markdown",
   "metadata": {},
   "source": [
    "#### Summary ####\n",
    "\n",
    "For a sequence of i.i.d. trials we have developed a Markov Chain method to find the expected number of trials till any fixed finite pattern appears. The method involves solving a system of equations. This is straightforward analytically for short patterns but can be tedious otherwise. We have observed in examples that the answers have a form that depends on how the pattern wraps around itself, and that therefore the answers can simply be read off the pattern. The proof that the answers will always have this form depends on martingale methods that we may include in an optional section."
   ]
  },
  {
   "cell_type": "code",
   "execution_count": null,
   "metadata": {
    "collapsed": true
   },
   "outputs": [],
   "source": []
  }
 ],
 "metadata": {
  "anaconda-cloud": {},
  "kernelspec": {
   "display_name": "Python [Root]",
   "language": "python",
   "name": "Python [Root]"
  },
  "language_info": {
   "codemirror_mode": {
    "name": "ipython",
    "version": 3
   },
   "file_extension": ".py",
   "mimetype": "text/x-python",
   "name": "python",
   "nbconvert_exporter": "python",
   "pygments_lexer": "ipython3",
   "version": "3.5.2"
  }
 },
 "nbformat": 4,
 "nbformat_minor": 0
}
