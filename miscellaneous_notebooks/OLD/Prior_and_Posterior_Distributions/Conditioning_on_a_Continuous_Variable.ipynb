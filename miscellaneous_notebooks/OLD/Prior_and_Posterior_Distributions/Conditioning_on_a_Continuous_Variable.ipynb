{
 "cells": [
  {
   "cell_type": "code",
   "execution_count": 1,
   "metadata": {
    "collapsed": true
   },
   "outputs": [],
   "source": [
    "# HIDDEN\n",
    "from datascience import *\n",
    "from prob140 import *\n",
    "import numpy as np\n",
    "import matplotlib.pyplot as plt\n",
    "plt.style.use('fivethirtyeight')\n",
    "%matplotlib inline\n",
    "from scipy import stats"
   ]
  },
  {
   "cell_type": "markdown",
   "metadata": {},
   "source": [
    "### Conditioning on a Continuous Variable ###\n",
    "Suppose $X$ is a random variable and $A$ is an event that depends on $X$.\n",
    "\n",
    "If $X$ is a discrete random variable, then for any possible value $x$ of $X$ the quantity $P(A \\mid X = x)$ has a clear definition by the division rule:\n",
    "\n",
    "$$\n",
    "P(A \\mid X = x) ~ = ~ \\frac{P(A, X = x)}{P(X = x)}\n",
    "$$\n",
    "\n",
    "When $X$ is continuous, the denominator is 0. In this case there is one main idea to keep in mind:\n",
    "\n",
    "- $P(A \\mid X \\in dx)$ is essentially constant over the entire infinitesimal interval $dx$. This constant value will be denoted $P(A \\mid X = x)$.\n",
    "\n",
    "So for continuous $X$, we will define\n",
    "$$\n",
    "P(A \\mid X = x) ~ = ~ P(A \\mid X \\in dx) ~ \\sim ~ \\frac{P(A, X \\in dx)}{P(X \\in dx)} \n",
    "$$\n",
    "\n",
    "We are assuming that the limit of the right hand side as $dx$ goes to 0 exists and doesn't depend exactly how $dx$ is defined: around $x$, or to the left of $x$, or to the right, and so on. This will be true under regularity conditions; you can just assume it works."
   ]
  },
  {
   "cell_type": "markdown",
   "metadata": {},
   "source": [
    "### Average Conditional Probabilities ###\n",
    "We can now use our new notation and the multiplication rule to get\n",
    "\n",
    "$$\n",
    "P(A, X \\in dx) ~ = ~ P(X \\in dx)P(A \\mid X = x) ~ \\sim ~ f_X(x)dxP(A \\mid X = x)\n",
    "$$\n",
    "\n",
    "Thus if $A$ is an event and $X$ a continuous random variable with density $f_X$, then\n",
    "\n",
    "$$\n",
    "P(A) ~ = ~ \\int_{\\text{all x}} P(A, X \\in dx) ~ = ~ \\int_{\\text{all x}} P(A \\mid X = x)f_X(x)dx\n",
    "$$\n",
    "\n",
    "In more compact notation, $P(A) = E(P(A \\mid X))$ and thus is an example of finding expectation by conditioning."
   ]
  },
  {
   "cell_type": "markdown",
   "metadata": {},
   "source": [
    "### One Toss of a Random Coin ###\n",
    "\n",
    "Let $X$ have any density on the unit interval $(0, 1)$. Think of the value of $X$ as the \"$p$\" of a coin, that is, the probability that the coin lands heads. Toss the coin once. Then \n",
    "$$\n",
    "P(\\text{coin lands heads} \\mid X \\in dp) ~ \\sim ~ p\n",
    "$$\n",
    "\n",
    "regardless of exactly where $X$ is in the tiny interval around $p$. That is why this probability is called $P(\\text{coin lands heads} \\mid X = p)$. \n",
    "\n",
    "Notice that the probability doesn't involve the density of $X$. Once you are given the value of $X$, there is no randomness left in $X$; it becomes a constant.\n",
    "\n",
    "Let $X$ have density $f_X$. Then\n",
    "\n",
    "$$\n",
    "P(\\text{coin lands heads}, X \\in dp) ~ = ~ P(X \\in dp)P(\\text{coin lands heads} \\mid X = p) ~ \\sim ~ f_X(p)dp \\cdot p\n",
    "$$\n",
    "and so\n",
    "$$\n",
    "P(\\text{coin lands heads}) ~ = ~ \\int_0^1 p \\cdot f_X(p)dp ~ = ~ E(X)\n",
    "$$\n",
    "\n",
    "Thus if $X$ is uniform on $(0, 1)$, that is, if $X$ has the beta $(1, 1)$ distribution, then the chance that the coin lands heads is $1/2$. If $X$ has the beta $(r, s)$ distribution then the chance that the coin lands heads is $r/(r+s)$."
   ]
  },
  {
   "cell_type": "markdown",
   "metadata": {},
   "source": [
    "### Two Tosses of a Random Coin ###\n",
    "Let $X$ be uniform on $(0, 1)$. Given $X = p$, toss a $p$-coin twice. We have just observed that $P(\\text{first toss is a head}) = 1/2$. The first toss behaves like the toss of a fair coin.\n",
    "\n",
    "Now let's figure out the chance that both the trials are successes. We know that $P(\\text{both tosses are heads} \\mid X = p) ~ \\sim ~ p^2$. So\n",
    "\n",
    "$$\n",
    "P(\\text{both tosses are heads}) ~ = ~ \\int_0^1 p^2 \\cdot 1dp ~ = ~ \\frac{1}{3}\n",
    "$$\n",
    "\n",
    "That's *greater than* $1/4$ which is the chance of two heads given that you are tossing a fair coin. \n",
    "\n",
    "Let's see what's going on here. We know that\n",
    "\n",
    "\\begin{align*}\n",
    "P(\\text{both tosses are heads}) ~ &= ~ P(\\text{first toss is a head})\n",
    "P(\\text{second toss is a head} \\mid \\text{first toss is a head}) \\\\\n",
    "&= ~ \\frac{1}{2} P(\\text{second toss is a head} \\mid \\text{first toss is a head})\n",
    "\\end{align*}\n",
    "\n",
    "Therefore\n",
    "$$\n",
    "P(\\text{second toss is a head} \\mid \\text{first toss is a head}) ~ = ~ \\frac{2}{3} ~ > ~ \\frac{1}{2}\n",
    "$$\n",
    "\n",
    "Clearly, knowing that the first toss is a head is telling us something about $X$, which is then reflected is the chance that the second toss is also a head.\n",
    "\n",
    "To quantify this idea, we will find the conditional density of $X$ given that the first toss is a head. A good way is to find $P(X \\in dp \\mid \\text{first toss is a head})$. That's a \"backwards in time\" conditional probability and can be found using Bayes' Rule.\n",
    "\n",
    "\\begin{align*}\n",
    "P(X \\in dp \\mid \\text{first toss is a head}) ~ &= ~ \\frac{P(X \\in dp \\text{ and first toss is a head})}{P(\\text{first toss is a head})} \\\\\n",
    "&= ~ \\frac{1dp \\cdot p}{\\frac{1}{2}} \\\\\n",
    "&= ~ 2p \\cdot dp\n",
    "\\end{align*}\n",
    "\n",
    "Thus the conditional density of $X$ given that the first toss is a head is not uniform. It is $f(p) = 2p$ for $p \\in (0, 1)$, which rises linearly. It puts more of its mass on values near 1 than near 0. This makes sense: given that the first toss is a head, we are more inclined to believe that the coin is biased towards heads than towards tails."
   ]
  },
  {
   "cell_type": "code",
   "execution_count": 2,
   "metadata": {
    "collapsed": false
   },
   "outputs": [
    {
     "data": {
      "image/png": "[encoded data removed]",
      "text/plain": [
       "<matplotlib.figure.Figure at 0x11627d5f8>"
      ]
     },
     "metadata": {},
     "output_type": "display_data"
    }
   ],
   "source": [
    "p = np.arange(0, 1, 0.01)\n",
    "plt.plot(p, 2*p, color='darkblue', lw=2)\n",
    "plt.xlim(-0.05, 1.05)\n",
    "plt.ylim(-0.05, 2.05)\n",
    "plt.axes().set_aspect('equal')\n",
    "plt.xlabel('$p$')\n",
    "plt.title('Conditional Density of $X$ given that the first trial is a success');"
   ]
  },
  {
   "cell_type": "markdown",
   "metadata": {},
   "source": [
    "We can now find $P(\\text{second trial is a success} \\mid \\text{first trial is a success})$ using this conditional density. \n",
    "\n",
    "\\begin{align*}\n",
    "P(\\text{second trial is a success} \\mid \\text{first trial is a success}) ~ &= ~ E(X \\mid \\text{first trial is a success}) \\\\\n",
    "&= ~ \\int_0^1 p \\cdot 2p \\cdot dp \\\\\n",
    "&= ~ \\frac{2}{3}\n",
    "\\end{align*}"
   ]
  },
  {
   "cell_type": "code",
   "execution_count": null,
   "metadata": {
    "collapsed": true
   },
   "outputs": [],
   "source": []
  }
 ],
 "metadata": {
  "anaconda-cloud": {},
  "kernelspec": {
   "display_name": "Python [Root]",
   "language": "python",
   "name": "Python [Root]"
  },
  "language_info": {
   "codemirror_mode": {
    "name": "ipython",
    "version": 3
   },
   "file_extension": ".py",
   "mimetype": "text/x-python",
   "name": "python",
   "nbconvert_exporter": "python",
   "pygments_lexer": "ipython3",
   "version": "3.5.2"
  }
 },
 "nbformat": 4,
 "nbformat_minor": 0
}
