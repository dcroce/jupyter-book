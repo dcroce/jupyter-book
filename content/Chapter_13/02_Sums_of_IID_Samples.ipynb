{
 "cells": [
  {
   "cell_type": "code",
   "execution_count": 1,
   "metadata": {
    "collapsed": true
   },
   "outputs": [],
   "source": [
    "# HIDDEN\n",
    "from datascience import *\n",
    "from prob140 import *\n",
    "import numpy as np\n",
    "import matplotlib.pyplot as plt\n",
    "plt.style.use('fivethirtyeight')\n",
    "%matplotlib inline\n",
    "from scipy import stats"
   ]
  },
  {
   "cell_type": "markdown",
   "metadata": {},
   "source": [
    "## Sums of IID Samples ##"
   ]
  },
  {
   "cell_type": "markdown",
   "metadata": {},
   "source": [
    "After the dry, algebraic discussion of the previous section it is a relief to finally be able to compute some variances.\n",
    "\n",
    "Let $X_1, X_2, \\ldots X_n$ be random variables with sum\n",
    "$$\n",
    "S_n = \\sum_{i=1}^n X_i\n",
    "$$\n",
    "The variance of the sum is\n",
    "\n",
    "$$\n",
    "\\begin{align*}\n",
    "Var(S_n) &= Cov(S_n, S_n) \\\\\n",
    "&= \\sum_{i=1}^n\\sum_{j=1}^n Cov(X_i, X_j) ~~~~ \\text{(bilinearity)} \\\\\n",
    "&= \\sum_{i=1}^n Var(X_i) + \\mathop{\\sum \\sum}_{1 \\le i \\ne j \\le n} Cov(X_i, X_j)\n",
    "\\end{align*}\n",
    "$$\n",
    "\n",
    "We say that the variance of the sum is the sum of all the variances and all the covariances.\n",
    "\n",
    "If $X_1, X_2 \\ldots , X_n$ are independent, then all the covariance terms in the formula above are 0. \n",
    "\n",
    "Therefore if $X_1, X_2, \\ldots, X_n$ are independent then\n",
    "$$\n",
    "Var(S_n) = \\sum_{i=1}^n Var(X_i)\n",
    "$$\n",
    "\n",
    "Thus for independent random variables $X_1, X_2, \\ldots, X_n$, both the expectation and the variance add up nicely:\n",
    "\n",
    "$$\n",
    "E(S_n) = \\sum_{i=1}^n E(X_i), ~~~~~~ Var(S_n) = \\sum_{i=1}^n Var(X_i)\n",
    "$$\n",
    "\n",
    "When the random variables are i.i.d., this simplifies even further."
   ]
  },
  {
   "cell_type": "markdown",
   "metadata": {},
   "source": [
    "### Sum of an IID Sample ###\n",
    "Let $X_1, X_2, \\ldots, X_n$ be i.i.d., each with mean $\\mu$ and $SD$ $\\sigma$. You can think of $X_1, X_2, \\ldots, X_n$ as draws at random with replacement from a population, or the results of independent replications of the same experiment.\n",
    "\n",
    "Let $S_n$ be the sample sum, as above. Then\n",
    "\n",
    "$$\n",
    "E(S_n) = n\\mu ~~~~~~~~~~ Var(S_n) = n\\sigma^2 ~~~~~~~~~~ SD(S_n) = \\sqrt{n}\\sigma\n",
    "$$\n",
    "\n",
    "This implies that as the sample size $n$ increases, the distribution of the sum $S_n$ shifts to the right and is more spread out.\n",
    "\n",
    "Here is one of the most important applications of these results."
   ]
  },
  {
   "cell_type": "markdown",
   "metadata": {},
   "source": [
    "### Variance of the Binomial ###\n",
    "Let $X$ have the binomial $(n, p)$ distribution. We know that \n",
    "$$\n",
    "X = \\sum_{i=1}^n I_j\n",
    "$$\n",
    "where $I_1, I_2, \\ldots, I_n$ are i.i.d. indicators, each taking the value 1 with probability $p$. Each of these indicators has expectation $p$ and variance $pq = p(1-p)$. Therefore\n",
    "\n",
    "$$\n",
    "E(X) = np ~~~~~~~~~~ Var(X) = npq ~~~~~~~~~~ SD(X) = \\sqrt{npq}\n",
    "$$\n",
    "\n",
    "For example, if $X$ is the number of heads in 100 tosses of a coin, then\n",
    "\n",
    "$$\n",
    "E(X) = 100 \\times 0.5 = 50 ~~~~~~~~~~ SD(X) = \\sqrt{100 \\times 0.5 \\times 0.5} = 5\n",
    "$$\n",
    "\n",
    "Here is the distribution of $X$. You can see that there is almost no probability outside the range $E(X) \\pm 3SD(X)$."
   ]
  },
  {
   "cell_type": "code",
   "execution_count": 2,
   "metadata": {},
   "outputs": [
    {
     "data": {
      "image/png": "[encoded data removed]",
      "text/plain": [
       "<Figure size 432x288 with 1 Axes>"
      ]
     },
     "metadata": {},
     "output_type": "display_data"
    }
   ],
   "source": [
    "k = np.arange(25, 75, 1)\n",
    "binom_probs = stats.binom.pmf(k, 100, 0.5)\n",
    "binom_dist = Table().values(k).probability(binom_probs)\n",
    "Plot(binom_dist, show_ev=True, show_sd=True)"
   ]
  }
 ],
 "metadata": {
  "anaconda-cloud": {},
  "kernelspec": {
   "display_name": "Python 3",
   "language": "python",
   "name": "python3"
  },
  "language_info": {
   "codemirror_mode": {
    "name": "ipython",
    "version": 3
   },
   "file_extension": ".py",
   "mimetype": "text/x-python",
   "name": "python",
   "nbconvert_exporter": "python",
   "pygments_lexer": "ipython3",
   "version": "3.6.5"
  }
 },
 "nbformat": 4,
 "nbformat_minor": 1
}
