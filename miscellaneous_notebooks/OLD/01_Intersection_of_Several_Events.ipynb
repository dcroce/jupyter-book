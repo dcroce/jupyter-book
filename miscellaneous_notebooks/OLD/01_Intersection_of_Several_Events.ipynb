{
 "cells": [
  {
   "cell_type": "code",
   "execution_count": 1,
   "metadata": {
    "collapsed": true
   },
   "outputs": [],
   "source": [
    "# HIDDEN\n",
    "from datascience import *\n",
    "from prob140 import *\n",
    "import numpy as np\n",
    "import matplotlib.pyplot as plt\n",
    "plt.style.use('fivethirtyeight')\n",
    "%matplotlib inline\n",
    "import math\n",
    "from scipy import stats"
   ]
  },
  {
   "cell_type": "markdown",
   "metadata": {
    "collapsed": true
   },
   "source": [
    "### Intersection of Several Events ###\n",
    "By now you have seen many examples of the following kind:\n",
    "\n",
    "A deck of cards consists of 26 red cards and 26 black cards. Three cards are drawn at random without replacement. What is the chance that they are all black?\n",
    "\n",
    "You will be quick to answer\n",
    "$$\n",
    "\\frac{26}{52} \\cdot \\frac{25}{51} \\cdot \\frac{24}{50}\n",
    "$$\n",
    "\n",
    "and you will be right. But where does that multiplication of three factors come from? The multiplication rule says only that if $A$ and $B$ are two events, then\n",
    "\n",
    "$$\n",
    "P(AB) = P(A)P(B \\mid A)\n",
    "$$\n",
    "\n",
    "Can we just go ahead and extend it to three or more events, and if so, exactly how are we extending it?\n",
    "\n",
    "The third factor in the product above is the conditional chance that the third card is red given that the first two cards were red. This suggests an extension of the multiplication rule, used by us without discussion and without proof in many calculations so far:\n",
    "\n",
    "$$\n",
    "P(A_1A_2 \\ldots A_n) = P(A_1)P(A_2 \\mid A_1)\n",
    "P(A_3 \\mid A_1A_2)P(A_4 \\mid A_1A_2A_3) \\cdots \n",
    "P(A_n \\mid A_1A_2 \\ldots A_{n-1})\n",
    "$$\n",
    "\n",
    "Let's prove this by induction. While it might seem a little pedantic, it's a good idea to develop skills that you can use to solidify the foundations of steps that are based on intuition.\n",
    "\n",
    "We will start in the case $n=3$ to see what is going on. First notice that\n",
    "\n",
    "$$\n",
    "P(A_2A_3 \\mid A_1) = \\frac{P(A_1A_2A_3)}{P(A_1)}\n",
    "= \\frac{P(A_1A_2)P(A_3 \\mid A_1A_2)}{P(A_1)}\n",
    "= P(A_2 \\mid A_1)P(A_3 \\mid A_1A_2)\n",
    "$$\n",
    "\n",
    "This is just like the ordinary multiplication rule for the intersection of the two events $A_2$ and $A_3$, except that all the probabilities are also conditional given $A_1$.\n",
    "\n",
    "And now\n",
    "\n",
    "\\begin{align*}\n",
    "P(A_1A_2A_3) &= P(A_1)P(A_2A_3 \\mid A_1) ~~~ \\text{(multiplication rule applied to }A_1 \\text{ and } \n",
    "A_2A_3 \\text{)} \\\\\n",
    "&= P(A_1)P(A_2 \\mid A_1)P(A_3 \\mid A_1A_2) ~~~\n",
    "\\text{(we just proved this)}\n",
    "\\end{align*}\n",
    "\n",
    "So our result is true for $n=3$. \n",
    "\n",
    "To prove it for all positive integers, first assume the induction hypothesis that the result is true for $n$:\n",
    "\n",
    "$$\n",
    "P(A_1A_2 \\ldots A_n) = P(A_1)P(A_2 \\mid A_1)\n",
    "P(A_3 \\mid A_1A_2) \\cdots \n",
    "P(A_n \\mid A_1A_2 \\ldots A_{n-1})\n",
    "$$\n",
    "\n",
    "And then show that it is true for $n+1$:\n",
    "\n",
    "\\begin{align*}\n",
    "& P(A_1A_2 \\ldots A_nA_{n+1}) \\\\\n",
    "&= P(A_1)P(A_2 \\mid A_1)\n",
    "P(A_3 \\mid A_1A_2) \\cdots \n",
    "P(A_n \\mid A_1A_2 \\ldots A_{n-1})\n",
    "P(A_{n+1} \\mid A_1A_2 \\ldots A_{n-1}A_n)\n",
    "\\end{align*}\n",
    "\n",
    "The induction relies on treating $A_1A_2 \\dots A_nA_{n+1}$ as the intersection of two events: $B_n = A_1A_2 \\ldots A_n$ and $A_{n+1}$. Moves like this are use in many induction proofs of results about chances of intersections and unions.\n",
    "\n",
    "Now \n",
    "\n",
    "\\begin{align*}\n",
    "P(A_1A_2 \\ldots A_{n+1}) &= P(B_nA_{n+1}) \\\\\n",
    "&= P(B_n)P(A_{n+1} \\mid B_n) ~~~ \\text{(multiplication rule)} \\\\\n",
    "&= P(A_1A_2 \\ldots A_n)P(A_{n+1} \\mid A_1A_2 \\ldots A_n)\n",
    "~~~ \\text{(definition of } B_n \\text{)} \\\\\n",
    "&= P(A_1)P(A_2 \\mid A_1)\n",
    "P(A_3 \\mid A_1A_2) \\cdots \n",
    "P(A_n \\mid A_1A_2 \\ldots A_{n-1})P(A_{n+1} \\mid A_1A_2 \\ldots A_n)\n",
    "\\end{align*}\n",
    "\n",
    "by the induction hypothesis. Done!"
   ]
  },
  {
   "cell_type": "markdown",
   "metadata": {},
   "source": [
    "You shouldn't feel you have to have proved every single result that you use, specially when they arise naturally as properties of proportions. This section shows you that there are straightforward if laborious ways of establising such results mathematically.\n",
    "\n",
    "However, what is \"natural\" and what is correct are not always the same. Here is an example."
   ]
  },
  {
   "cell_type": "markdown",
   "metadata": {},
   "source": [
    "### Pairwise and Mutual Independence ###\n",
    "We have defined the independence of two events to mean that the chance of one doesn't change if you are told that other has happened; $A$ and $B$ are independent means that\n",
    "\n",
    "$$\n",
    "P(B \\mid A) = P(B) ~~~ \\text{or equivalently,} ~~~\n",
    "P(AB) = P(A)P(B)\n",
    "$$\n",
    "\n",
    "Now suppose you have three events $A, B$, and $C$, and suppose each pair of them is independent by the defintion above. That is, $A$ is independent of $B$, $A$ is independent of $C$, and $B$ is independent of $C$. \n",
    "\n",
    "This is called *pairwise independence*, and you might be tempted to use it as a definition of independence of three events. But it doesn't quite work.\n",
    "\n",
    "In a group of three people, let $B_{ij}$ be the event that Persons $i$ and $j$ have the same birthday, and let $B_{123}$ be the event that all three have the same birthday. Under the assumptions of randomness that we made for the classical Birthday Problem, we know that\n",
    "\n",
    "$$\n",
    "P(B_{12}) = \\frac{1}{365} = P(B_{23}) = P(B_{13})\n",
    "$$\n",
    "and\n",
    "$$\n",
    "P(B_{12} B_{23}) = P(B_{123}) \n",
    "= \\frac{1}{365} \\cdot \\frac{1}{365}\n",
    "= P(B_{12})P(B_{23})\n",
    "$$\n",
    "\n",
    "So $B_{12}$ and $B_{23}$ are independent. In the same way you can show that $B_{12}$ and $B_{13}$ are independent, as are $B_{23}$ and $B_{13}$. Thus the three events $B_{12}$, $B_{13}$, and $B_{23}$ are pairwise independent.\n",
    "\n",
    "But \n",
    "$$\n",
    "P(B_{13} \\mid B_{12}B_{23}) = 1 \\ne P(B_{13})\n",
    "$$\n",
    "\n",
    "Given that Persons 1 and 2 have the same birthday and that Persons 2 and 3 have the same birthday, there is no randomness left in whether Persons 1 and 3 have the same birthday – they just do. Information about *the other two pairs* affects the chance of $B_{13}$. \n",
    "\n",
    "This goes against what independence should mean, and points out to us that when we have more than two events we have to be careful about the defining independence."
   ]
  },
  {
   "cell_type": "markdown",
   "metadata": {},
   "source": [
    "#### Mutual Independence ####\n",
    "Events $A_1, A_2, \\ldots A_n$ are *mutually independent* (or *independent* for short) if given that any subset of the events has occurred, the conditional chances of all other subsets remain unchanged.\n",
    "\n",
    "That's quite a mouthful. In practical terms it means that it doesn't matter which of the events you know have happened; chances involving the remaining events are unchanged.\n",
    "\n",
    "In terms of random variables, $X_1, X_2, \\ldots , X_n$ are independent if given the values of any subset, chances of events determined by the remaining variables are unchanged.\n",
    "\n",
    "In practice, this just formalizes statements such as \"results of different tosses of a coin are independent\" or \"draws made at random with replacement are independent\".\n",
    "\n",
    "Try not to become inhibited by the formalism. Notice how the theory not only supports intuition but also develops it. You can expect your probabilistic intuition to be much sharper at the end of this course than it is now!"
   ]
  },
  {
   "cell_type": "code",
   "execution_count": null,
   "metadata": {
    "collapsed": true
   },
   "outputs": [],
   "source": []
  }
 ],
 "metadata": {
  "anaconda-cloud": {},
  "kernelspec": {
   "display_name": "Python [Root]",
   "language": "python",
   "name": "Python [Root]"
  },
  "language_info": {
   "codemirror_mode": {
    "name": "ipython",
    "version": 3
   },
   "file_extension": ".py",
   "mimetype": "text/x-python",
   "name": "python",
   "nbconvert_exporter": "python",
   "pygments_lexer": "ipython3",
   "version": "3.5.2"
  }
 },
 "nbformat": 4,
 "nbformat_minor": 0
}
