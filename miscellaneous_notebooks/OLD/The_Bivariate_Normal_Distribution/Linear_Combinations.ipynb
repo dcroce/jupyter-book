{
 "cells": [
  {
   "cell_type": "code",
   "execution_count": 2,
   "metadata": {
    "collapsed": true
   },
   "outputs": [],
   "source": [
    "# HIDDEN\n",
    "from datascience import *\n",
    "from prob140 import *\n",
    "import numpy as np\n",
    "import matplotlib.pyplot as plt\n",
    "plt.style.use('fivethirtyeight')\n",
    "%matplotlib inline\n",
    "from scipy import stats"
   ]
  },
  {
   "cell_type": "markdown",
   "metadata": {},
   "source": [
    "### Linear Combinations ###\n",
    "If $X$ and $Y$ are independent normal variables, then any linear combination $aX + bY + c$ has a normal distribution. We proved this in an earlier section using moment generating functions. We will now show that the same is true if $X$ and $Y$ have any bivariate normal distribution.\n",
    "\n"
   ]
  },
  {
   "cell_type": "markdown",
   "metadata": {},
   "source": [
    "We have defined standard bivariate normal random variables as follows:\n",
    "\n",
    "If $X$ and $Z$ are i.i.d standard normal, and\n",
    "$$\n",
    "Y = \\rho X + \\sqrt{1 - \\rho^2} Z\n",
    "$$\n",
    "\n",
    "then $X$ and $Y$ have the standard bivariate normal distribution with correlation $\\rho$. \n",
    "\n",
    "Thus if $X$ and $Y$ are standard bivariate normal, then $Y$ is a linear combination of the independent normal variables $X$ and $Z$. Hence any linear combination $aX + bY + c$ can be written as a different linear combination of the independent normal variables $X$ and $Z$. Thus the distribution of $aX + bY + c$ is normal."
   ]
  },
  {
   "cell_type": "markdown",
   "metadata": {},
   "source": [
    "If $X$ and $Y$ have a bivariate normal distribution but are not standardized, then $X = X^* \\cdot\\sigma_X + \\mu_X$ and $Y = Y^*\\cdot\\sigma_Y + \\mu_Y$ where $X^*$ and $Y^*$ are standard bivariate normal. \n",
    "\n",
    "So any linear combination of $X$ and $Y$ is a different linear combination of $X^*$ and $Y^*$, and hence is normal."
   ]
  },
  {
   "cell_type": "markdown",
   "metadata": {},
   "source": [
    "### Sum and Difference ###\n",
    "Let $X$ and $Y$ have the bivariate normal distribution with parameters $(\\mu_X, \\mu_Y, \\sigma_X^2, \\sigma_Y^2, \\rho)$. Then the sum $X + Y$ has the normal distribution with mean $\\mu_X + \\mu_Y$ and variance\n",
    "\n",
    "$$\n",
    "\\sigma_{X+Y}^2 ~ = ~ Var(X + Y) ~ = ~ \\sigma_X^2 + \\sigma_Y^2 + 2\\rho\\sigma_X\\sigma_Y\n",
    "$$\n",
    "\n",
    "The difference $X - Y$ has the normal distribution with mean $\\mu_X - \\mu_Y$ and variance\n",
    "\n",
    "$$\n",
    "\\sigma_{X-Y}^2 ~ = ~ Var(X - Y) ~ = ~ \\sigma_X^2 + \\sigma_Y^2 - 2\\rho\\sigma_X\\sigma_Y\n",
    "$$\n",
    "\n",
    "No matter what the linear combination of $X$ and $Y$, its distribution is normal and you can work out the mean and variance using properties of means and variances.\n",
    "\n",
    "Notice that no matter what the joint distribution of $X$ and $Y$,\n",
    "\n",
    "$$\n",
    "Cov(X+Y, X-Y) ~ = ~ Cov(X, X) - Cov(X, Y) + Cov(Y, X) - Cov(Y, Y)\n",
    "~ = ~ \\sigma_X^2 - \\sigma_Y^2\n",
    "$$\n",
    "\n",
    "and the correlation between the sum and difference is\n",
    "$$\n",
    "r(X+Y, X-Y) ~ = ~ \\frac{\\sigma_X^2 - \\sigma_Y^2}{\\sigma_{X+Y}\\sigma_{X-Y}}\n",
    "$$\n",
    "\n",
    "Each of the two linear combinations $X+Y$ and $X-Y$ is normal, and we have identified the two means, the two variances, and the correlation. It turns out (though we will not prove this) that the *joint* distribution of $X+Y$ and $X-Y$ is bivariate normal with the five parameters that we have identified.\n",
    "\n",
    "If $X$ and $Y$ are bivariate normal variables with equal variances, then $X+Y$ and $X-Y$ have a bivariate normal distribution with\n",
    "\n",
    "$$\n",
    "Cov(X+Y, X-Y) ~ = ~ \\sigma_X^2 - \\sigma_Y^2 ~ = ~ 0\n",
    "$$ \n",
    "\n",
    "Remember that uncorrelated bivariate normal random variables are independent.  Thus if $X$ and $Y$ are bivariate normal variables with equal variances, then their sum $X+Y$ and difference $X-Y$ are *independent* normal variables. The condition \"bivariate normal with equal variances\" is satisfied by i.i.d. normal variables, for example."
   ]
  },
  {
   "cell_type": "markdown",
   "metadata": {},
   "source": [
    "### Joint Distributions of Linear Combinations ###\n",
    "Let $X$ and $Y$ have a bivariate normal distribution. Then the linear combinations $aX + bY + c$ and $dX + eY + f$ have the bivariate normal distribution with parameters determined by rules of expectation and variance applied to the parameters of $X$ and $Y$.\n",
    "\n",
    "We will not prove this result but it is fundamentally important for calculation. In practical terms it says that you can operate fearlessly with bivariate normal random variables just as you would with independent normal random variables. Just keep in mind that there will be some covariance terms involved in variance calculations.\n",
    "\n",
    "#### Normal Marginals and Conditionals ####\n",
    "What you get from identifying a bivariate normal distribution for random variables $X$ and $Y$ is that numerous interesting distributions are normal. You just have to find the means and variances, and then you can use normal curve methods to find probabilities.\n",
    "\n",
    "All of the following distributions are normal:\n",
    "- The marginal distributions of $X$ and $Y$\n",
    "- For each $x$, the conditional distribution of $Y$ given $X=x$\n",
    "- For each $y$, the conditional distribution of $X$ given $Y=y$\n",
    "\n",
    "For example, let $M$ be the midterm score and $F$ the final exam score of a student picked at random from a large class, and suppose $M$ and $F$ have the bivariate normal distribution with parameters $(66, 73, 10^2, 8^2, 0.6)$. Clearly this model can only be a very rough approximation to data, especially if the scores are discrete, but we will work with it here as an idealization.\n",
    "\n",
    "Suppose the overall score $S$ will be computed as $S = 0.3M + 0.7F$. What is the joint distribution of $F$ and $S$?\n",
    "\n",
    "It's bivariate normal. All you have to do is find the five parameters. This boils down to being able to work with means and variances.\n",
    "\n",
    "You already know two of the parameters: $\\mu_F = 73$ and $\\sigma_F^2 = 8^2 = 64$.\n",
    "\n",
    "Also, $\\mu_S = 0.3*66 + 0.7*73 = 70.9$."
   ]
  },
  {
   "cell_type": "code",
   "execution_count": 2,
   "metadata": {},
   "outputs": [
    {
     "data": {
      "text/plain": [
       "70.89999999999999"
      ]
     },
     "execution_count": 2,
     "metadata": {},
     "output_type": "execute_result"
    }
   ],
   "source": [
    "0.3*66 + 0.7*73"
   ]
  },
  {
   "cell_type": "markdown",
   "metadata": {},
   "source": [
    "To find $\\sigma_S^2$ and $r(F, S)$, it's a good idea to find some covariances first.\n",
    "\n",
    "- $Cov(M, F) = 0.6 \\cdot 10 \\cdot 8 = 48$\n",
    "- $Cov(F, S) = 0.3Cov(F, M) + 0.7Var(F) = 0.3 \\cdot 48 + 0.7 \\cdot 64 = 59.2$"
   ]
  },
  {
   "cell_type": "code",
   "execution_count": 4,
   "metadata": {},
   "outputs": [
    {
     "data": {
      "text/plain": [
       "59.199999999999996"
      ]
     },
     "execution_count": 4,
     "metadata": {},
     "output_type": "execute_result"
    }
   ],
   "source": [
    "0.3*48 + 0.7*64"
   ]
  },
  {
   "cell_type": "markdown",
   "metadata": {},
   "source": [
    "The variance of $S$ is\n",
    "$$\n",
    "\\sigma_S^2 ~ = ~ 0.3^2 \\cdot 100 ~ + ~ 0.7^2 \\cdot 64 ~ + ~ 2 \\cdot 0.3 \\cdot 0.7 \\cdot 48 ~ = ~ 60.52\n",
    "$$"
   ]
  },
  {
   "cell_type": "code",
   "execution_count": 53,
   "metadata": {},
   "outputs": [
    {
     "data": {
      "text/plain": [
       "60.519999999999996"
      ]
     },
     "execution_count": 53,
     "metadata": {},
     "output_type": "execute_result"
    }
   ],
   "source": [
    "(0.3**2)*100 + (0.7**2)*64 + 2*0.3*0.7*48"
   ]
  },
  {
   "cell_type": "markdown",
   "metadata": {},
   "source": [
    "The final parameter of the bivariate normal is the correlation between $F$ and $S$.\n",
    "\n",
    "$$\n",
    "r(F, S) ~ = ~ \\frac{59.2}{8 \\cdot \\sqrt{60.52}} ~ = ~ 0.95\n",
    "$$"
   ]
  },
  {
   "cell_type": "code",
   "execution_count": 6,
   "metadata": {},
   "outputs": [
    {
     "data": {
      "text/plain": [
       "0.9512228189487625"
      ]
     },
     "execution_count": 6,
     "metadata": {},
     "output_type": "execute_result"
    }
   ],
   "source": [
    "59.2/(8*(60.52**0.5))"
   ]
  },
  {
   "cell_type": "markdown",
   "metadata": {},
   "source": [
    "Notice how large the correlation is. That's because $F$ is a big component of $S$.\n",
    "\n",
    "Also note that the correlation is a function of all of the covariances: $Cov(F, F)$, $Cov(F, S)$, and $Cov(S, S)$."
   ]
  },
  {
   "cell_type": "markdown",
   "metadata": {},
   "source": [
    "### A Different Parametrization ###\n",
    "A common parametrization of bivariate normal variables has two components.\n",
    "- The *mean vector* which in this case is $(\\mu_F, \\mu_S)$:"
   ]
  },
  {
   "cell_type": "code",
   "execution_count": null,
   "metadata": {
    "collapsed": true
   },
   "outputs": [],
   "source": [
    "means = [73, 70.9]"
   ]
  },
  {
   "cell_type": "markdown",
   "metadata": {},
   "source": [
    "- The *covariance matrix*, also called the *variance-covariance matrix*, which is an organized array of the variances:\n",
    "\n",
    "$$\n",
    "\\begin{pmatrix}\n",
    "Cov(F, F) & Cov(F, S)\\\\\n",
    "Cov(S, F) & Cov(S, S)\n",
    "\\end{pmatrix}\n",
    "$$\n",
    "\n",
    "For use with `SciPy` we can simply enter this matrix as an array of rows. Notice the use of $Cov(F, S) = Cov(S, F)$."
   ]
  },
  {
   "cell_type": "code",
   "execution_count": null,
   "metadata": {
    "collapsed": true
   },
   "outputs": [],
   "source": [
    "covariances = [[64, 59.2], [59.2, 60.52]]"
   ]
  },
  {
   "cell_type": "markdown",
   "metadata": {},
   "source": [
    "The `SciPy` method `stats.multivariate_normal.rvs` generates i.i.d. points from a multivariate (or bivariate, in our present case) normal distribution. The arguments are `size` which is the number of points to generate, `mean` which is the mean vector, and `cov` which is the covariance matrix.\n",
    "\n",
    "Here is one generated value of $(F, S)$."
   ]
  },
  {
   "cell_type": "code",
   "execution_count": 52,
   "metadata": {},
   "outputs": [
    {
     "data": {
      "text/plain": [
       "array([ 51.82245434,  47.12608967])"
      ]
     },
     "execution_count": 52,
     "metadata": {},
     "output_type": "execute_result"
    }
   ],
   "source": [
    "stats.multivariate_normal.rvs(size = 1, mean = means, cov = covariances)"
   ]
  },
  {
   "cell_type": "markdown",
   "metadata": {},
   "source": [
    "The code in the cell below generates 500 such points and draws the scatter plot. The tight clustering corresponds to the high value of the correlation between $F$ and $S$."
   ]
  },
  {
   "cell_type": "code",
   "execution_count": 54,
   "metadata": {},
   "outputs": [
    {
     "data": {
      "image/png": "[encoded data removed]",
      "text/plain": [
       "<matplotlib.figure.Figure at 0x118191630>"
      ]
     },
     "metadata": {},
     "output_type": "display_data"
    }
   ],
   "source": [
    "n = 500 # set sample size\n",
    "\n",
    "# Generate bivariate normal points\n",
    "points = stats.multivariate_normal.rvs(size=n, mean=means, cov=covariances)\n",
    "final = points[0:n, 0]   # array of x-values\n",
    "overall = points[0:n, 1] # array of y-values\n",
    "\n",
    "# Plot\n",
    "plt.scatter(final, overall)\n",
    "plt.xlabel('$F$')\n",
    "plt.ylabel('$S$', rotation=0)\n",
    "plt.title(str(n)+' Simulated Values of $(F, S)$')\n",
    "plt.axes().set_aspect('equal')"
   ]
  }
 ],
 "metadata": {
  "anaconda-cloud": {},
  "kernelspec": {
   "display_name": "Python 3",
   "language": "python",
   "name": "python3"
  },
  "language_info": {
   "codemirror_mode": {
    "name": "ipython",
    "version": 3
   },
   "file_extension": ".py",
   "mimetype": "text/x-python",
   "name": "python",
   "nbconvert_exporter": "python",
   "pygments_lexer": "ipython3",
   "version": "3.6.4"
  }
 },
 "nbformat": 4,
 "nbformat_minor": 1
}
