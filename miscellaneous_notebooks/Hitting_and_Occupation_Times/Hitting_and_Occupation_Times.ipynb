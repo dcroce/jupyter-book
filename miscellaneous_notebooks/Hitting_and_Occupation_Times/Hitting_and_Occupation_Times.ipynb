{
 "cells": [
  {
   "cell_type": "code",
   "execution_count": 1,
   "metadata": {
    "collapsed": true
   },
   "outputs": [],
   "source": [
    "# HIDDEN\n",
    "from datascience import *\n",
    "from prob140 import *\n",
    "import numpy as np\n",
    "import matplotlib.pyplot as plt\n",
    "plt.style.use('fivethirtyeight')\n",
    "%matplotlib inline\n",
    "import math\n",
    "from scipy import stats\n",
    "from scipy import misc"
   ]
  },
  {
   "cell_type": "markdown",
   "metadata": {},
   "source": [
    "# Hitting and Occupation Times #\n",
    "In this chapter we will study some random times and random amounts of time associated with Markov Chains. We will start with hitting times. A *hitting time* is the first time a chain reaches a state after time 0. For any state $j$ that the chain is certain to reach, define the *first hitting time of $j$* as\n",
    "\n",
    "$$\n",
    "W_j = \\inf \\{n \\ge 1: X_n = j \\}\n",
    "$$\n",
    "\n",
    "That's $W$ for \"waiting time\"; we are avoiding $H$ for \"hitting\" and $T$ for \"time\" because those tend to get confused with heads and tails.\n",
    "\n",
    "We encountered such times in an earlier chapter where we were finding the expected number of tosses of a coin till a particular patter of heads and tails appeared. In the next section we will frame that calculation in terms of Markov Chains. This will allow us to set up a general method for finding waiting times for patters in i.i.d. sequences.\n",
    "\n",
    "Then we will study hitting times for Markov Chains that have stationary distributions. We will follow that by an examination of *occupation times*, that is, the amounts of time spent in various states. For irreducible, aperiodic, finite state Markov Chains, we already know that the expected long run proportion of time spent at state $j$ is $\\pi(j)$. In this chapter we will connect the stationary distribution $\\pi$ to other occupation times as well."
   ]
  },
  {
   "cell_type": "code",
   "execution_count": null,
   "metadata": {
    "collapsed": true
   },
   "outputs": [],
   "source": []
  }
 ],
 "metadata": {
  "anaconda-cloud": {},
  "kernelspec": {
   "display_name": "Python [Root]",
   "language": "python",
   "name": "Python [Root]"
  },
  "language_info": {
   "codemirror_mode": {
    "name": "ipython",
    "version": 3
   },
   "file_extension": ".py",
   "mimetype": "text/x-python",
   "name": "python",
   "nbconvert_exporter": "python",
   "pygments_lexer": "ipython3",
   "version": "3.5.2"
  }
 },
 "nbformat": 4,
 "nbformat_minor": 0
}
