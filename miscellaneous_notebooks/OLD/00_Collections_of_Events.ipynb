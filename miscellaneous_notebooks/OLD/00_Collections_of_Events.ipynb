{
 "cells": [
  {
   "cell_type": "code",
   "execution_count": 1,
   "metadata": {
    "collapsed": true
   },
   "outputs": [],
   "source": [
    "# HIDDEN\n",
    "from datascience import *\n",
    "from prob140 import *\n",
    "import numpy as np\n",
    "import matplotlib.pyplot as plt\n",
    "plt.style.use('fivethirtyeight')\n",
    "%matplotlib inline\n",
    "import math\n",
    "from scipy import stats"
   ]
  },
  {
   "cell_type": "markdown",
   "metadata": {},
   "source": [
    "## Collections of Events ##\n",
    "Probability theory is based on the addition and mulitplication rules, both of which we have stated as rules about two events. We have defined joint distributions of two random variables. Our definition of independence, too, refers to two events or two random variables.\n",
    "\n",
    "But we naturally want to use – and have used – extensions of these results to several events. For example, we have routinely used\n",
    "$$\n",
    "P(A \\cup B \\cup C) = P(A) + P(B) + P(C) ~~~ \\text{if } A, B, C\n",
    "\\text{ are mutually exclusive}\n",
    "$$\n",
    "when we have found probabilities by partitioning events into three disjoint pieces. \n",
    "\n",
    "In this chapter we will study a common method of extending results, and develop methods that will allow us to work with collections of events. In doing so we will encounter some classical applications that arise in data science.\n",
    "\n",
    "The main method of extension that we will use is *the method of mathematical induction*."
   ]
  },
  {
   "cell_type": "markdown",
   "metadata": {},
   "source": [
    "### Induction ###\n",
    "The method of mathematical induction can be used to prove results when:\n",
    "- you have guessed a result for all positive integers $n$;\n",
    "- you can prove the result directly for small $n$; and\n",
    "- you need to prove it for general $n$.\n",
    "\n",
    "Then the method says that if you can show that the result is true for $n+1$ by assuming the *induction hypothesis* that it is true for $n$, then your proof is complete.\n",
    "\n",
    "The method often applies when you find yourself writing, \"In the same way,\" or \"$\\ldots$\" to justify a step in a calculation. Induction can help turn the \"$\\ldots$\" into math.\n",
    "\n",
    "Here is a quick example from math that has been used already in this course. More examples will appear later in this chapter and in the course."
   ]
  },
  {
   "cell_type": "markdown",
   "metadata": {
    "collapsed": true
   },
   "source": [
    "### The Sum of the First $n$ Positive Integers ###\n",
    "To prove that \n",
    "$$\n",
    "\\sum_{i=1}^n i = \\frac{n(n+1)}{2}\n",
    "$$\n",
    "first notice that the formula can be checked easily for $n=2$. Even checking it for $n=1$ is enough as a \"base\" case. Now assume the induction hypothesis that the formula is true for $n$ as stated above, and show that it is true for $n+1$. That is, show that\n",
    "$$\n",
    "\\sum_{i=1}^{n+1} i = \\frac{(n+1)(n+2)}{2}\n",
    "$$\n",
    "\n",
    "To show this, notice that\n",
    "\n",
    "\\begin{align*}\n",
    "\\sum_{i=1}^{n+1} i &= \\sum_{i=1}^n i ~ + ~ (n+1) \\\\ \\\\\n",
    "&= \\frac{n(n+1)}{2} ~ + ~ (n+1) ~~~ \\text{(induction hypothesis)} \\\\ \\\\\n",
    "&= (n+1)\\big{(} \\frac{n}{2} + 1\\big{)} \\\\ \\\\\n",
    "&= \\frac{(n+1)(n+2)}{2}\n",
    "\\end{align*}"
   ]
  },
  {
   "cell_type": "code",
   "execution_count": null,
   "metadata": {
    "collapsed": true
   },
   "outputs": [],
   "source": []
  }
 ],
 "metadata": {
  "anaconda-cloud": {},
  "kernelspec": {
   "display_name": "Python [Root]",
   "language": "python",
   "name": "Python [Root]"
  },
  "language_info": {
   "codemirror_mode": {
    "name": "ipython",
    "version": 3
   },
   "file_extension": ".py",
   "mimetype": "text/x-python",
   "name": "python",
   "nbconvert_exporter": "python",
   "pygments_lexer": "ipython3",
   "version": "3.5.2"
  }
 },
 "nbformat": 4,
 "nbformat_minor": 0
}
