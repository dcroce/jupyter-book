{
 "cells": [
  {
   "cell_type": "markdown",
   "metadata": {},
   "source": [
    "## Review Problems: Set 2 ##"
   ]
  },
  {
   "cell_type": "markdown",
   "metadata": {},
   "source": [
    "These problems can be solved using the main ideas of Chapters 6 through 8. The material in those chapters of course relies on all the previous chapters.\n",
    "\n",
    "The set of exercises is divided into two parts: The Basics, and Additional Practice. The first part will remind you of the fundamental concepts and some typical calculations. The rest are for you to further develop your problem solving skills and your fluency with the notation and ideas."
   ]
  },
  {
   "cell_type": "markdown",
   "metadata": {},
   "source": [
    "### The Basics ##"
   ]
  },
  {
   "cell_type": "markdown",
   "metadata": {},
   "source": [
    "**1.** \n",
    "A coin is tossed 12 times. Find the chance that\n",
    "\n",
    "(a) there are six heads\n",
    "\n",
    "(b) there are more heads than tails (use the result of Part (a))\n",
    "\n",
    "(c) there are more than four tails\n",
    "\n",
    "(d) one of the faces appears twice as many times as the other"
   ]
  },
  {
   "cell_type": "markdown",
   "metadata": {},
   "source": [
    "**2.** \n",
    "A bridge hand is a simple random sample of 13 cards from a standard deck of 52 cards. The *face cards* are the Jacks, Queens, and Kings; there are 12 face cards in all. Let $X$ be the number of face cards in a bridge hand.\n",
    "\n",
    "(a) Fill in the blank with the name of a distribution along with the appropriate parameters:\n",
    "\n",
    "$X$ has the $\\underline{~~~~~~~~~~~~~~~~~}$ distribution.\n",
    "\n",
    "(b) Find $P(X > 5)$.\n",
    "\n",
    "(c) Find $E(X)$."
   ]
  },
  {
   "cell_type": "markdown",
   "metadata": {},
   "source": [
    "**3.** \n",
    "Each time it is run, a random number generator produces each of the 100 pairs of digits 00 through 99 with equal probability, independently of all other times. Let $X$ be the number of times it produces 00 in 100 runs. \n",
    "\n",
    "Fill in the blanks with the names of distributions along with the appropriate parameters:\n",
    "\n",
    "The distribution of $X$ is exactly $$\\underline{~~~~~~~~~~~~~~~~~}$$ and approximately $$\\underline{~~~~~~~~~~~~~~~~~}$$."
   ]
  },
  {
   "cell_type": "markdown",
   "metadata": {},
   "source": [
    "**4.** \n",
    "[Pitman 3.5.12] Two radioactive substances emit $\\alpha$-particles independently of each other. A counter records a Poisson $(5.41)$ number of particles from one substance and a Poisson $(3.87)$ number of particles from the other. Find the chance that the counter records at most four particles."
   ]
  },
  {
   "cell_type": "markdown",
   "metadata": {},
   "source": [
    "**5.** \n",
    "If you bet on \"red\" at roulette, your chance of winning is 18/38. Successive bets are independent of each other. Suppose you keep betting on red and stop when you have won a total of six bets.\n",
    "\n",
    "(a) What is the chance that you place exactly 10 bets?\n",
    "\n",
    "(b) What is the chance that you place more than 10 bets?"
   ]
  },
  {
   "cell_type": "markdown",
   "metadata": {},
   "source": [
    "**6.** \n",
    "Let $X$ have the distribution given in the table below.\n",
    "\n",
    "| value | -2  | -1  | 0   | 1   |\n",
    "|------:|:---:|:---:|:---:|:---:|\n",
    "|**probability**| 1/8 | 1/2 | 1/4 | 1/8|\n",
    "\n",
    "Find \n",
    "\n",
    "(a) $E(X)$\n",
    "\n",
    "(b) $E(\\vert X \\vert )$\n",
    "\n",
    "(c) $E(\\min(X, -1))$\n",
    "\n",
    "(d) $E(X-1)$\n",
    "\n",
    "(e) $E((X-1)^2)$"
   ]
  },
  {
   "cell_type": "markdown",
   "metadata": {},
   "source": [
    "**7.**\n",
    "A student is taking a True/False test in which there are 30 questions. For each correct answer, the student will get 2 points. For each wrong answer, the student will lose 1 point. If the student leaves a question unanswered, the student will get 0 points for that question.\n",
    "\n",
    "The student answers all of the questions by rolling a die. If the die shows 1 or 2 spots, the student doesn't answer the question. If it shows 3 or 4 spots, the student chooses False. If it shows 5 or 6 spots, the student chooses True.\n",
    "\n",
    "Find the student's expected score on the test."
   ]
  },
  {
   "cell_type": "markdown",
   "metadata": {},
   "source": [
    "**8.**\n",
    "Each move in the game Monopoly is based on the total number of spots showing on two rolls of a die. Let $X$ be the number of times I see a total of four spots in my next 10 moves in Monopoly. Find $P(X =2)$."
   ]
  },
  {
   "cell_type": "markdown",
   "metadata": {},
   "source": [
    "**9.**\n",
    "A die is rolled 10 times. Find the chance that the face that has six spots does not appear and every other face appears two times."
   ]
  },
  {
   "cell_type": "markdown",
   "metadata": {},
   "source": [
    "**10.**\n",
    "Let $p \\in (0, 1)$ and let $X$ be the number of spots showing on a flattened die that shows its six faces according to the following chances:\n",
    "\n",
    "- $P(X = 1) = P(X = 6)$\n",
    "- $P(X = 2) = P(X = 3) = P(X = 4) = P(X = 5)$\n",
    "- $P(X = 1 \\text{ or } 6) = p$\n",
    "\n",
    "(a) Find $E(X)$.\n",
    "\n",
    "(b) Find $E(\\vert X - 3.5 \\vert)$. Explain algebraically and also by an intuitive argument why the answer is an increasing function of $p$."
   ]
  },
  {
   "cell_type": "markdown",
   "metadata": {},
   "source": [
    "### Additional Practice ###"
   ]
  },
  {
   "cell_type": "markdown",
   "metadata": {},
   "source": [
    "**11.**\n",
    "If you bet a dollar on a \"split\" at roulette, you have a 2/38 chance of winning. If you win the bet, your net gain is $\\\\$17$. If you lose the bet, you lose your dollar.\n",
    "\n",
    "Suppose you make 100 one-dollar bets on a split. Assume that all the bets are independent of each other. Find the chance that you come out ahead, that is, the chance that you end up with more money than you had at the start."
   ]
  },
  {
   "cell_type": "markdown",
   "metadata": {},
   "source": [
    "**12.**\n",
    "Let $X_1, X_2, \\ldots, X_n$ be i.i.d. Poisson $(\\lambda)$ random variables.\n",
    "\n",
    "(a) Find the distribution of the sample sum $S_n = X_1 + X_2 + \\cdots + X_n$.\n",
    "\n",
    "(b) Let $A_n = S_n/n$ be the sample average. For a non-negative integer $k$, find $P(A_n \\le k)$."
   ]
  },
  {
   "cell_type": "markdown",
   "metadata": {},
   "source": [
    "**13.**\n",
    "[Pitman 2.rev.10] According to a newspaper report, in 2 million lie detector tests, 300,000 were estimated to have produced erroneous results. Assuming these figures to be correct, answer the following:\n",
    "\n",
    "If ten tests were picked at random from these 2 million tests, what would be the chance that at least one of them produced an erroneous result?  Sketch the histogram of the distribution of the number of erroneous results among these ten tests. \n",
    "\n",
    "Suppose these 2 million tests were done on a variety of machines. If a machine were picked at random, then ten tests picked at random from these tests performed on that machine, would it be reasonable to suppose that the chance that at least one of them produced an erroneous result would be the same as in a)?"
   ]
  },
  {
   "cell_type": "markdown",
   "metadata": {},
   "source": [
    "**14.**\n",
    "Dibya and Jason are playing tennis. The game consists of a sequence of sets. The first player to win $s$ sets wins the match. Suppose the probability that Jason wins a set is $p$ (where  $0 < p < 1$), independent of the result of any other set. What is the probability that Jason wins the match?"
   ]
  },
  {
   "cell_type": "markdown",
   "metadata": {},
   "source": [
    "**15.**\n",
    "Let $X$ have the Poisson $(\\mu)$ distribution. Find\n",
    "\n",
    "(a) $E(X+1)$\n",
    "\n",
    "(b) $E(1/(X+1))$\n",
    "\n",
    "[First read the Poisson portions of Sections 8.1 and 8.3.]"
   ]
  },
  {
   "cell_type": "markdown",
   "metadata": {},
   "source": [
    "**16.**\n",
    "A test for a disease produces a correct result with chance 0.99. Suppose the test is run on 300 patients, and that each test is independent of all the others.\n",
    "\n",
    "(a) What is the chance that for at least 295 patients the result is correct?\n",
    "\n",
    "(b) Justify a Poisson approximation for the chance in (a), and find the value of the approximation."
   ]
  },
  {
   "cell_type": "markdown",
   "metadata": {},
   "source": [
    "**17.**\n",
    "Roll a fair $n$-sided die $m$ times. Find the expected number of distinct faces seen."
   ]
  },
  {
   "cell_type": "markdown",
   "metadata": {},
   "source": [
    "**18.**\n",
    "Seven dice are rolled. Write down unsimplified expressions for the probabilities of each of the following events:\n",
    "\n",
    "(a) exactly two sixes\n",
    "\n",
    "(b) two of one kind and five of another \n",
    "\n",
    "(c) two fours, two fives, and three sixes\n",
    "\n",
    "(d) each number appears\n",
    "\n",
    "(e) the sum of the dice is 9 or more"
   ]
  },
  {
   "cell_type": "markdown",
   "metadata": {},
   "source": [
    "**19.**\n",
    "Use consecutive odds ratios to find the mode of the Poisson $(\\mu)$ distribution. Be careful about the case where $\\mu$ is an integer."
   ]
  },
  {
   "cell_type": "markdown",
   "metadata": {},
   "source": [
    "**20.**\n",
    "A monkey types on a 26-letter keyboard that has lowercase letters only. Each letter is chosen independently and uniformly at random from the alphabet. If the monkey types $n$ letters ($n \\ge 11$), what is the expected number of times the sequence \"probability\" appears? "
   ]
  },
  {
   "cell_type": "markdown",
   "metadata": {},
   "source": [
    "**21.**\n",
    "I see a Poisson $(15)$ number of cars. Assume that each car has chance 0.2 of being a hybrid and chance 0.1 of being electric, independently of all other cars. Find the chance that I see 3 hybrid cars, 2 electric cars, and 8 cars of other types."
   ]
  },
  {
   "cell_type": "markdown",
   "metadata": {},
   "source": [
    "**22.**\n",
    "A box contains $n_R$ red balls, $n_B$ blue balls, and $n_G$ green balls. Balls are drawn one by one without replacement until all the red balls are drawn. Let D be the number of draws made. Calculate $E(D)$. Then, evaluate it (no calculators or computers) when $n_R=5, n_B=3, n_G=3$."
   ]
  },
  {
   "cell_type": "markdown",
   "metadata": {},
   "source": [
    "**23.**\n",
    "Let $n$ and $N$ be positive integers, and suppose $n$ draws made at random with replacement from $\\{1, 2, 3, \\ldots, N\\}$. Find the expectation of the minimum of the values drawn."
   ]
  },
  {
   "cell_type": "markdown",
   "metadata": {},
   "source": [
    "**24.**\n",
    "Suppose you have $N$ balls where $N$ has the Poisson $(\\lambda)$ distribution. Each ball is thrown into into one of $m$ bins chosen uniformly at random, independent of all other balls. Find $P(\\text{there is an empty bin})$."
   ]
  },
  {
   "cell_type": "markdown",
   "metadata": {},
   "source": [
    "**25.**\n",
    "Let $X$ and $Y$ be independent random variables such that $X$ has the Poisson $(\\lambda)$ distribution and $Y$ has the Poisson $(\\mu)$ distribution. For a fixed integer $n$, find the conditional distribution of $X$ given $X+Y=n$. Identify it as one of the famous ones and provide the parameters in terms of $n$, $\\lambda$, and $\\mu$."
   ]
  },
  {
   "cell_type": "markdown",
   "metadata": {},
   "source": [
    "**26.**\n",
    "Suppose there are $m$ distinguishable pairs of socks, but a prankster chooses $d$ of these $2m$ socks at random, and pokes holes in them.  Let $X$ be the number of undamaged pairs of socks. Find $E(X)$."
   ]
  },
  {
   "cell_type": "markdown",
   "metadata": {},
   "source": [
    "**27.**\n",
    "The distribution of a random variable $X$ involves an unknown parameter $\\theta$.\n",
    "\n",
    "- $P(X = 1 ) = \\theta$\n",
    "- $P(X = 2) = 2\\theta$\n",
    "- $P(X = 3) = 1 - 3\\theta$\n",
    "\n",
    "(a) Find $E(X)$.\n",
    "\n",
    "(b) Let $X_1, X_2, \\ldots, X_n$ be i.i.d. with the same distribution as $X$, and let $\\bar{X} = \\frac{1}{n}\\sum_{i}^n X_i$ be the sample average. Use $\\bar{X}$ to construct an unbiased estimator of $\\theta$."
   ]
  },
  {
   "cell_type": "markdown",
   "metadata": {},
   "source": [
    "**28.**\n",
    "Use probability theory to explain why the math identity below is true for all $\\mu > 0$. \n",
    "\n",
    "$$\n",
    "\\sum_{k = 0}^\\infty \\sum_{j=k+1}^\\infty \\frac{\\mu^j}{j!} ~ = ~\n",
    "\\sum_{k = 1}^\\infty \\frac{\\mu^k}{(k-1)!}\n",
    "$$"
   ]
  },
  {
   "cell_type": "markdown",
   "metadata": {},
   "source": [
    "**29.**\n",
    "Survey respondents understandably don't like to answer questions about sensitive topics such as illegal drug use. If data scientists want to estimate the proportion of illegal drug users in a population, they have to devise methods of getting the information they need while maintaining the privacy of the individual respondents. \n",
    "\n",
    "*Randomized response* schemes are often used in such situations. In one such scheme, each surveyed person is given a coin and asked to answer YES or NO after following these instructions out of sight of the surveyor:\n",
    "\n",
    "- Toss the coin. \n",
    "    - If it lands heads, then truthfully answer, \"Do you use illegal drugs?\"\n",
    "    - If it lands tails, then toss it again and answer, \"Did the second toss land heads?\"\n",
    "\n",
    "This way each respondent answers YES or NO but the surveyor doesn't know which question was answered. The data scientists then have to estimate the proportion of illegal drug users based on the overall proportion of YES answers, which includes the YES answers to the second question.\n",
    "\n",
    "Let the unknown proportion of illegal drug users in a large population be $p$, and suppose a random sample of size $n$ is surveyed using the scheme above. You can assume that the sampling is equivalent to drawing at random with replacement.\n",
    "\n",
    "(a) Let $X$ be the proportion of sampled people who answer YES. Find $E(X)$.\n",
    "\n",
    "(b) Use $X$ to construct an unbiased estimate of $p$."
   ]
  },
  {
   "cell_type": "code",
   "execution_count": null,
   "metadata": {},
   "outputs": [],
   "source": []
  }
 ],
 "metadata": {
  "kernelspec": {
   "display_name": "Python 3",
   "language": "python",
   "name": "python3"
  },
  "language_info": {
   "codemirror_mode": {
    "name": "ipython",
    "version": 3
   },
   "file_extension": ".py",
   "mimetype": "text/x-python",
   "name": "python",
   "nbconvert_exporter": "python",
   "pygments_lexer": "ipython3",
   "version": "3.6.4"
  }
 },
 "nbformat": 4,
 "nbformat_minor": 2
}
