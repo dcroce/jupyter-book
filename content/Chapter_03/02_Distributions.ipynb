{
 "cells": [
  {
   "cell_type": "code",
   "execution_count": 1,
   "metadata": {
    "collapsed": true
   },
   "outputs": [],
   "source": [
    "# HIDDEN\n",
    "from datascience import *\n",
    "from prob140 import *\n",
    "%matplotlib inline\n",
    "import matplotlib.pyplot as plt\n",
    "plt.style.use('fivethirtyeight')\n",
    "import numpy as np\n",
    "\n",
    "from itertools import product"
   ]
  },
  {
   "cell_type": "code",
   "execution_count": 2,
   "metadata": {},
   "outputs": [],
   "source": [
    "# HIDDEN \n",
    "die = np.arange(1, 7, 1)\n",
    "five_rolls = list(product(die, repeat=5))\n",
    "five_roll_probs = (1/6**5)**np.ones(6**5)\n",
    "five_roll_space = Table().with_columns(\n",
    "   'omega', five_rolls,\n",
    "    'P(omega)', five_roll_probs\n",
    ")\n",
    "five_rolls_sum = Table().with_columns(\n",
    "    'omega', five_rolls,\n",
    "    'S(omega)', five_roll_space.apply(sum, 'omega'),\n",
    "    'P(omega)', five_roll_probs\n",
    ")"
   ]
  },
  {
   "cell_type": "markdown",
   "metadata": {},
   "source": [
    "## Distributions ##"
   ]
  },
  {
   "cell_type": "markdown",
   "metadata": {
    "collapsed": true
   },
   "source": [
    "Our space is the outcomes of five rolls of a die, and our random variable $S$ is the total number of spots on the five rolls."
   ]
  },
  {
   "cell_type": "code",
   "execution_count": 3,
   "metadata": {},
   "outputs": [
    {
     "data": {
      "text/html": [
       "<table border=\"1\" class=\"dataframe\">\n",
       "    <thead>\n",
       "        <tr>\n",
       "            <th>omega</th> <th>S(omega)</th> <th>P(omega)</th>\n",
       "        </tr>\n",
       "    </thead>\n",
       "    <tbody>\n",
       "        <tr>\n",
       "            <td>[1 1 1 1 1]</td> <td>5       </td> <td>0.000128601</td>\n",
       "        </tr>\n",
       "        <tr>\n",
       "            <td>[1 1 1 1 2]</td> <td>6       </td> <td>0.000128601</td>\n",
       "        </tr>\n",
       "        <tr>\n",
       "            <td>[1 1 1 1 3]</td> <td>7       </td> <td>0.000128601</td>\n",
       "        </tr>\n",
       "        <tr>\n",
       "            <td>[1 1 1 1 4]</td> <td>8       </td> <td>0.000128601</td>\n",
       "        </tr>\n",
       "        <tr>\n",
       "            <td>[1 1 1 1 5]</td> <td>9       </td> <td>0.000128601</td>\n",
       "        </tr>\n",
       "        <tr>\n",
       "            <td>[1 1 1 1 6]</td> <td>10      </td> <td>0.000128601</td>\n",
       "        </tr>\n",
       "        <tr>\n",
       "            <td>[1 1 1 2 1]</td> <td>6       </td> <td>0.000128601</td>\n",
       "        </tr>\n",
       "        <tr>\n",
       "            <td>[1 1 1 2 2]</td> <td>7       </td> <td>0.000128601</td>\n",
       "        </tr>\n",
       "        <tr>\n",
       "            <td>[1 1 1 2 3]</td> <td>8       </td> <td>0.000128601</td>\n",
       "        </tr>\n",
       "        <tr>\n",
       "            <td>[1 1 1 2 4]</td> <td>9       </td> <td>0.000128601</td>\n",
       "        </tr>\n",
       "    </tbody>\n",
       "</table>\n",
       "<p>... (7766 rows omitted)</p>"
      ],
      "text/plain": [
       "omega       | S(omega) | P(omega)\n",
       "[1 1 1 1 1] | 5        | 0.000128601\n",
       "[1 1 1 1 2] | 6        | 0.000128601\n",
       "[1 1 1 1 3] | 7        | 0.000128601\n",
       "[1 1 1 1 4] | 8        | 0.000128601\n",
       "[1 1 1 1 5] | 9        | 0.000128601\n",
       "[1 1 1 1 6] | 10       | 0.000128601\n",
       "[1 1 1 2 1] | 6        | 0.000128601\n",
       "[1 1 1 2 2] | 7        | 0.000128601\n",
       "[1 1 1 2 3] | 8        | 0.000128601\n",
       "[1 1 1 2 4] | 9        | 0.000128601\n",
       "... (7766 rows omitted)"
      ]
     },
     "execution_count": 3,
     "metadata": {},
     "output_type": "execute_result"
    }
   ],
   "source": [
    "five_rolls_sum"
   ]
  },
  {
   "cell_type": "markdown",
   "metadata": {},
   "source": [
    "In the last section we found $P(S = 10)$. We could use that same process to find $P(S = s)$ for each possible value of $s$. The `group` method allows us to do this for all $s$ at the same time."
   ]
  },
  {
   "cell_type": "markdown",
   "metadata": {},
   "source": [
    "To do this, we will start by dropping the `omega` column. Then we will `group` the table by the distinct values of `S(omega)`, and use `sum` to add up all the probabilities in each group."
   ]
  },
  {
   "cell_type": "code",
   "execution_count": 4,
   "metadata": {},
   "outputs": [
    {
     "data": {
      "text/html": [
       "<table border=\"1\" class=\"dataframe\">\n",
       "    <thead>\n",
       "        <tr>\n",
       "            <th>S(omega)</th> <th>P(omega) sum</th>\n",
       "        </tr>\n",
       "    </thead>\n",
       "    <tbody>\n",
       "        <tr>\n",
       "            <td>5       </td> <td>0.000128601 </td>\n",
       "        </tr>\n",
       "        <tr>\n",
       "            <td>6       </td> <td>0.000643004 </td>\n",
       "        </tr>\n",
       "        <tr>\n",
       "            <td>7       </td> <td>0.00192901  </td>\n",
       "        </tr>\n",
       "        <tr>\n",
       "            <td>8       </td> <td>0.00450103  </td>\n",
       "        </tr>\n",
       "        <tr>\n",
       "            <td>9       </td> <td>0.00900206  </td>\n",
       "        </tr>\n",
       "        <tr>\n",
       "            <td>10      </td> <td>0.0162037   </td>\n",
       "        </tr>\n",
       "        <tr>\n",
       "            <td>11      </td> <td>0.0263632   </td>\n",
       "        </tr>\n",
       "        <tr>\n",
       "            <td>12      </td> <td>0.0392233   </td>\n",
       "        </tr>\n",
       "        <tr>\n",
       "            <td>13      </td> <td>0.0540123   </td>\n",
       "        </tr>\n",
       "        <tr>\n",
       "            <td>14      </td> <td>0.0694444   </td>\n",
       "        </tr>\n",
       "    </tbody>\n",
       "</table>\n",
       "<p>... (16 rows omitted)</p>"
      ],
      "text/plain": [
       "S(omega) | P(omega) sum\n",
       "5        | 0.000128601\n",
       "6        | 0.000643004\n",
       "7        | 0.00192901\n",
       "8        | 0.00450103\n",
       "9        | 0.00900206\n",
       "10       | 0.0162037\n",
       "11       | 0.0263632\n",
       "12       | 0.0392233\n",
       "13       | 0.0540123\n",
       "14       | 0.0694444\n",
       "... (16 rows omitted)"
      ]
     },
     "execution_count": 4,
     "metadata": {},
     "output_type": "execute_result"
    }
   ],
   "source": [
    "dist_S = five_rolls_sum.drop('omega').group('S(omega)', sum)\n",
    "dist_S"
   ]
  },
  {
   "cell_type": "markdown",
   "metadata": {},
   "source": [
    "This table shows all the possible values of $S$ along with all their probabilities. It is called a *probability distribution table* for $S$. \n",
    "\n",
    "The contents of the table – all the possible values of the random variable, along with all their probabilities – are called the *probability distribution of $S$*, or just *distribution of $S$* for short. The distribution shows how the total probability of 100% is distributed over all the possible values of $S$.\n",
    "\n",
    "Let's check this, to make sure that all the $\\omega$'s in the outcome space have been accounted for in the column of probabilities."
   ]
  },
  {
   "cell_type": "code",
   "execution_count": 5,
   "metadata": {},
   "outputs": [
    {
     "data": {
      "text/plain": [
       "0.99999999999999911"
      ]
     },
     "execution_count": 5,
     "metadata": {},
     "output_type": "execute_result"
    }
   ],
   "source": [
    "dist_S.column(1).sum()"
   ]
  },
  {
   "cell_type": "markdown",
   "metadata": {},
   "source": [
    "That's 1 in a computing environment. This is a feature of any probability distribution:\n",
    "\n",
    "**Probabilities in a distribution are non-negative and sum to 1**."
   ]
  },
  {
   "cell_type": "markdown",
   "metadata": {},
   "source": [
    "### Visualizing the Distribution ###\n",
    "In Data 8 you used the `datascience` library to work with distributions of data. The `prob140` library builds on `datascience` to provide some convenient tools for working with probability distributions and events. \n",
    "\n",
    "First, we will construct a probability distribution object which, while it looks very much like the table above, expects a probability distribution in the second column and complains if it finds anything else.\n",
    "\n",
    "To keep the code easily readable, let's extract the possible values and probabilities separately as arrays:"
   ]
  },
  {
   "cell_type": "code",
   "execution_count": 6,
   "metadata": {},
   "outputs": [],
   "source": [
    "s = dist_S.column(0)\n",
    "p_s = dist_S.column(1)"
   ]
  },
  {
   "cell_type": "markdown",
   "metadata": {},
   "source": [
    "To turn these into a probability distribution object, start with an empty table and use the `values` and `probability` Table methods. The argument of `values` is a list or an array of possible values, and the argument of `probability` is a list or an array of the corresponding probabilities. "
   ]
  },
  {
   "cell_type": "code",
   "execution_count": 7,
   "metadata": {},
   "outputs": [
    {
     "data": {
      "text/html": [
       "<table border=\"1\" class=\"dataframe\">\n",
       "    <thead>\n",
       "        <tr>\n",
       "            <th>Value</th> <th>Probability</th>\n",
       "        </tr>\n",
       "    </thead>\n",
       "    <tbody>\n",
       "        <tr>\n",
       "            <td>5    </td> <td>0.000128601</td>\n",
       "        </tr>\n",
       "        <tr>\n",
       "            <td>6    </td> <td>0.000643004</td>\n",
       "        </tr>\n",
       "        <tr>\n",
       "            <td>7    </td> <td>0.00192901 </td>\n",
       "        </tr>\n",
       "        <tr>\n",
       "            <td>8    </td> <td>0.00450103 </td>\n",
       "        </tr>\n",
       "        <tr>\n",
       "            <td>9    </td> <td>0.00900206 </td>\n",
       "        </tr>\n",
       "        <tr>\n",
       "            <td>10   </td> <td>0.0162037  </td>\n",
       "        </tr>\n",
       "        <tr>\n",
       "            <td>11   </td> <td>0.0263632  </td>\n",
       "        </tr>\n",
       "        <tr>\n",
       "            <td>12   </td> <td>0.0392233  </td>\n",
       "        </tr>\n",
       "        <tr>\n",
       "            <td>13   </td> <td>0.0540123  </td>\n",
       "        </tr>\n",
       "        <tr>\n",
       "            <td>14   </td> <td>0.0694444  </td>\n",
       "        </tr>\n",
       "    </tbody>\n",
       "</table>\n",
       "<p>... (16 rows omitted)</p>"
      ],
      "text/plain": [
       "Value | Probability\n",
       "5     | 0.000128601\n",
       "6     | 0.000643004\n",
       "7     | 0.00192901\n",
       "8     | 0.00450103\n",
       "9     | 0.00900206\n",
       "10    | 0.0162037\n",
       "11    | 0.0263632\n",
       "12    | 0.0392233\n",
       "13    | 0.0540123\n",
       "14    | 0.0694444\n",
       "... (16 rows omitted)"
      ]
     },
     "execution_count": 7,
     "metadata": {},
     "output_type": "execute_result"
    }
   ],
   "source": [
    "dist_S = Table().values(s).probability(p_s)\n",
    "dist_S"
   ]
  },
  {
   "cell_type": "markdown",
   "metadata": {},
   "source": [
    "That looks exactly like the table we had before except for more readable column labels. But now for the benefit: to visualize the distribution in a histogram, just use the `prob140` method `Plot` as follows."
   ]
  },
  {
   "cell_type": "code",
   "execution_count": 8,
   "metadata": {},
   "outputs": [
    {
     "data": {
      "image/png": "[encoded data removed]",
      "text/plain": [
       "<Figure size 432x288 with 1 Axes>"
      ]
     },
     "metadata": {},
     "output_type": "display_data"
    }
   ],
   "source": [
    "Plot(dist_S)"
   ]
  },
  {
   "cell_type": "markdown",
   "metadata": {},
   "source": [
    "#### Notes on `Plot` ####\n",
    "- Recall that `hist` in the `datascience` library displays a histogram of raw data contained in a column of a table. `Plot` in the `prob140` library displays a probability histogram based on a probability distribution as the input.\n",
    "\n",
    "- `Plot` only works on probability distribution objects created using the `values` and `probability` methods. It won't work on a general member of the `Table` class.\n",
    "\n",
    "- `Plot` works well with random variables that have integer values. Many of the random variables you will encounter in the next few chapters will be integer-valued. For displaying the distributions of other random variables, binning decisions are more complicated."
   ]
  },
  {
   "cell_type": "markdown",
   "metadata": {},
   "source": [
    "#### Notes on the Distribution of $S$ ####\n",
    "Here we have the bell shaped curve appearing as the distribution of the sum of five rolls of a die. Notice two differences between this histogram and the bell shaped distributions you saw in Data 8.\n",
    "- This one displays an exact distribution. It was computed based on *all* the possible outcomes of the experiment. It is not an approximation nor an empirical histogram.\n",
    "- The statement of the Central Limit Theorem in Data 8 said that the distribution of the sum of a *large* random sample is roughly normal. But here you're seeing a bell shaped distribution for the sum of only five rolls. If you start out with a uniform distribution (which is the distribution of a single roll), then you don't need a large sample before the probability distribution of the sum starts to look normal."
   ]
  },
  {
   "cell_type": "markdown",
   "metadata": {},
   "source": [
    "### Visualizing Probabilities of Events ###\n",
    "As you know from Data 8, the interval between the points of inflection of the bell curve contains about 68% of the area of the curve. Though the histogram above isn't exactly a bell curve – it is a discrete histogram with only 26 bars – it's pretty close. The points of inflection appear to be 14 and 21, roughly.\n",
    "\n",
    "The `event` argument of `Plot` lets you visualize the probability of the event, as follows."
   ]
  },
  {
   "cell_type": "code",
   "execution_count": 9,
   "metadata": {},
   "outputs": [
    {
     "data": {
      "image/png": "[encoded data removed]",
      "text/plain": [
       "<Figure size 432x288 with 1 Axes>"
      ]
     },
     "metadata": {},
     "output_type": "display_data"
    }
   ],
   "source": [
    "Plot(dist_S, event = np.arange(14, 22, 1))"
   ]
  },
  {
   "cell_type": "markdown",
   "metadata": {},
   "source": [
    "The gold area is the equal to $P(14 \\le S \\le 21)$.\n",
    "\n",
    "The `prob_event` method operates on probability distribution objects to return the probability of an event. To find $P(14 \\le S \\le 21)$, use it as follows."
   ]
  },
  {
   "cell_type": "code",
   "execution_count": 10,
   "metadata": {},
   "outputs": [
    {
     "data": {
      "text/plain": [
       "0.6959876543209863"
      ]
     },
     "execution_count": 10,
     "metadata": {},
     "output_type": "execute_result"
    }
   ],
   "source": [
    "dist_S.prob_event(np.arange(14, 22, 1))"
   ]
  },
  {
   "cell_type": "markdown",
   "metadata": {},
   "source": [
    "The chance is 69.6%, not very far from 68%."
   ]
  },
  {
   "cell_type": "markdown",
   "metadata": {},
   "source": [
    "### Math and Code Correspondence ###\n",
    "$P(14 \\le S \\le 21)$ can be found by partitioning the event as the union of the events $\\{S = s\\}$ in the range 14 through 21, and using the addition rule.\n",
    "\n",
    "$$\n",
    "P(14 \\le S \\le 21) = \\sum_{s = 14}^{21} P(S = s)\n",
    "$$\n",
    "\n",
    "Note carefully the use of lower case $s$ for the generic possible value, in contrast with upper case $S$ for the random variable; not doing so leads to endless confusion about what formulas mean.\n",
    "\n",
    "This one means:\n",
    "- First extract the event $\\{ S = s\\}$ for each value $s$ in the range 14 through 21:"
   ]
  },
  {
   "cell_type": "code",
   "execution_count": 11,
   "metadata": {},
   "outputs": [
    {
     "data": {
      "text/html": [
       "<table border=\"1\" class=\"dataframe\">\n",
       "    <thead>\n",
       "        <tr>\n",
       "            <th>Value</th> <th>Probability</th>\n",
       "        </tr>\n",
       "    </thead>\n",
       "    <tbody>\n",
       "        <tr>\n",
       "            <td>14   </td> <td>0.0694444  </td>\n",
       "        </tr>\n",
       "        <tr>\n",
       "            <td>15   </td> <td>0.0837191  </td>\n",
       "        </tr>\n",
       "        <tr>\n",
       "            <td>16   </td> <td>0.0945216  </td>\n",
       "        </tr>\n",
       "        <tr>\n",
       "            <td>17   </td> <td>0.100309   </td>\n",
       "        </tr>\n",
       "        <tr>\n",
       "            <td>18   </td> <td>0.100309   </td>\n",
       "        </tr>\n",
       "        <tr>\n",
       "            <td>19   </td> <td>0.0945216  </td>\n",
       "        </tr>\n",
       "        <tr>\n",
       "            <td>20   </td> <td>0.0837191  </td>\n",
       "        </tr>\n",
       "        <tr>\n",
       "            <td>21   </td> <td>0.0694444  </td>\n",
       "        </tr>\n",
       "    </tbody>\n",
       "</table>"
      ],
      "text/plain": [
       "Value | Probability\n",
       "14    | 0.0694444\n",
       "15    | 0.0837191\n",
       "16    | 0.0945216\n",
       "17    | 0.100309\n",
       "18    | 0.100309\n",
       "19    | 0.0945216\n",
       "20    | 0.0837191\n",
       "21    | 0.0694444"
      ]
     },
     "execution_count": 11,
     "metadata": {},
     "output_type": "execute_result"
    }
   ],
   "source": [
    "event_table = dist_S.where(0, are.between(14, 22))\n",
    "event_table"
   ]
  },
  {
   "cell_type": "markdown",
   "metadata": {},
   "source": [
    "- Then add the probabilities of all those events:"
   ]
  },
  {
   "cell_type": "code",
   "execution_count": 12,
   "metadata": {},
   "outputs": [
    {
     "data": {
      "text/plain": [
       "0.6959876543209863"
      ]
     },
     "execution_count": 12,
     "metadata": {},
     "output_type": "execute_result"
    }
   ],
   "source": [
    "event_table.column('Probability').sum()"
   ]
  },
  {
   "cell_type": "markdown",
   "metadata": {},
   "source": [
    "The `prob_event` method does all this in one step. Here it is again, for comparison."
   ]
  },
  {
   "cell_type": "code",
   "execution_count": 13,
   "metadata": {},
   "outputs": [
    {
     "data": {
      "text/plain": [
       "0.6959876543209863"
      ]
     },
     "execution_count": 13,
     "metadata": {},
     "output_type": "execute_result"
    }
   ],
   "source": [
    "dist_S.prob_event(np.arange(14, 22, 1))"
   ]
  },
  {
   "cell_type": "markdown",
   "metadata": {},
   "source": [
    "You can use the same basic method in various ways to find the probability of any event determined by $S$. Here are two examples.\n",
    "\n",
    "**Example 1.**\n",
    "$$\n",
    "P(S^2 = 400) = P(S = 20) = 8.37\\%\n",
    "$$\n",
    "from the table above.\n",
    "\n",
    "**Example 2.**\n",
    "$$\n",
    "P(S > 20) = \\sum_{s=20}^{30} P(S = s)\n",
    "$$"
   ]
  },
  {
   "cell_type": "markdown",
   "metadata": {},
   "source": [
    "A quick way of finding the numerical value:"
   ]
  },
  {
   "cell_type": "code",
   "execution_count": 14,
   "metadata": {},
   "outputs": [
    {
     "data": {
      "text/plain": [
       "0.30516975308642047"
      ]
     },
     "execution_count": 14,
     "metadata": {},
     "output_type": "execute_result"
    }
   ],
   "source": [
    "dist_S.prob_event(np.arange(20, 31, 1))"
   ]
  },
  {
   "cell_type": "markdown",
   "metadata": {},
   "source": [
    "**Example 3.**\n",
    "$$\n",
    "P(\\big{\\vert} S - 10 \\big{|} \\le 6) ~ = ~ P(4 \\le S \\le 16) ~ = ~ \\sum_{s=4}^{16} P(S=s)\n",
    "$$"
   ]
  },
  {
   "cell_type": "code",
   "execution_count": 15,
   "metadata": {},
   "outputs": [
    {
     "data": {
      "text/plain": [
       "0.39969135802469169"
      ]
     },
     "execution_count": 15,
     "metadata": {},
     "output_type": "execute_result"
    }
   ],
   "source": [
    "dist_S.prob_event(np.arange(4, 17, 1))"
   ]
  },
  {
   "cell_type": "code",
   "execution_count": 16,
   "metadata": {
    "collapsed": true
   },
   "outputs": [],
   "source": []
  }
 ],
 "metadata": {
  "anaconda-cloud": {},
  "kernelspec": {
   "display_name": "Python 3",
   "language": "python",
   "name": "python3"
  },
  "language_info": {
   "codemirror_mode": {
    "name": "ipython",
    "version": 3
   },
   "file_extension": ".py",
   "mimetype": "text/x-python",
   "name": "python",
   "nbconvert_exporter": "python",
   "pygments_lexer": "ipython3",
   "version": "3.6.4"
  }
 },
 "nbformat": 4,
 "nbformat_minor": 1
}
