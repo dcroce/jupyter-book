{
 "cells": [
  {
   "cell_type": "code",
   "execution_count": 1,
   "metadata": {
    "collapsed": true
   },
   "outputs": [],
   "source": [
    "# HIDDEN\n",
    "from datascience import *\n",
    "from prob140 import *\n",
    "import numpy as np\n",
    "import matplotlib.pyplot as plt\n",
    "plt.style.use('fivethirtyeight')\n",
    "%matplotlib inline\n",
    "import math\n",
    "from scipy import stats"
   ]
  },
  {
   "cell_type": "markdown",
   "metadata": {},
   "source": [
    "### Randomizing a Parameter ###\n",
    "In an earlier chapter we saw that Poissonizing the number of i.i.d. Bernoulli trials has a remarkable effect on the relation between the number of successes and the number of failures. In other situations too, randomizing the parameter of a standard model can affect supposedly well-understood relations between random variables.\n",
    "\n",
    "In this section we will study one simple example of how randomizing a parameter affects dependence and independence."
   ]
  },
  {
   "cell_type": "markdown",
   "metadata": {},
   "source": [
    "### Tossing a Random Coin ###\n",
    "Suppose I have three coins. Coin 1 lands heads with chance 0.25, Coin 2 with chance 0.5, and Coin 3 with chance 0.75. I pick a coin at random and toss it twice. Let's define some notation:\n",
    "- $X$ is the label of the coin that I pick.\n",
    "- $Y$ is the number of heads in the two tosses.\n",
    "\n",
    "Then $X$ is uniform on $\\{1, 2, 3\\}$, and given $X$, the conditional distribution of $Y$ is binomial with $n=2$ and $p$ corresponding to the given coin. Here is the joint distribution table for $X$ and $Y$, along with the marginal of $X$."
   ]
  },
  {
   "cell_type": "code",
   "execution_count": 3,
   "metadata": {
    "collapsed": false
   },
   "outputs": [
    {
     "data": {
      "text/html": [
       "<div>\n",
       "<table border=\"1\" class=\"dataframe\">\n",
       "  <thead>\n",
       "    <tr style=\"text-align: right;\">\n",
       "      <th></th>\n",
       "      <th>X=1</th>\n",
       "      <th>X=2</th>\n",
       "      <th>X=3</th>\n",
       "    </tr>\n",
       "  </thead>\n",
       "  <tbody>\n",
       "    <tr>\n",
       "      <th>Y=2</th>\n",
       "      <td>0.020833</td>\n",
       "      <td>0.083333</td>\n",
       "      <td>0.187500</td>\n",
       "    </tr>\n",
       "    <tr>\n",
       "      <th>Y=1</th>\n",
       "      <td>0.125000</td>\n",
       "      <td>0.166667</td>\n",
       "      <td>0.125000</td>\n",
       "    </tr>\n",
       "    <tr>\n",
       "      <th>Y=0</th>\n",
       "      <td>0.187500</td>\n",
       "      <td>0.083333</td>\n",
       "      <td>0.020833</td>\n",
       "    </tr>\n",
       "    <tr>\n",
       "      <th>Sum: Marginal of X</th>\n",
       "      <td>0.333333</td>\n",
       "      <td>0.333333</td>\n",
       "      <td>0.333333</td>\n",
       "    </tr>\n",
       "  </tbody>\n",
       "</table>\n",
       "</div>"
      ],
      "text/plain": [
       "                         X=1       X=2       X=3\n",
       "Y=2                 0.020833  0.083333  0.187500\n",
       "Y=1                 0.125000  0.166667  0.125000\n",
       "Y=0                 0.187500  0.083333  0.020833\n",
       "Sum: Marginal of X  0.333333  0.333333  0.333333"
      ]
     },
     "execution_count": 3,
     "metadata": {},
     "output_type": "execute_result"
    }
   ],
   "source": [
    "x = make_array(1, 2, 3)\n",
    "y = np.arange(3)\n",
    "def jt(x, y):\n",
    "    if x == 1:\n",
    "        return (1/3)*stats.binom.pmf(y, 2, 0.25)\n",
    "    if x == 2:\n",
    "        return (1/3)*stats.binom.pmf(y, 2, 0.5)\n",
    "    if x == 3:\n",
    "        return (1/3)*stats.binom.pmf(y, 2, 0.75)\n",
    "dist_tbl = Table().values('X', x, 'Y', y).probability_function(jt)\n",
    "dist = dist_tbl.toJoint()\n",
    "dist.marginal('X')"
   ]
  },
  {
   "cell_type": "markdown",
   "metadata": {},
   "source": [
    "And here is the posterior distribution of $X$ given each different value of $Y$:"
   ]
  },
  {
   "cell_type": "code",
   "execution_count": 5,
   "metadata": {
    "collapsed": false
   },
   "outputs": [
    {
     "data": {
      "text/html": [
       "<div>\n",
       "<table border=\"1\" class=\"dataframe\">\n",
       "  <thead>\n",
       "    <tr style=\"text-align: right;\">\n",
       "      <th></th>\n",
       "      <th>X=1</th>\n",
       "      <th>X=2</th>\n",
       "      <th>X=3</th>\n",
       "      <th>Sum</th>\n",
       "    </tr>\n",
       "  </thead>\n",
       "  <tbody>\n",
       "    <tr>\n",
       "      <th>Dist. of X | Y=2</th>\n",
       "      <td>0.071429</td>\n",
       "      <td>0.285714</td>\n",
       "      <td>0.642857</td>\n",
       "      <td>1.0</td>\n",
       "    </tr>\n",
       "    <tr>\n",
       "      <th>Dist. of X | Y=1</th>\n",
       "      <td>0.300000</td>\n",
       "      <td>0.400000</td>\n",
       "      <td>0.300000</td>\n",
       "      <td>1.0</td>\n",
       "    </tr>\n",
       "    <tr>\n",
       "      <th>Dist. of X | Y=0</th>\n",
       "      <td>0.642857</td>\n",
       "      <td>0.285714</td>\n",
       "      <td>0.071429</td>\n",
       "      <td>1.0</td>\n",
       "    </tr>\n",
       "    <tr>\n",
       "      <th>Marginal of X</th>\n",
       "      <td>0.333333</td>\n",
       "      <td>0.333333</td>\n",
       "      <td>0.333333</td>\n",
       "      <td>1.0</td>\n",
       "    </tr>\n",
       "  </tbody>\n",
       "</table>\n",
       "</div>"
      ],
      "text/plain": [
       "                       X=1       X=2       X=3  Sum\n",
       "Dist. of X | Y=2  0.071429  0.285714  0.642857  1.0\n",
       "Dist. of X | Y=1  0.300000  0.400000  0.300000  1.0\n",
       "Dist. of X | Y=0  0.642857  0.285714  0.071429  1.0\n",
       "Marginal of X     0.333333  0.333333  0.333333  1.0"
      ]
     },
     "execution_count": 5,
     "metadata": {},
     "output_type": "execute_result"
    }
   ],
   "source": [
    "dist.conditional_dist('X', 'Y')"
   ]
  },
  {
   "cell_type": "markdown",
   "metadata": {},
   "source": [
    "As we have seen in earlier examples, when the given number of heads is low, the posterior distribution favors the coin that is biased towards tails. When the given number of heads is high, it favors the coin that is biased towards heads."
   ]
  },
  {
   "cell_type": "markdown",
   "metadata": {},
   "source": [
    "### Are the Two Tosses Independent? ###\n",
    "We have always assumed that tosses of a coin are independent of each other. But within that assumption was another assumption, unspoken: *we knew which coin we were tossing*. That is, the chance of heads $p$ was a fixed number. But now we don't know which coin we are tossing, so we have to be careful.\n",
    "\n",
    "Let $H_i$ be the event that Toss $i$ lands heads. Then\n",
    "\n",
    "$$\n",
    "P(H_1) = \\frac{1}{3}\\cdot 0.25 ~+~ \\frac{1}{3}\\cdot 0.5 ~+~ \\frac{1}{3}\\cdot 0.75 ~=~ 0.5 ~=~ P(H_2)\n",
    "$$\n",
    "\n",
    "So each toss is equally likely to be heads or tails. Now let's find $P(H_1H_2)$. If the two tosses are independent, our answer shoud be 0.25.\n",
    "\n",
    "$$\n",
    "P(H_1H_2) = \\frac{1}{3}\\cdot 0.25^2 ~+~ \\frac{1}{3}\\cdot 0.5^2 ~+~ \\frac{1}{3}\\cdot 0.75^2 ~=~ 0.2917 ~ \\ne P(H_1)P(H_2)\n",
    "$$"
   ]
  },
  {
   "cell_type": "code",
   "execution_count": 7,
   "metadata": {
    "collapsed": false
   },
   "outputs": [
    {
     "data": {
      "text/plain": [
       "0.29166666666666663"
      ]
     },
     "execution_count": 7,
     "metadata": {},
     "output_type": "execute_result"
    }
   ],
   "source": [
    "(1/3)*(0.25**2 + 0.5**2 + 0.75**2)"
   ]
  },
  {
   "cell_type": "markdown",
   "metadata": {},
   "source": [
    "**The two tosses are not independent.** Because the coin itself is random, knowing the result of Toss 1 tells you something about which coin was picked, and hence affects the probability that Toss 2 lands heads.\n",
    "\n",
    "$$\n",
    "P(H_2 \\mid H_1) = \\frac{P(H_1H_2)}{P(H_1)} = \\frac{0.2917}{0.5} = 0.5834 > 0.5 = P(H_2)\n",
    "$$"
   ]
  },
  {
   "cell_type": "markdown",
   "metadata": {},
   "source": [
    "Knowing that the first coin landed heads makes it more likely that Coin 3 was picked, and hence increases the conditional chance that that the second toss will be a head."
   ]
  },
  {
   "cell_type": "markdown",
   "metadata": {},
   "source": [
    "This example shows that you have to be careful about how data can affect probabilities. To make justifiable conclusions based on your data, keep assumptions in mind when you calculate probabilities, and use the division rule to update probabilities as more data comes in."
   ]
  },
  {
   "cell_type": "code",
   "execution_count": null,
   "metadata": {
    "collapsed": true
   },
   "outputs": [],
   "source": []
  }
 ],
 "metadata": {
  "kernelspec": {
   "display_name": "Python [Root]",
   "language": "python",
   "name": "Python [Root]"
  },
  "language_info": {
   "codemirror_mode": {
    "name": "ipython",
    "version": 3
   },
   "file_extension": ".py",
   "mimetype": "text/x-python",
   "name": "python",
   "nbconvert_exporter": "python",
   "pygments_lexer": "ipython3",
   "version": "3.5.2"
  }
 },
 "nbformat": 4,
 "nbformat_minor": 0
}
