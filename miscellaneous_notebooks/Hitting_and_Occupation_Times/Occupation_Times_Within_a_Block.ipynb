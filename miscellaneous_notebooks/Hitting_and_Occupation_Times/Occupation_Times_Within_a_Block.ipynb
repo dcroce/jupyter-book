{
 "cells": [
  {
   "cell_type": "code",
   "execution_count": 1,
   "metadata": {
    "collapsed": true
   },
   "outputs": [],
   "source": [
    "# HIDDEN\n",
    "from datascience import *\n",
    "from prob140 import *\n",
    "import numpy as np\n",
    "import matplotlib.pyplot as plt\n",
    "plt.style.use('fivethirtyeight')\n",
    "%matplotlib inline\n",
    "import math\n",
    "from scipy import stats\n",
    "from scipy import misc"
   ]
  },
  {
   "cell_type": "markdown",
   "metadata": {},
   "source": [
    "### Occupation Times Within a Block ###\n",
    "Suppose the chain starts at $i$. Then it is intuitively plausible that once it returns to $i$, it \"starts all over again\" as though it were starting at $i$ at time 0. This hand-wavy statement can be turned into mathematics, but in this course we'll just accept it without doing the math. \n",
    "\n",
    "Start the chain at $i$, that is, with the initial distribution $P(X_0 = i) = 1$. Define an *$i$-block* to be the chain till the step before it returns to $i$:\n",
    "\n",
    "- Under the initial condition that $X_0 = i$, an $i$-block is $X_0, X_1, X_2, \\ldots, X_{W_i - 1}$.\n",
    "\n",
    "Here $W_i$ is the hitting time of $i$ as defined in the previous section:\n",
    "\n",
    "$$\n",
    "W_i = \\inf \\{n \\ge 1: X_n = i \\}\n",
    "$$\n",
    "\n",
    "Notice that in an $i$-block, the chain is only at $i$ once, at time 0.\n",
    "\n",
    "Notice also that the length of the $i$-block is $W_i$. You can see this by counting indices in the definition of the $i$-block. But the $i$-block doesn't end at time $W_i$; it ends one step earlier. Its length is $W_i$ because it includes time 0, whereas $W_i$ starts counting time at 1. Informally, the $i$-block includes the $i$ at the start of the block but not the $i$ directly following the block, whereas $W_i$ doesn't include time 0 but does include the moment when $i$ appears at the end of the block.\n",
    "\n",
    "This will become clear when you look at the graph below, in which $i = 3$. The blue dots are the $i$-block. There are 8 dots in it, corresponding to times 0 through 7. The red dot immediately after the $i$-block shows the return to $i$. It's at time 8."
   ]
  },
  {
   "cell_type": "code",
   "execution_count": 20,
   "metadata": {
    "collapsed": false
   },
   "outputs": [
    {
     "data": {
      "image/png": "[encoded data removed]",
      "text/plain": [
       "<matplotlib.figure.Figure at 0x117994be0>"
      ]
     },
     "metadata": {},
     "output_type": "display_data"
    }
   ],
   "source": [
    "# HIDDEN\n",
    "tosses = make_array(1, 1, 1, -1, -1, 1, -1, -1)\n",
    "fortune = np.cumsum(np.append(3, tosses))\n",
    "plt.scatter(np.arange(9), fortune, color='darkblue')\n",
    "plt.scatter(8, 3, color='r')\n",
    "plt.ylim(-0.5, 7.5)\n",
    "plt.xlim(-0.2, 8.5)\n",
    "plt.xlabel('$n$')\n",
    "plt.ylabel('$X_n$', rotation=0)\n",
    "plt.xticks(np.arange(0, 9, 1))\n",
    "plt.yticks(np.arange(0, 8, 1))\n",
    "plt.title('$i$-Block with $i=3$ and $W_i$ = 8');"
   ]
  },
  {
   "cell_type": "markdown",
   "metadata": {},
   "source": [
    "We have been careful not to include $X_{W_i}$ in the $i$-block. At time $W_i$ the chain returns to $i$, and we will think of that as the start of the next $i$-block. Because the chain \"starts over\" at $i$, we can imagine the entire chain as identically distributed $i$-blocks strung together one after another. Therefore there are close relations between long run properties of the chain and short run properties on an $i$-block. Let's look at one of these relations.\n",
    "\n",
    "Let $X_0 = i$ and let $N(j)$ be the number of times the chain is at $j$ in the $i$-block. We will call $N(j)$ the *number of visits to $j$ in an $i$-block*.\n",
    "\n",
    "As we have already observed, $N(i) = 1$ with probability 1. By partitioning the $i$-block according to visits to the different states, the length of the $i$-block can be written as a sum:\n",
    "\n",
    "$$\n",
    "\\text{length of } i\\text{-block} = W_i = 1 + \\sum_{j \\ne i} N(j)\n",
    "$$\n",
    "\n",
    "You can check this in the graph above where $i=3$. The graph shows a path for which $N(3) = 1$, $N(4) = 3 = N(5)$, $N(6) = 1$, and $N(j) = 0$ for all other states $j$. The sum of all these occupation times is 8, which is also the value of $W_i$.\n",
    "\n",
    "So\n",
    "$$\n",
    "\\frac{1}{\\pi(i)} = E(W_i \\mid X_0 = i) = 1 + \\sum_{j \\ne i} E(N(j) \\mid X_0 = i)\n",
    "$$\n",
    "\n",
    "### Expected Occupation Times in an $i$-Block ###\n",
    "Fix a state $j$. The expected number of visits to $j$ in an $i$-block is\n",
    "\n",
    "$$\n",
    "E(N(j) \\mid X_0 = i) = \\frac{\\pi(j)}{\\pi(i)}\n",
    "$$\n",
    "\n",
    "A formal proof requires a little care; we won't go through it. Rather, we will show why the formula is consistent with our previous calculations and with intuition.\n",
    "\n",
    "- The formula is correct for $j = i$, because $N(i) = 1$ with probability 1.\n",
    "- The terms add up to $\\frac{1}{\\pi(i)}$ as we have shown they must.\n",
    "\n",
    "$$\n",
    "1 + \\sum_{j \\ne i} \\frac{\\pi(j)}{\\pi(i)} \n",
    "~ = ~ \\frac{\\pi(i)}{\\pi(i)} + \\sum_{j \\ne i} \\frac{\\pi(j)}{\\pi(i)} \n",
    "~ = ~ \\frac{1}{\\pi(i)} \\big{(} \\sum_{\\text{all }j} \\pi(j) \\big{)} \n",
    "~ = ~ \\frac{1}{\\pi(i)}\n",
    "$$\n",
    "\n",
    "because $\\pi$ is a probability distribution and hence sums to 1.\n",
    "\n",
    "- Think of the chain as a string of $i$-blocks. You know that overall, the expected proportion of times that the chain spends at $j$ is $\\pi(j)$. Since the $i$-blocks are identically distributed copies of each other, it makes sense that the chain is expected to spend the same proportion $\\pi(j)$ of time in $j$ in each $i$-block. Since the length of an $i$-block is expected to be $1/\\pi(i)$, the expected number of times the chain is at $j$ in an $i$-block is $\\pi(j)/\\pi(i)$."
   ]
  },
  {
   "cell_type": "markdown",
   "metadata": {
    "collapsed": true
   },
   "source": [
    "### Example: Ehrenfest Model ####\n",
    "In the example of the Ehrenfest model we worked with in the previous section, the stationary distribution is binomial $(N, 1/2)$. Suppose the chain starts at $X_n = 0$, that is, with Container 1 empty. Then for every $k$, the expected number of times Container 1 has $k$ particles before it is once again empty is\n",
    "\n",
    "$$\n",
    "\\frac{\\binom{N}{k}(1/2)^N}{\\binom{N}{0}(1/2)^N} = \\binom{N}{k}\n",
    "$$"
   ]
  },
  {
   "cell_type": "markdown",
   "metadata": {
    "collapsed": true
   },
   "source": [
    "### Example: Uniform Stationary Distribution ###\n",
    "Consider any chain that has a stationary distribution that is uniform. You have seen in exercises that chains with doubly stochastic transition matrices fall into this category. Suppose such a chain starts at state $i$. Then for any other state $j$, the expected number of times the chain visits $j$ before returning to $i$ is 1."
   ]
  },
  {
   "cell_type": "code",
   "execution_count": null,
   "metadata": {
    "collapsed": true
   },
   "outputs": [],
   "source": []
  }
 ],
 "metadata": {
  "anaconda-cloud": {},
  "kernelspec": {
   "display_name": "Python [Root]",
   "language": "python",
   "name": "Python [Root]"
  },
  "language_info": {
   "codemirror_mode": {
    "name": "ipython",
    "version": 3
   },
   "file_extension": ".py",
   "mimetype": "text/x-python",
   "name": "python",
   "nbconvert_exporter": "python",
   "pygments_lexer": "ipython3",
   "version": "3.5.2"
  }
 },
 "nbformat": 4,
 "nbformat_minor": 0
}
