{
 "cells": [
  {
   "cell_type": "code",
   "execution_count": 1,
   "metadata": {
    "collapsed": true
   },
   "outputs": [],
   "source": [
    "# HIDDEN\n",
    "from datascience import *\n",
    "from prob140 import *\n",
    "import numpy as np\n",
    "import matplotlib.pyplot as plt\n",
    "plt.style.use('fivethirtyeight')\n",
    "%matplotlib inline\n",
    "from scipy import stats"
   ]
  },
  {
   "cell_type": "markdown",
   "metadata": {},
   "source": [
    "$$\n",
    "\\newcommand{\\mat}[1]{\\mathop{#1}_{\\sim}}\n",
    "\\newcommand{\\bsymb}[1]{\\boldsymbol{#1}}\n",
    "$$\n"
   ]
  },
  {
   "cell_type": "markdown",
   "metadata": {},
   "source": [
    "### Multivariate Normal Distribution ###\n",
    "The parametrization of the bivariate normal distribution by the mean vector and covariance matrix provides a straightforward way to extend the definition to more than two *multivariate* normal random variables.\n",
    "\n",
    "A *vector valued random variable*, or more simply, a *random vector*, is an array of random variables. We will think of it as a column.\n",
    "$$\n",
    "\\mat{X} ~ = ~ \n",
    "\\begin{bmatrix}\n",
    "X_1 \\\\\n",
    "X_2 \\\\\n",
    "\\vdots \\\\\n",
    "X_n\n",
    "\\end{bmatrix}\n",
    "$$"
   ]
  },
  {
   "cell_type": "markdown",
   "metadata": {},
   "source": [
    "The *mean vector* of $\\mat{X}$ is the vector of means\n",
    "$$\n",
    "\\mat{\\mu} ~ = ~\n",
    "\\begin{bmatrix}\n",
    "\\mu_{X_1} \\\\\n",
    "\\mu_{X_2} \\\\\n",
    "\\vdots \\\\\n",
    "\\mu_{X_n}\n",
    "\\end{bmatrix}\n",
    "$$"
   ]
  },
  {
   "cell_type": "markdown",
   "metadata": {},
   "source": [
    "The *covariance matrix* of $\\mat{X}$ is the matrix whose $(i, j)$th element is $Cov(X_i, X_j)$. For brevity, let $\\sigma_{X,Y}$ denote the covariance of any two random variables $X$ and $Y$. With this notation, the covariance matrix of $\\mat{X}$ is\n",
    "\n",
    "$$\n",
    "\\bsymb{\\Sigma} ~ = ~ \n",
    "\\begin{bmatrix}\n",
    "\\sigma_{X_1}^2 & \\sigma_{X_1, X_2} & \\sigma_{X_1, X_3} & \\ldots & \\sigma_{X_1, X_n} \\\\\n",
    "\\sigma_{X_2, X_1} & \\sigma_{X_2}^2 & \\sigma_{X_2, X_3} & \\ldots & \\sigma_{X_2, X_n} \\\\\n",
    "\\sigma_{X_3, X_1} & \\sigma_{X_3, X_2} & \\sigma_{X_3}^2 & \\ldots & \\sigma_{X_3, X_n} \\\\\n",
    "\\vdots & \\vdots & \\vdots & \\ddots & \\vdots \\\\\n",
    "\\sigma_{X_n, X_1} & \\sigma_{X_n, X_2} & \\sigma_{X_n, X_3} & \\ldots & \\sigma_{X_n}^2 \n",
    "\\end{bmatrix}\n",
    "$$\n",
    "\n",
    "The $i$th diagonal element of $\\bsymb{\\Sigma}$ is the variance of $X_i$. The matrix is symmetric because of the symmetry of covariance.\n",
    "\n",
    "To understand more about covariance matrices, it helps to know some linear algebra. We haven't assumed that in this course, but if you have studied linear algebra then you should check that by the rules of variance and covariance, $\\bsymb{\\Sigma}$ must be be positive definite if the distribution of $\\mat{X}$ is $n$-dimensional and not degenerate. As symmetric positive definite matrices are invertible, $\\bsymb{\\Sigma}$ has an inverse. "
   ]
  },
  {
   "cell_type": "markdown",
   "metadata": {
    "collapsed": true
   },
   "source": [
    "### Multivariate Normal Density ###\n",
    "Let $\\mat{x}$ be a vector of $n$ real values:\n",
    "$$\n",
    "\\mat{x} ~ = ~ \n",
    "\\begin{bmatrix}\n",
    "x_1 \\\\\n",
    "x_2 \\\\\n",
    "\\vdots \\\\\n",
    "x_n\n",
    "\\end{bmatrix}\n",
    "$$\n",
    "\n",
    "The *multivariate normal density* with mean vector $\\mat{\\mu}$ and covariance matrix $\\bsymb{\\Sigma}$ is the function $f$ whose value at $\\mat{x}$ is\n",
    "\n",
    "$$\n",
    "f\\big{(} \\mat{x} \\big{)} ~ = ~ \n",
    "\\frac{1}{(\\sqrt{2\\pi})^n \\sqrt{\\lvert \\bsymb{\\Sigma} \\rvert} }\n",
    "\\exp \\Big{(} -\\frac{1}{2} \\big{(}\\mat{x} - \\mat{\\mu} \\big{)}^T \\bsymb{\\Sigma}^{-1} \\big{(}\\mat{x} - \\mat{\\mu} \\big{)} \\Big{)}\n",
    "$$\n",
    "\n",
    "Here $(\\mat{x} - \\mat{\\mu})^T$ is the transpose of $\\mat{x} - \\mat{\\mu}$, and $\\lvert \\bsymb{\\Sigma} \\rvert$ is the determinant of $\\bsymb{\\Sigma}$."
   ]
  },
  {
   "cell_type": "markdown",
   "metadata": {},
   "source": [
    "Even if you have not studied linear algebra you can check that the formula is correct in the case $n = 1$. In this case $\\bsymb{\\Sigma} = [\\sigma^2]$ is just a scalar. It is a number, not a larger matrix; its determinant is itself; its inverse is simply $1/\\sigma^2$. Also, $\\mat{x} = x$ and $\\mat{\\mu} = \\mu$ are just numbers. It is easy to see that the formula above reduces to the familiar normal density with mean $\\mu$ and variance $\\sigma^2$.\n",
    "\n",
    "In the case $n = 2$, the formula is the same as the bivariate normal density of $X$ and $Y$. To see this, just check that it is true in the standard bivariate normal case. \n",
    "\n",
    "In that case\n",
    "\n",
    "$$\n",
    "\\mathop{\\mu}_{\\sim} ~ = ~\n",
    "\\begin{bmatrix}\n",
    "0 \\\\\n",
    "0\n",
    "\\end{bmatrix}\n",
    "$$\n",
    "and\n",
    "$$\n",
    "\\bsymb{\\Sigma} ~ = ~ \n",
    "\\begin{bmatrix}\n",
    "1 & \\rho \\\\\n",
    "\\rho & 1\n",
    "\\end{bmatrix}\n",
    "$$\n",
    "So\n",
    "$$\n",
    "\\lvert \\bsymb{\\Sigma} \\rvert ~ = ~ 1 - \\rho^2\n",
    "$$\n",
    "and\n",
    "$$\n",
    "\\bsymb{\\Sigma}^{-1} ~ = ~ \\frac{1}{1 - \\rho^2}\n",
    "\\begin{bmatrix}\n",
    "1 & -\\rho \\\\\n",
    "-\\rho & 1\n",
    "\\end{bmatrix}\n",
    "$$\n",
    "\n",
    "Set\n",
    "$$\n",
    "x ~ = ~\n",
    "\\begin{bmatrix}\n",
    "x \\\\ \n",
    "y\n",
    "\\end{bmatrix}\n",
    "$$\n",
    "and do the algebra. The multivariate normal density above is the same as the standard bivariate normal density with correlation $\\rho$, derived earlier in this chapter."
   ]
  },
  {
   "cell_type": "markdown",
   "metadata": {},
   "source": [
    "### Key Properties of the Multivariate Normal ###\n",
    "Properties of the multivariate normal distribution are the same as or extensions of properties of bivariate normal distributions. Think of the multivariate normal distribution as the joint distribution of random variables $X_1, X_2, \\ldots, X_n$. We won't prove the properties below but you will recognize them from the bivariate case and should use them as needed.\n",
    "\n",
    "- The distribution of a linear combination of multivariate normal variables is normal. In particular, all the marginals are normal.\n",
    "- The joint distribution of two or more linear combinations of multivariate normal variables is multivariate normal.\n",
    "- If a random vector is multivariate normal, then the conditional joint distribution of any of its subsets given any other subset is multivariate normal.\n",
    "- If multivariate normal random variables are *pairwise uncorrelated*, then they are mutually independent. "
   ]
  },
  {
   "cell_type": "code",
   "execution_count": null,
   "metadata": {
    "collapsed": true
   },
   "outputs": [],
   "source": []
  }
 ],
 "metadata": {
  "anaconda-cloud": {},
  "kernelspec": {
   "display_name": "Python 3",
   "language": "python",
   "name": "python3"
  },
  "language_info": {
   "codemirror_mode": {
    "name": "ipython",
    "version": 3
   },
   "file_extension": ".py",
   "mimetype": "text/x-python",
   "name": "python",
   "nbconvert_exporter": "python",
   "pygments_lexer": "ipython3",
   "version": "3.6.4"
  }
 },
 "nbformat": 4,
 "nbformat_minor": 1
}
