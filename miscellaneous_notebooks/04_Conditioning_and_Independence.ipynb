{
 "cells": [
  {
   "cell_type": "code",
   "execution_count": 2,
   "metadata": {
    "collapsed": true
   },
   "outputs": [],
   "source": [
    "# HIDDEN\n",
    "from datascience import *\n",
    "from prob140 import *\n",
    "import numpy as np\n",
    "import matplotlib.pyplot as plt\n",
    "plt.style.use('fivethirtyeight')\n",
    "%matplotlib inline\n",
    "import math\n",
    "from scipy import stats\n",
    "from sympy import *\n",
    "init_printing()"
   ]
  },
  {
   "cell_type": "markdown",
   "metadata": {},
   "source": [
    "## Conditioning and Independence ##"
   ]
  },
  {
   "cell_type": "markdown",
   "metadata": {},
   "source": [
    "The key to recognizing that a density is a multivariate normal density is spotting that the function in the exponent is a quadratic. \n",
    "\n",
    "This observation leads to an important result: If $\\mathbf{X}$ is multivariate normal then the conditional distribution of any subset of elements given any other subset of elements is also multivariate normal. \n",
    "\n",
    "You can see this by examining the exponents in the densities. \n",
    "\n",
    "To calculate the conditional density, we have to divide the joint density by the density of the given variables.\n",
    "- The numerator has a quadratic in the exponent.\n",
    "- The denominator has a quadratic in the exponent.\n",
    "- In the exponent of the quotient there is the difference between the quadratics, which is also a quadratic.\n",
    "\n",
    "Therefore, the conditional density is multivariate normal.\n",
    "\n",
    "In the next chapter, we will develop a way of identifying the parameters of the resulting multivariate normal distribution. For now, you can use `SymPy` to find the density numerically. Here is an example in two dimensions."
   ]
  },
  {
   "cell_type": "markdown",
   "metadata": {},
   "source": [
    "### Conditional Density by `SymPy`##\n",
    "Let $\\mathbf{X} = [X_1, X_2]^T$ be bivariate normal with mean $\\mathbf{0}$ and covariance matrix $\\boldsymbol{\\Sigma}$ given below. You can assume $\\boldsymbol{\\Sigma}$ is positive definite – in the next chapter you will see how to check."
   ]
  },
  {
   "cell_type": "code",
   "execution_count": 19,
   "metadata": {
    "collapsed": false
   },
   "outputs": [
    {
     "data": {
      "image/png": "[encoded data removed]",
      "text/latex": [
       "$$\\left[\\begin{matrix}4 & 3.6\\\\3.6 & 9\\end{matrix}\\right]$$"
      ],
      "text/plain": [
       "⎡ 4   3.6⎤\n",
       "⎢        ⎥\n",
       "⎣3.6   9 ⎦"
      ]
     },
     "execution_count": 19,
     "metadata": {},
     "output_type": "execute_result"
    }
   ],
   "source": [
    "# A covariance matrix\n",
    "\n",
    "Sigma = Matrix([[4, 3.6], [3.6, 9]])\n",
    "Sigma"
   ]
  },
  {
   "cell_type": "markdown",
   "metadata": {},
   "source": [
    "Then $X_1$ is normal $(0, 2^2)$, $X_2$ is normal $(0, 3^2)$, and $Cov(X_1, X_2) = 3.6$. In the cells below we have defined the density of $\\mathbf{X}$ in the `SymPy` function `f_X`. "
   ]
  },
  {
   "cell_type": "code",
   "execution_count": 31,
   "metadata": {
    "collapsed": true
   },
   "outputs": [],
   "source": [
    "# Centered multivariate normal density function\n",
    "# with covariance matrix Sigma\n",
    "\n",
    "declare('x_1')\n",
    "declare('x_2')\n",
    "x = Matrix([x_1, x_2])\n",
    "\n",
    "f_X = (1/((2*pi) * (Sigma.det()**0.5))) * exp(-0.5 * (x.T * Sigma.inv() * x))"
   ]
  },
  {
   "cell_type": "code",
   "execution_count": 32,
   "metadata": {
    "collapsed": false
   },
   "outputs": [
    {
     "data": {
      "image/png": "[encoded data removed]",
      "text/latex": [
       "$$\\left[\\begin{matrix}\\frac{0.104166666666667}{\\pi} e^{- 0.1953125 x_{1}^{2} + 0.15625 x_{1} x_{2} - 0.0868055555555556 x_{2}^{2}}\\end{matrix}\\right]$$"
      ],
      "text/plain": [
       "⎡                                 2                                        2⎤\n",
       "⎢                   - 0.1953125⋅x₁  + 0.15625⋅x₁⋅x₂ - 0.0868055555555556⋅x₂ ⎥\n",
       "⎢0.104166666666667⋅ℯ                                                        ⎥\n",
       "⎢───────────────────────────────────────────────────────────────────────────⎥\n",
       "⎣                                     π                                     ⎦"
      ]
     },
     "execution_count": 32,
     "metadata": {},
     "output_type": "execute_result"
    }
   ],
   "source": [
    "f_X"
   ]
  },
  {
   "cell_type": "markdown",
   "metadata": {},
   "source": [
    "Note the quadratic in the exponent. \n",
    "\n",
    "Now suppose we want to find the conditional density of $X_2$ given $X_1 = x_1$. The density of $X_1$ at $x_1$ is"
   ]
  },
  {
   "cell_type": "code",
   "execution_count": 34,
   "metadata": {
    "collapsed": false
   },
   "outputs": [
    {
     "data": {
      "image/png": "[encoded data removed]",
      "text/latex": [
       "$$\\frac{0.353553390593274}{\\pi^{0.5}} e^{- 0.125 x_{1}^{2}}$$"
      ],
      "text/plain": [
       "                                  2\n",
       "                   -0.5  -0.125⋅x₁ \n",
       "0.353553390593274⋅π    ⋅ℯ          "
      ]
     },
     "execution_count": 34,
     "metadata": {},
     "output_type": "execute_result"
    }
   ],
   "source": [
    "1/(((2 * pi) ** 0.5) * 2) * exp(-0.5 * (x_1 ** 2)/(2**2))"
   ]
  },
  {
   "cell_type": "markdown",
   "metadata": {},
   "source": [
    "You can double check this by using `SymPy` to integrate the joint density. As in lab, we have used the `rearrange_1` function to simplify the expression. You can see that it is exactly the same as the normal density above."
   ]
  },
  {
   "cell_type": "code",
   "execution_count": 36,
   "metadata": {
    "collapsed": false
   },
   "outputs": [
    {
     "data": {
      "image/png": "[encoded data removed]",
      "text/latex": [
       "$$\\left[\\begin{matrix}\\frac{0.353553390593274}{\\sqrt{\\pi}} e^{- 0.125 x_{1}^{2}}\\end{matrix}\\right]$$"
      ],
      "text/plain": [
       "⎡                            2⎤\n",
       "⎢                   -0.125⋅x₁ ⎥\n",
       "⎢0.353553390593274⋅ℯ          ⎥\n",
       "⎢─────────────────────────────⎥\n",
       "⎣              √π             ⎦"
      ]
     },
     "execution_count": 36,
     "metadata": {},
     "output_type": "execute_result"
    }
   ],
   "source": [
    "f_X_1 = Integral(f_X, (x_2, -oo, oo)).doit()\n",
    "rearrange_1(f_X_1)"
   ]
  },
  {
   "cell_type": "code",
   "execution_count": 27,
   "metadata": {
    "collapsed": false
   },
   "outputs": [],
   "source": [
    "def divide(a, b):\n",
    "    return a * (b ** -1)"
   ]
  },
  {
   "cell_type": "code",
   "execution_count": 30,
   "metadata": {
    "collapsed": false
   },
   "outputs": [
    {
     "data": {
      "image/png": "[encoded data removed]",
      "text/latex": [
       "$$\\left[\\begin{matrix}\\frac{0.441941738241592}{\\sqrt{\\pi}} e^{- 0.1953125 x_{1}^{2} + 0.15625 x_{1} x_{2} - 0.03125 x_{2}^{2}}\\end{matrix}\\right]$$"
      ],
      "text/plain": [
       "⎡                                 2                             2⎤\n",
       "⎢                   - 0.1953125⋅x₁  + 0.15625⋅x₁⋅x₂ - 0.03125⋅x₂ ⎥\n",
       "⎢0.441941738241592⋅ℯ                                             ⎥\n",
       "⎢────────────────────────────────────────────────────────────────⎥\n",
       "⎣                               √π                               ⎦"
      ]
     },
     "execution_count": 30,
     "metadata": {},
     "output_type": "execute_result"
    }
   ],
   "source": [
    "simplify(divide(f_X, f_X_2))"
   ]
  },
  {
   "cell_type": "markdown",
   "metadata": {},
   "source": [
    "### Independence and the Covariance Matrix ###\n",
    "If the elements of $\\mathbf{X}$ are mutually independent then $Cov(X_i, X_j) = 0$ for all $i \\ne j$ and hence the covariance matrix $\\boldsymbol{\\Sigma}$ is a diagonal matrix and the $i$th diagonal element is $Var(X_i)$.\n",
    "\n",
    "In the other direction, for general joint distributions zero covariance doesn't imply independence, and pairwise independence doesn't imply mutual independence. But the multivariate normal is a wonderful distribution: \n",
    "\n",
    "If $\\mathbf{X}$ is multivariate normal and its elements are pairwise uncorrelated – that is, $Cov(X_i, X_j) = 0$ for all \n",
    "$i \\ne j$ – then the elements of $\\mathbf{X}$ are mutually independent.\n",
    "\n",
    "That is, **for the multivariate normal distribution, pairwise uncorrelatedness is the same as mutual independence.**\n",
    "\n",
    "This is easy to see from the form of the density of $\\mathbf{X}$. If $\\boldsymbol{\\Sigma}$ is a diagonal matrix then so is $\\boldsymbol{\\Sigma}^{-1}$. The $i$th diagonal element of $\\boldsymbol{\\Sigma}^{-1}$ is $1/\\sigma_i^2$ where $\\sigma_i^2 = Var(X_i)$. So\n",
    "\n",
    "$$\n",
    "(\\mathbf{x} - \\boldsymbol{\\mu})\\boldsymbol{\\Sigma}^{-1} (\\mathbf{x} - \\boldsymbol{\\mu}) ~ = ~ \\sum_{i=1}^n \\frac{(x_i - \\boldsymbol{\\mu}(i))^2}{\\sigma_i^2}\n",
    "$$\n",
    "and therefore\n",
    "$$\n",
    "\\exp\\big{(} -\\frac{1}{2} (\\mathbf{x} - \\boldsymbol{\\mu})\\boldsymbol{\\Sigma}^{-1} (\\mathbf{x} - \\boldsymbol{\\mu}) \\big{)} ~ = ~ \\prod_{i=1}^n \\exp\\big{(}-\\frac{1}{2} \\big{(}\\frac{x_i - \\boldsymbol{\\mu}(i)}{\\sigma_i}\\big{)}^2\\big{)}\n",
    "$$\n",
    "\n",
    "In the constant of integration, $\\det(\\boldsymbol{\\Sigma}) = \\sigma_1^2 \\sigma_2^2 \\cdots \\sigma_n^2$.\n",
    "\n",
    "Therefore the density of $\\mathbf{X}$ is the product of the marginal normal densities."
   ]
  },
  {
   "cell_type": "markdown",
   "metadata": {},
   "source": [
    "### Indepedence of Sum and Difference ###\n",
    "Let $\\mathbf{X} = [X_1, X_2]^T$ have a bivariate normal distribution. Let $S = X_1 + X_2$ and $D = X_1 - X_2$. We know that $S$ and $D$ have a bivariate normal distribution and that\n",
    "\n",
    "$$\n",
    "Cov(S, D) ~ = ~ Var(X_1) - Var(X_2)\n",
    "$$\n",
    "\n",
    "If $X_1$ and $X_2$ have the same variance then $S$ and $D$ are uncorrelated, and hence also independent by what we have just proved."
   ]
  },
  {
   "cell_type": "code",
   "execution_count": null,
   "metadata": {
    "collapsed": true
   },
   "outputs": [],
   "source": []
  }
 ],
 "metadata": {
  "kernelspec": {
   "display_name": "Python [Root]",
   "language": "python",
   "name": "Python [Root]"
  },
  "language_info": {
   "codemirror_mode": {
    "name": "ipython",
    "version": 3
   },
   "file_extension": ".py",
   "mimetype": "text/x-python",
   "name": "python",
   "nbconvert_exporter": "python",
   "pygments_lexer": "ipython3",
   "version": "3.5.2"
  }
 },
 "nbformat": 4,
 "nbformat_minor": 0
}
