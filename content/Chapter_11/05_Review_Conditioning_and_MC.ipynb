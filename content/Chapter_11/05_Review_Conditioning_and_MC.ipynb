{
 "cells": [
  {
   "cell_type": "markdown",
   "metadata": {},
   "source": [
    "## Review Set on Conditioning and Markov Chains ##"
   ]
  },
  {
   "cell_type": "markdown",
   "metadata": {},
   "source": [
    "David Aldous' former student Takis Konstantopoulos created a great [resource](https://www.stat.berkeley.edu/~aldous/150/takis_exercises.pdf) of exercises on Markov Chains. Selected problems are listed below along with some others. Resist the impulse to read the answers to the Konstantopoulos exercises before you try the exercises yourself. "
   ]
  },
  {
   "cell_type": "markdown",
   "metadata": {},
   "source": [
    "### 1. Bridge Hands ###\n",
    "My bridge partner and I are playing a game of bridge against two other people. In the game, four hands of 13 cards each are dealt to the four players, at random without replacement from a standard deck. Let $X$ be the number of hearts in my hand and let $Y$ be the number of hearts in my partner's hand. For $k = 0, 1, 2, \\ldots, 13$, find $E(Y \\mid X=k)$."
   ]
  },
  {
   "cell_type": "markdown",
   "metadata": {},
   "source": [
    "###  2. Random Urn ###\n",
    "I draw a simple random sample of $n_0$ balls from an urn that contains $b_0$ blue balls and $r_0$ red balls. I put the balls in my sample in another urn that already contains $b_1$ blue balls and $r_1$ red balls. I then draw a simple random sample of $n_1$ balls from the second urn. Find the expected number of blue balls in this sample."
   ]
  },
  {
   "cell_type": "markdown",
   "metadata": {},
   "source": [
    "### 3. Polya's Urn ###\n",
    "You have seen this model before; it is used in many contexts, for example to model contagion. Start with one white and one black ball. Draw one ball at random, then replace it in the urn along with another ball of its color. Keep doing this.\n",
    "\n",
    "Let $B_n$ be the number of black balls in the urn just before the $n$th ball is drawn. So $B_1 = 1$ with probability 1. \n",
    "\n",
    "**(a)** Just before the $n$th ball is drawn, how many balls are there in the urn?\n",
    "\n",
    "**(b)** For each $n$, find $E(B_{n+1} \\mid B_n)$.\n",
    "\n",
    "**(c)** Use induction and Part **b** to find $E(B_n)$ for each $n$.\n",
    "\n",
    "**(d)** Let $X_n$ be the proportion of black balls in the urn just before the $n$th ball is drawn. Find $E(X_n)$ for each $n$."
   ]
  },
  {
   "cell_type": "markdown",
   "metadata": {},
   "source": [
    "### 4. Craps Principle ###\n",
    "This gambling observation can be formalized as follows. Consider a sequence of i.i.d. trials, each of which results in one of three categories of outcomes. On each trial, let the chance of Category $i$ be $p_i > 0$ with $p_1 + p_2 + p_3 = 1$.\n",
    "\n",
    "Show that the chance that Category 1 appears before Category 2 is $p_1/(p_1 + p_2)$.\n",
    "\n",
    "[The goal is for you to practice conditioning, so don't use geometric sums. Just condition on the first couple of trials. Either the event happens right away, or $\\ldots$ what?]"
   ]
  },
  {
   "cell_type": "markdown",
   "metadata": {},
   "source": [
    "### 5. Waiting for 00 ###\n",
    "A random number generator draws repeatedly at random with replacement from the 10 digits $\\{0, 1, 2, \\ldots, 9\\}$. Run the generator till the pattern 00 appears. Let $X$ be the number of times the generator has to be run. Thus for example if the first three runs produce 7 followed by 0 followed by 0, then $X = 3$. Find $E(X)$ by conditioning on the first run."
   ]
  },
  {
   "cell_type": "markdown",
   "metadata": {},
   "source": [
    "### 6. Markov Chain Fundamentals ###\n",
    "Let $X_0, X_1, \\ldots $ be an irreducible, aperiodic Markov Chain on a finite state space $S$. Let $\\mathbb{P}$ be the transition matrix of the chain. Let $\\lambda$ be the initial distribution of the chain. That is, let $\\lambda$ be a vector containing the distribution of $X_0$.\n",
    "\n",
    "**(a)** Find the distribution of $X_n$ in terms of $\\lambda$, $\\mathbb{P}$, and $n$.\n",
    "\n",
    "**(b)** What happens to the distribution of $X_n$ as $n \\to \\infty$? Prove your answer.\n"
   ]
  },
  {
   "cell_type": "markdown",
   "metadata": {},
   "source": [
    "### 7. Reflecting Random Walk on a Finite Set ###\n",
    "Fix $p \\in (0, 1)$ and a positive integer $N$, and let $q = 1-p$. Consider the Markov Chain with transition probabilities given by:\n",
    "\n",
    "- $P(0, 1) ~ = ~ p$ and $P(0, 0) = q$.\n",
    "- $P(N, N) = p$ and $P(N, N-1) = q$.\n",
    "- For $1 \\le i \\le N-1$, $P(i, i+1) ~ = ~ p$ and $P(i, i-1) = q$\n",
    "\n",
    "**(a)** Find the stationary distribution of the chain.\n",
    "\n",
    "**(b)** Is the chain reversible?"
   ]
  },
  {
   "cell_type": "markdown",
   "metadata": {},
   "source": [
    "### Selections from Konstantopoulos ###\n",
    "[The exercises](https://www.stat.berkeley.edu/~aldous/150/takis_exercises.pdf) are numerous. Here are some to try.\n",
    "\n",
    "- 7 ('topological properties' means whether it is irreducible and what its period is; for the irreducible aperiodic ones, find the long run proportion of time spent at each state)\n",
    "- 16 \n",
    "\n",
    "- 21\n",
    "\n",
    "- 25\n",
    "\n",
    "- 27 (you can do this one without calculation)\n",
    "\n",
    "- 36"
   ]
  },
  {
   "cell_type": "code",
   "execution_count": null,
   "metadata": {},
   "outputs": [],
   "source": []
  }
 ],
 "metadata": {
  "kernelspec": {
   "display_name": "Python 3",
   "language": "python",
   "name": "python3"
  },
  "language_info": {
   "codemirror_mode": {
    "name": "ipython",
    "version": 3
   },
   "file_extension": ".py",
   "mimetype": "text/x-python",
   "name": "python",
   "nbconvert_exporter": "python",
   "pygments_lexer": "ipython3",
   "version": "3.6.4"
  }
 },
 "nbformat": 4,
 "nbformat_minor": 2
}
