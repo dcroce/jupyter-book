{
 "cells": [
  {
   "cell_type": "code",
   "execution_count": 1,
   "metadata": {
    "collapsed": true
   },
   "outputs": [],
   "source": [
    "# HIDDEN\n",
    "from datascience import *\n",
    "from prob140 import *\n",
    "import numpy as np\n",
    "import matplotlib.pyplot as plt\n",
    "plt.style.use('fivethirtyeight')\n",
    "%matplotlib inline\n",
    "import math\n",
    "from scipy import stats\n",
    "from scipy import misc"
   ]
  },
  {
   "cell_type": "markdown",
   "metadata": {},
   "source": [
    "### Returns and First Passage Times ###\n",
    "Throughout this section we will assume that $X_0, X_1, X_2, \\ldots $ is an irreducible aperiodic Markov Chain with a finite state space. We will start by listing some facts about the number of times this chain visits each state. We won't prove the facts but will indicate why they are true. You should know the facts even if you don't study the sketched justifications.\n",
    "\n",
    "- For large $n$, all elements of the $n$-step transition matrix are positive. That is, for sufficiently large $n$, $P_n(i, j) > 0$ for all $i$ and $j$. \n",
    "\n",
    "To see why this is true, remember that for each pair of states $i$ and $j$, the sequence $P_n(i, j)$ converges to $\\pi(j) > 0$ as $n$ gets large. Therefore the terms in the sequence are positive for large $n$. As there is a finite number of pairs of states, there is a finite number of sequences of transition probabilities, and so after some large enough $n$, all the $n$-step transition probabilities are positive.\n",
    "\n",
    "- Each state is visited infinitely many times with probability 1. We say that each state is *recurrent*. As all the states are recurrent, we say for short that *the chain is recurrent*. \n",
    "\n",
    "Observe that because the state space is finite, at least one state has to be visited infinitely often. It can be derived from this that since all states communicate with each other, all states must be visited infinitely often.\n",
    "\n",
    "- Fix any states $i$ and $j$ (which could be the same). Given that the chain starts at $i$, the expected time till it reaches $j$ is finite. In particular, given that the chain starts at $i$, the expected return time to $i$ is finite. We say that all states are *positive recurrent*, and hence that the *chain is positive recurrent*. \n",
    "\n",
    "To see why this is true, note from above that for any state $i$, there is some time $n^*$ for which $P_n^*(i, i)$ is positive. Start the chain at $i$ and watch the chain only at times that are multiples of $n^*$. At these times, the number of moves till the chain returns to $i$ is a geometric random variable with a positive \"success\" probability $P_{n^*}(i, i)$, and hence it has finite expectation. If you watch the chain at all times, not just at multiples of $n^*$, it will return to $i$ even faster.\n",
    "\n",
    "\n",
    "#### Expected Long Run Occupation Proportions ####\n",
    "We know that the chain has a stationary distribution $\\pi$ that is unique and strictly positive. \n",
    "We also know that for every state $j$, the expected long run proportion of time the chain spends at $j$ is $\\pi(j)$. We call this the expected long run proportion of *times at which the chain occupies the state $j$*. "
   ]
  },
  {
   "cell_type": "markdown",
   "metadata": {},
   "source": [
    "### First Passage Times ###\n",
    "We will start with *hitting times* defined as follows. For any state $j$, the *first hitting time* or the *first passage time* of $j$ is\n",
    "\n",
    "$$\n",
    "W_j = \\inf \\{ n \\ge 1: X_n = j \\}\n",
    "$$\n",
    "\n",
    "That is, $W_j$ is the first time at which the chain reaches state $j$ once it has started running. We will be lazy and call $W_j$ a *hitting time* instead of a *first hitting time*, but we will make sure to use *first* in contexts where we are studying repeated hits on $j$. \n",
    "\n",
    "We have seen these examples of these $W$'s before. In the last section we worked with the hitting time till a pattern appeared. You will recall that the pattern was one of the states of a Markov Chain that we set up.\n",
    "\n",
    "The expected hitting time of $j$ given that the chain started at $i$ is $E(W_j \\mid X_0 = i)$. This is also called the *mean first passage time* of $j$ given that the chain started in $i$. We can calculate these using first step analysis, but when $i = j$ there is a simple expression for the expectation in terms of the stationary distribution $\\pi$."
   ]
  },
  {
   "cell_type": "markdown",
   "metadata": {},
   "source": [
    "### Expected Return Time ###\n",
    "In the case where $i = j$, we say that $E(W_i \\mid X_0 = i)$ is the expected *return time* to $i$ given that the chain started at $i$. That is because the definition of $W_i$ only involves times that are at least 1.\n",
    "\n",
    "It turns out that there is a simple relation between $\\pi(i)$ and the expected return time to $i$. We won't prove the relation but it is not hard to believe:\n",
    "\n",
    "$$\n",
    "E(W_i \\mid X_0 = i) = \\frac{1}{\\pi(i)} , ~~~~ i \\in S\n",
    "$$\n",
    "\n",
    "Since $\\pi(i) > 0$ for all states $i$, the expected return time to each state is finite.\n",
    "\n",
    "To understand what this result is saying, suppose $\\pi(i) = 1/10$. Then you know that in the long run the chain spends $1/10$ of its time at $i$. Since it's at $i$ at one of every 10 steps on average, it makes sense that once the chain is at $i$ you expect it to return to $i$ in 10 steps. This is not a proof by any means, but it confirms that the result is consistent with intuition.\n",
    "\n",
    "This result is analogous to, but not the same as, the fact that in i.i.d. Bernoulli $(p)$ trials, the expected long run proportion of successes is $p$, and the expected number of trials till the first success is $1/p$."
   ]
  },
  {
   "cell_type": "markdown",
   "metadata": {
    "collapsed": true
   },
   "source": [
    "### Example: Ehrenfest Chain ###\n",
    "Recall that in the Ehrenfest model described in an earlier chapter, there are two containers containing a total of $N$ particles. At each instant, a container is selected at random and a particle is selected at random independently of the container. Then the selected particle is placed in the selected container; if it was already in that container, it stays there.\n",
    "\n",
    "Let $X_n$ be the number of particles in Container 1 at time $n$. Then $X_0, X_1, \\ldots$ is a Markov chain with transition probabilities given by:\n",
    "\n",
    "\\begin{equation}\n",
    "P(i, j) = \n",
    " \\begin{cases} \n",
    "      \\frac{N-i}{2N} & \\text{if } j = i+1 \\\\\n",
    "      \\frac{1}{2} & \\text{if } j = i \\\\\n",
    "      \\frac{i}{2N} & \\text{if } j = i-1 \\\\\n",
    "      0 & \\text{otherwise}\n",
    "   \\end{cases}\n",
    "\\end{equation}\n",
    "\n",
    "We showed that the stationary distribution of this chain is binomial $(N, 1/2)$. \n",
    "\n",
    "Now our result about expected hitting times implies that given that Containter 1 is empty, the expected amount of time till it again becomes empty is\n",
    "\n",
    "$$\n",
    "\\frac{1}{\\binom{N}{0}(1/2)^N} = 2^N\n",
    "$$\n",
    "\n",
    "In general for any $0 \\le k \\le N$, given that Container 1 has $k$ particles in it, the expected amount of time till it once again has $k$ particles is\n",
    "\n",
    "$$\n",
    "\\frac{1}{\\binom{N}{k}(1/2)^N} = \\frac{2^N}{\\binom{N}{k}}\n",
    "$$\n",
    "\n",
    "If $N$ is even, then $\\binom{N}{k}$ is increasing in $k$ for $0 \\le k \\le N/2$ and decreasing for larger $k$, so the expected return time is the smallest for $k = N/2$. If $N$ is odd the expected return times are smallest for the two values of $k$ on either side of $N/2$."
   ]
  },
  {
   "cell_type": "markdown",
   "metadata": {},
   "source": [
    "### Expected First Passage Times ###\n",
    "To get all the expected first passage times $E(W_j \\mid X_0 = i)$, you can set up equations by first step analysis just as we did in the previous section. \n",
    "\n",
    "For states $i \\ne j$,\n",
    "\n",
    "$$\n",
    "E(W_j \\mid X_0 = i) = 1 + \\sum_{k \\ne j} P(i, k)E(W_j \\mid X_0 = k)\n",
    "$$\n",
    "\n",
    "As you have seen, such systems of equations can be tedious to solve. If the transition matrix is numerical, you can use the `mean_first_passage_times` method to get all of the mean first passage times at once."
   ]
  },
  {
   "cell_type": "markdown",
   "metadata": {},
   "source": [
    "Here is an example using the Ehrenfest chain with $N=6$ so that we can see the entire matrix of mean first passage times."
   ]
  },
  {
   "cell_type": "code",
   "execution_count": 2,
   "metadata": {
    "collapsed": false
   },
   "outputs": [],
   "source": [
    "N = 6\n",
    "\n",
    "s = np.arange(N+1)\n",
    "\n",
    "def trans_probs(i, j):\n",
    "    if j == i:\n",
    "        return 1/2\n",
    "    if j == i+1:\n",
    "        return (N-i)/(2*N)\n",
    "    elif j == i-1:\n",
    "        return i/(2*N)\n",
    "    else:\n",
    "        return 0\n",
    "\n",
    "tbl = Table().states(s).transition_function(trans_probs)\n",
    "ehrenfest = tbl.toMarkovChain()"
   ]
  },
  {
   "cell_type": "code",
   "execution_count": 3,
   "metadata": {
    "collapsed": false
   },
   "outputs": [
    {
     "data": {
      "text/html": [
       "<div>\n",
       "<table border=\"1\" class=\"dataframe\">\n",
       "  <thead>\n",
       "    <tr style=\"text-align: right;\">\n",
       "      <th></th>\n",
       "      <th>0</th>\n",
       "      <th>1</th>\n",
       "      <th>2</th>\n",
       "      <th>3</th>\n",
       "      <th>4</th>\n",
       "      <th>5</th>\n",
       "      <th>6</th>\n",
       "    </tr>\n",
       "  </thead>\n",
       "  <tbody>\n",
       "    <tr>\n",
       "      <th>0</th>\n",
       "      <td>64.0</td>\n",
       "      <td>2.000000</td>\n",
       "      <td>4.800000</td>\n",
       "      <td>9.2</td>\n",
       "      <td>17.600000</td>\n",
       "      <td>40.400000</td>\n",
       "      <td>166.4</td>\n",
       "    </tr>\n",
       "    <tr>\n",
       "      <th>1</th>\n",
       "      <td>126.0</td>\n",
       "      <td>10.666667</td>\n",
       "      <td>2.800000</td>\n",
       "      <td>7.2</td>\n",
       "      <td>15.600000</td>\n",
       "      <td>38.400000</td>\n",
       "      <td>164.4</td>\n",
       "    </tr>\n",
       "    <tr>\n",
       "      <th>2</th>\n",
       "      <td>148.8</td>\n",
       "      <td>22.800000</td>\n",
       "      <td>4.266667</td>\n",
       "      <td>4.4</td>\n",
       "      <td>12.800000</td>\n",
       "      <td>35.600000</td>\n",
       "      <td>161.6</td>\n",
       "    </tr>\n",
       "    <tr>\n",
       "      <th>3</th>\n",
       "      <td>157.2</td>\n",
       "      <td>31.200000</td>\n",
       "      <td>8.400000</td>\n",
       "      <td>3.2</td>\n",
       "      <td>8.400000</td>\n",
       "      <td>31.200000</td>\n",
       "      <td>157.2</td>\n",
       "    </tr>\n",
       "    <tr>\n",
       "      <th>4</th>\n",
       "      <td>161.6</td>\n",
       "      <td>35.600000</td>\n",
       "      <td>12.800000</td>\n",
       "      <td>4.4</td>\n",
       "      <td>4.266667</td>\n",
       "      <td>22.800000</td>\n",
       "      <td>148.8</td>\n",
       "    </tr>\n",
       "    <tr>\n",
       "      <th>5</th>\n",
       "      <td>164.4</td>\n",
       "      <td>38.400000</td>\n",
       "      <td>15.600000</td>\n",
       "      <td>7.2</td>\n",
       "      <td>2.800000</td>\n",
       "      <td>10.666667</td>\n",
       "      <td>126.0</td>\n",
       "    </tr>\n",
       "    <tr>\n",
       "      <th>6</th>\n",
       "      <td>166.4</td>\n",
       "      <td>40.400000</td>\n",
       "      <td>17.600000</td>\n",
       "      <td>9.2</td>\n",
       "      <td>4.800000</td>\n",
       "      <td>2.000000</td>\n",
       "      <td>64.0</td>\n",
       "    </tr>\n",
       "  </tbody>\n",
       "</table>\n",
       "</div>"
      ],
      "text/plain": [
       "       0          1          2    3          4          5      6\n",
       "0   64.0   2.000000   4.800000  9.2  17.600000  40.400000  166.4\n",
       "1  126.0  10.666667   2.800000  7.2  15.600000  38.400000  164.4\n",
       "2  148.8  22.800000   4.266667  4.4  12.800000  35.600000  161.6\n",
       "3  157.2  31.200000   8.400000  3.2   8.400000  31.200000  157.2\n",
       "4  161.6  35.600000  12.800000  4.4   4.266667  22.800000  148.8\n",
       "5  164.4  38.400000  15.600000  7.2   2.800000  10.666667  126.0\n",
       "6  166.4  40.400000  17.600000  9.2   4.800000   2.000000   64.0"
      ]
     },
     "execution_count": 3,
     "metadata": {},
     "output_type": "execute_result"
    }
   ],
   "source": [
    "ehrenfest.mean_first_passage_times()"
   ]
  },
  {
   "cell_type": "markdown",
   "metadata": {},
   "source": [
    "The diagonal elements are the expected return times $E(W_i \\mid X_0 = i)$ and are the inverses of the stationary binomial (6, 1/2) probabilities. "
   ]
  },
  {
   "cell_type": "code",
   "execution_count": 5,
   "metadata": {
    "collapsed": false
   },
   "outputs": [
    {
     "data": {
      "text/plain": [
       "array([ 64.        ,  10.66666667,   4.26666667,   3.2       ,\n",
       "         4.26666667,  10.66666667,  64.        ])"
      ]
     },
     "execution_count": 5,
     "metadata": {},
     "output_type": "execute_result"
    }
   ],
   "source": [
    "1/(ehrenfest.steady_state().column('Probability'))"
   ]
  },
  {
   "cell_type": "markdown",
   "metadata": {},
   "source": [
    "The $(i, j)$th off-diagonal element is $E(W_j \\mid X_0 = i)$. For example, if the chain starts at 2, you expect it to take $12.8$ steps to get to 4. The numerical value comes from solving the equations set up by first step analysis.\n",
    "\n",
    "Notice the symmetry in the row corresponding to state 3, which is half-way between the empty and full states of Container 1. Starting at this half-way point, you expect the same amount of time (157.2 moves) for Container 1 to become empty as for it to become full."
   ]
  },
  {
   "cell_type": "code",
   "execution_count": null,
   "metadata": {
    "collapsed": true
   },
   "outputs": [],
   "source": []
  }
 ],
 "metadata": {
  "anaconda-cloud": {},
  "kernelspec": {
   "display_name": "Python 3",
   "language": "python",
   "name": "python3"
  },
  "language_info": {
   "codemirror_mode": {
    "name": "ipython",
    "version": 3
   },
   "file_extension": ".py",
   "mimetype": "text/x-python",
   "name": "python",
   "nbconvert_exporter": "python",
   "pygments_lexer": "ipython3",
   "version": "3.5.1"
  }
 },
 "nbformat": 4,
 "nbformat_minor": 0
}
