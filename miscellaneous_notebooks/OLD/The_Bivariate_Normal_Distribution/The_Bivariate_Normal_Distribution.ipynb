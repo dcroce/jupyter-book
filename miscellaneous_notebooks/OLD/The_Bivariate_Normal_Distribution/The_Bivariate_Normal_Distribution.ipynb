{
 "cells": [
  {
   "cell_type": "code",
   "execution_count": 1,
   "metadata": {
    "collapsed": true
   },
   "outputs": [],
   "source": [
    "# HIDDEN\n",
    "from datascience import *\n",
    "from prob140 import *\n",
    "import numpy as np\n",
    "import matplotlib.pyplot as plt\n",
    "plt.style.use('fivethirtyeight')\n",
    "%matplotlib inline\n",
    "from scipy import stats"
   ]
  },
  {
   "cell_type": "markdown",
   "metadata": {},
   "source": [
    "### The Bivariate Normal Distribution ###\n",
    "This chapter develops the theory that underlies the oval scatter plots of data analyzed so frequently in Data 8. The most common model for such data is the *bivariate normal distribution*, a joint distribution in which not only are both marginal distributions normal, but each conditional distribution of one variable given the other is also normal.\n",
    "\n",
    "Correlation is a crucial parameter of the bivariate normal distributions. We will review what you discovered about correlation in exercises, and then go on to study least squares predictors and regression in the case of bivariate normal data.\n",
    "\n",
    "Geometry plays an important role in these analyses. After we have connected the results of this chapter to those used in Data 8, we will study the geometry of how the bivariate normal distribution arises from independent normal variables. "
   ]
  },
  {
   "cell_type": "code",
   "execution_count": null,
   "metadata": {
    "collapsed": true
   },
   "outputs": [],
   "source": []
  }
 ],
 "metadata": {
  "anaconda-cloud": {},
  "kernelspec": {
   "display_name": "Python [Root]",
   "language": "python",
   "name": "Python [Root]"
  },
  "language_info": {
   "codemirror_mode": {
    "name": "ipython",
    "version": 3
   },
   "file_extension": ".py",
   "mimetype": "text/x-python",
   "name": "python",
   "nbconvert_exporter": "python",
   "pygments_lexer": "ipython3",
   "version": "3.5.2"
  }
 },
 "nbformat": 4,
 "nbformat_minor": 0
}
