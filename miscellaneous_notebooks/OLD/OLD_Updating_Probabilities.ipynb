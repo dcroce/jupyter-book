{
 "cells": [
  {
   "cell_type": "code",
   "execution_count": 1,
   "metadata": {
    "collapsed": true
   },
   "outputs": [],
   "source": [
    "# HIDDEN\n",
    "from datascience import *\n",
    "from prob140 import *\n",
    "import numpy as np\n",
    "import matplotlib.pyplot as plt\n",
    "plt.style.use('fivethirtyeight')\n",
    "%matplotlib inline\n",
    "import math\n",
    "from scipy import stats"
   ]
  },
  {
   "cell_type": "markdown",
   "metadata": {},
   "source": [
    "### Updating Probabilities ###\n",
    "Data changes minds. We might start out with a set of assumptions about how the world works, but as we gather more data, we may have to update our opinions.\n",
    "\n",
    "Probabilities too can be updated as information comes in. As you saw in Data 8, Bayes' Rule is one way to update probabilities. Let's recall the rule in the context of an example, and then we will state it in greater generality."
   ]
  },
  {
   "cell_type": "markdown",
   "metadata": {},
   "source": [
    "### Example: Using Bayes' Rule ###\n",
    "In a population there is a rare disease: only 0.4% of the people have it. There is a laboratory test for the disease that has a 99% chance of returning a positive result when run on a person that has the disease. When run on someone who doesn't have the disease, it has a 99.5% chance of returning a negative result. So overall, it's a pretty good test.\n",
    "\n",
    "One person is picked at random from this population. Given that the person tests positive, what is the chance that the person has the disease?\n",
    "\n",
    "Here is the tree diagram we drew in Data 8, to summarize the information in the problem."
   ]
  },
  {
   "cell_type": "markdown",
   "metadata": {},
   "source": [
    "![rare disease tree diagram](tree_disease_rare.png)"
   ]
  },
  {
   "cell_type": "markdown",
   "metadata": {},
   "source": [
    "To solve the problem, we will use the division rule as we did in Data 8. In this kind of application, where we are finding probabilities for an earlier phase of an experiement given the result of a later phase, the division rule is called Bayes' Rule.\n",
    "\n",
    "Let $D$ be the event that the patient has the disease, and, with some abuse of math notation, let $+$ be the event that the patient tests positive. Then what we're looking for is $P(D \\mid +)$. By the division rule,\n",
    "\n",
    "$$\n",
    "P(D \\mid + ) = \\frac{P(D \\text{ and } +)}{P(+)}\n",
    "= \\frac{0.004 \\cdot 0.99}{0.004 \\cdot 0.99 + 0.996 \\cdot 0.005}\n",
    "= 44.3\\%\n",
    "$$"
   ]
  },
  {
   "cell_type": "code",
   "execution_count": 2,
   "metadata": {
    "collapsed": false
   },
   "outputs": [
    {
     "data": {
      "text/plain": [
       "0.44295302013422816"
      ]
     },
     "execution_count": 2,
     "metadata": {},
     "output_type": "execute_result"
    }
   ],
   "source": [
    "(.004*.99)/(0.004*.99 + 0.996*.005)"
   ]
  },
  {
   "cell_type": "markdown",
   "metadata": {},
   "source": [
    "### Bayes' Rule ###\n",
    "In general, if the entire outcome space can be partitioned into events $A_1, A_2 \\ldots , A_n$, and $B$ is an event of positive probability, then for each $i$,\n",
    "\n",
    "\\begin{align*}\n",
    "P(A_i \\mid B) &= \\frac{P(A_iB)}{P(B)} ~~~~ \\text{(division rule)} \\\\ \\\\\n",
    "&= \\frac{P(A_iB)}{\\sum_{j=1}^n P(A_j B)} ~~~~ \\text{(the }A_j\\text{'s partition the whole space)} \\\\ \\\\\n",
    "&= \\frac{P(A_i)P(B \\mid A_i)}{\\sum_{j=1}^n P(A_j)P(B \\mid A_j)} ~~~~\n",
    "\\text{(multiplication rule)}\n",
    "\\end{align*}\n",
    "\n",
    "This calculation, called Bayes' Rule, is an application of the division rule in a setting where the events $A_1, A_2, \\ldots , A_n$ can be thought of as the results of an \"earlier\" stage of an experiment and $B$ the result of a \"later\" stage. The calculation allows us to find \"backwards in time\" conditional chances of an earlier event given a later one, by writing the chance in terms of the \"forwards in time\" conditional chances of the later event given the earlier ones."
   ]
  },
  {
   "cell_type": "markdown",
   "metadata": {},
   "source": [
    "### The Effect of the Prior ###\n",
    "Now let's take a look at the numerical value of the answer we got in our example. It's a bit disconcerting: it says that even though the person has tested positive, there is less than 50% chance they have the disease: the disease is so rare that the proportion of people who have the disease and test positive is actually a bit smaller than the people who don't have the disease and get a bad test result.\n",
    "\n",
    "This is not a fault of the test. It's due to our premise, that the person \"is picked at random from the population.\" That's not what happens when people go to get tested. Usually they go because they or their doctors think they should. And in that case they are no longer \"randomly picked\" members of the population. \n",
    "\n",
    "If a person thinks they might have the disease, then their subjective probability of having the disease should be larger than the probability for a random member of the population. Let's take the following steps to see how much difference the prior makes.\n",
    "\n",
    "- We will change the \"prior probability\" of disease from 0.004 to other values; the prior probability of \"no disease\" will change correspondingly.\n",
    "- We will leave the test accuracy unchanged.\n",
    "- We will observe the changes in the \"posterior probability\" of disease given that the person tested positive, for different values of the prior."
   ]
  },
  {
   "cell_type": "code",
   "execution_count": 3,
   "metadata": {
    "collapsed": false
   },
   "outputs": [
    {
     "data": {
      "text/html": [
       "<table border=\"1\" class=\"dataframe\">\n",
       "    <thead>\n",
       "        <tr>\n",
       "            <th>Prior P(D)</th> <th>Posterior P(D|+)</th>\n",
       "        </tr>\n",
       "    </thead>\n",
       "    <tbody>\n",
       "        <tr>\n",
       "            <td>0.004     </td> <td>0.442953        </td>\n",
       "        </tr>\n",
       "    </tbody>\n",
       "        <tr>\n",
       "            <td>0.01      </td> <td>0.666667        </td>\n",
       "        </tr>\n",
       "    </tbody>\n",
       "        <tr>\n",
       "            <td>0.05      </td> <td>0.912442        </td>\n",
       "        </tr>\n",
       "    </tbody>\n",
       "        <tr>\n",
       "            <td>0.1       </td> <td>0.956522        </td>\n",
       "        </tr>\n",
       "    </tbody>\n",
       "        <tr>\n",
       "            <td>0.5       </td> <td>0.994975        </td>\n",
       "        </tr>\n",
       "    </tbody>\n",
       "</table>"
      ],
      "text/plain": [
       "Prior P(D) | Posterior P(D|+)\n",
       "0.004      | 0.442953\n",
       "0.01       | 0.666667\n",
       "0.05       | 0.912442\n",
       "0.1        | 0.956522\n",
       "0.5        | 0.994975"
      ]
     },
     "execution_count": 3,
     "metadata": {},
     "output_type": "execute_result"
    }
   ],
   "source": [
    "prior = make_array(0.004, 0.01, 0.05, 0.1, 0.5)\n",
    "Table().with_columns(\n",
    "   'Prior P(D)', prior,\n",
    "    'Posterior P(D|+)', (prior*0.99)/(prior*0.99 + (1-prior)*0.005)\n",
    ")"
   ]
  },
  {
   "cell_type": "markdown",
   "metadata": {},
   "source": [
    "You can see that the posterior chance that the person has the disease, given that they tested positive, depends heavily on the prior. For example, if the person thinks they even have a 10% chance of the disease, then, given that they test positive, their probability of having the disease gets updated to over 95%. "
   ]
  },
  {
   "cell_type": "markdown",
   "metadata": {},
   "source": [
    "### Prior, Likelihood, and Posterior ###\n",
    "\n",
    "Another way to visualize this is by defining a Bernoulli random variable $X$ that is 1 if the person has the disease and 0 otherwise. We say that \"$X$ is the indicator of the person having the disease.\" \n",
    "\n",
    "Suppose the person starts out with a 10% prior probability that they have the disease. Then $X$ is Bernoulli $(0.1)$.\n",
    "\n",
    "How you update this distribution based on test results depends not only on the prior but also on the *likelihood* that the person tests positive given that they have or don't have the disease. This likelihood derives from the accuracy of the test, which is 99% if the person has the disease and 99.5% if they don't.\n",
    "\n",
    "To see how all these different aspects fit together, define a new Bernoulli random variable $T$ that is 1 if the test result is positive and 0 if the test result is negative. So $T$ is the indicator of the person testing positive. The joint distribution of $X$ and $T$ is displayed in the following table."
   ]
  },
  {
   "cell_type": "code",
   "execution_count": 6,
   "metadata": {
    "collapsed": false
   },
   "outputs": [
    {
     "data": {
      "text/html": [
       "<div>\n",
       "<table border=\"1\" class=\"dataframe\">\n",
       "  <thead>\n",
       "    <tr style=\"text-align: right;\">\n",
       "      <th></th>\n",
       "      <th>T=0</th>\n",
       "      <th>T=1</th>\n",
       "    </tr>\n",
       "  </thead>\n",
       "  <tbody>\n",
       "    <tr>\n",
       "      <th>X=1</th>\n",
       "      <td>0.0010</td>\n",
       "      <td>0.0990</td>\n",
       "    </tr>\n",
       "    <tr>\n",
       "      <th>X=0</th>\n",
       "      <td>0.8955</td>\n",
       "      <td>0.0045</td>\n",
       "    </tr>\n",
       "  </tbody>\n",
       "</table>\n",
       "</div>"
      ],
      "text/plain": [
       "        T=0     T=1\n",
       "X=1  0.0010  0.0990\n",
       "X=0  0.8955  0.0045"
      ]
     },
     "execution_count": 6,
     "metadata": {},
     "output_type": "execute_result"
    }
   ],
   "source": [
    "x = make_array(0, 1)\n",
    "t = make_array(0, 1)\n",
    "def jt(t, x):\n",
    "    if x == 1:\n",
    "        if t == 1:\n",
    "            return 0.1*0.99\n",
    "        if t == 0:\n",
    "            return 0.1*0.01\n",
    "    if x == 0:\n",
    "        if t == 1:\n",
    "            return 0.9*0.005\n",
    "        if t == 0:\n",
    "            return 0.9*0.995\n",
    "\n",
    "dist_xt_tbl = Table().values('T', t, 'X', x).probability_function(jt)\n",
    "dist_xt = dist_xt_tbl.toJoint()\n",
    "dist_xt"
   ]
  },
  {
   "cell_type": "markdown",
   "metadata": {
    "collapsed": true
   },
   "source": [
    "The entry in each $(x, t)$ cell is $P(X=x)P(T=t \\mid X=x)$, that is, the \"prior times the likelihood\". \n",
    "\n",
    "Each entry in the `T=1` column of the joint distribution table has the form *prior times likelihood*, and the conditional distribution of $X$ given $T=1$ is obtained by dividing those products by the same quantity $P(T=1)$. This conditional distribution, called the *posterior distribution of $X$ given $T=1$*, thus satisfies\n",
    "\n",
    "$$\n",
    "\\text{posterior} \\propto \\text{prior} \\times \\text{likelihood}\n",
    "$$"
   ]
  },
  {
   "cell_type": "code",
   "execution_count": 7,
   "metadata": {
    "collapsed": false
   },
   "outputs": [
    {
     "data": {
      "text/html": [
       "<div>\n",
       "<table border=\"1\" class=\"dataframe\">\n",
       "  <thead>\n",
       "    <tr style=\"text-align: right;\">\n",
       "      <th></th>\n",
       "      <th>Dist. of X | T=0</th>\n",
       "      <th>Dist. of X | T=1</th>\n",
       "      <th>Marginal of X</th>\n",
       "    </tr>\n",
       "  </thead>\n",
       "  <tbody>\n",
       "    <tr>\n",
       "      <th>X=1</th>\n",
       "      <td>0.001115</td>\n",
       "      <td>0.956522</td>\n",
       "      <td>0.1</td>\n",
       "    </tr>\n",
       "    <tr>\n",
       "      <th>X=0</th>\n",
       "      <td>0.998885</td>\n",
       "      <td>0.043478</td>\n",
       "      <td>0.9</td>\n",
       "    </tr>\n",
       "    <tr>\n",
       "      <th>Sum</th>\n",
       "      <td>1.000000</td>\n",
       "      <td>1.000000</td>\n",
       "      <td>1.0</td>\n",
       "    </tr>\n",
       "  </tbody>\n",
       "</table>\n",
       "</div>"
      ],
      "text/plain": [
       "     Dist. of X | T=0  Dist. of X | T=1  Marginal of X\n",
       "X=1          0.001115          0.956522            0.1\n",
       "X=0          0.998885          0.043478            0.9\n",
       "Sum          1.000000          1.000000            1.0"
      ]
     },
     "execution_count": 7,
     "metadata": {},
     "output_type": "execute_result"
    }
   ],
   "source": [
    "dist_xt.conditional_dist('X', 'T')"
   ]
  },
  {
   "cell_type": "markdown",
   "metadata": {},
   "source": [
    "You can see that the posterior distribution of $X$ given $T=1$ is consistent with the posterior probability $P(D \\mid +)$ we calculated in an earlier table in the case $P(D) = 0.1$."
   ]
  },
  {
   "cell_type": "code",
   "execution_count": null,
   "metadata": {
    "collapsed": true
   },
   "outputs": [],
   "source": []
  }
 ],
 "metadata": {
  "anaconda-cloud": {},
  "kernelspec": {
   "display_name": "Python [Root]",
   "language": "python",
   "name": "Python [Root]"
  },
  "language_info": {
   "codemirror_mode": {
    "name": "ipython",
    "version": 3
   },
   "file_extension": ".py",
   "mimetype": "text/x-python",
   "name": "python",
   "nbconvert_exporter": "python",
   "pygments_lexer": "ipython3",
   "version": "3.5.2"
  }
 },
 "nbformat": 4,
 "nbformat_minor": 0
}
