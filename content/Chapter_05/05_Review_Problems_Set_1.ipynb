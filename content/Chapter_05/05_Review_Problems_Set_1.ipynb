{
 "cells": [
  {
   "cell_type": "markdown",
   "metadata": {},
   "source": [
    "## Review Problem Set 1 ##"
   ]
  },
  {
   "cell_type": "markdown",
   "metadata": {},
   "source": [
    "These problems can be solved using the main ideas of Chapters 1 through 5. It is divided into two parts: The Basics, and Additional Practice. The first part will remind you of the fundamental concepts and some typical calculations. The rest are for you to further develop your problem solving skills and your fluency with the notation and ideas."
   ]
  },
  {
   "cell_type": "markdown",
   "metadata": {},
   "source": [
    "### The Basics ###"
   ]
  },
  {
   "cell_type": "markdown",
   "metadata": {},
   "source": [
    "**1.**\n",
    "A procedure for estimating a parameter is based on random sampling and has a 95% chance of producing a good estimate. Suppose I run this procedure $n$ times such that the results of all the different runs have no effect on each other. What is the chance that at least one of the $n$ estimates is **not** good?"
   ]
  },
  {
   "cell_type": "markdown",
   "metadata": {},
   "source": [
    "**2.**\n",
    "A monkey hits the keys of a typewriter at random, picking each of the 26 letters of the English alphabet uniformly each time regardless of what it has picked at all other times.\n",
    "\n",
    "(a) What is the chance that the first six letters are ORANGE, in that order?\n",
    "\n",
    "(b) What is the chance that the first six letters can form the word ORANGE, by rearrangement if necessary?"
   ]
  },
  {
   "cell_type": "markdown",
   "metadata": {},
   "source": [
    "**3.**\n",
    "A die is rolled 8 times. Say whether each of the following statements is true or false. If you say it is false, provide the correct chance.\n",
    "\n",
    "(a) The chance that all 8 rolls show the face with four spots is $(1/6)^8$.\n",
    "\n",
    "(b) The chance that all 8 rolls show the same face is $(1/6)^8$."
   ]
  },
  {
   "cell_type": "markdown",
   "metadata": {},
   "source": [
    "**4.**\n",
    "Box A contains 1 black and 3 white marbles, and box B contains 2 black and 4 white marbles. A box is selected at random, then a marble is drawn at random from the selected box. Given that the marble is black, find the probability that Box A was chosen."
   ]
  },
  {
   "cell_type": "markdown",
   "metadata": {},
   "source": [
    "**5.**\n",
    "There are 30 students enrolled in a lab. Find the chance that at least one student has the same birthday as the instructor’s, assuming that the instructor’s birthday is a fixed day and every student’s birthday is equally likely to be any of 365 days of the year regardless of everyone else’s birthday."
   ]
  },
  {
   "cell_type": "markdown",
   "metadata": {},
   "source": [
    "**6.**\n",
    "A die is rolled six times. Find the chance that all six faces appear."
   ]
  },
  {
   "cell_type": "markdown",
   "metadata": {},
   "source": [
    "**7.**\n",
    "A bag contains $m$ M&M's, of which $g$ are green, $r$ red, and $b$ brown. There are no other colors, so $m = g+r+b$. Assume $m \\ge 10$. I pick 10 M&M's at random **without** replacement. \n",
    "\n",
    "(a) What is the chance that the tenth M&M I pick is green?\n",
    "\n",
    "(b) What is the chance that second M&M I pick is red and the tenth is green?"
   ]
  },
  {
   "cell_type": "markdown",
   "metadata": {},
   "source": [
    "**8.**\n",
    "A coin that lands heads with chance 1/1000 is tossed 2500 times. Find the chance that all the tosses show tails. Find an approximation to this chance in terms of $e$."
   ]
  },
  {
   "cell_type": "markdown",
   "metadata": {},
   "source": [
    "**9.**\n",
    "A population consists of 20 people, of whom 8 are women and 12 are men. A simple random sample of 5 people will be drawn from the population. Which of the following is the chance that the sample contains exactly 3 women? Why?\n",
    "\n",
    "(i) $$\\frac{\\binom{8}{3}}{\\binom{20}{5}}$$\n",
    "\n",
    "\n",
    "(ii) $$\\frac{\\binom{8}{3} \\binom{12}{2}}{\\binom{20}{5}}$$"
   ]
  },
  {
   "cell_type": "markdown",
   "metadata": {},
   "source": [
    "**10.**\n",
    "A standard deck consists of 52 cards. There are 13 cards in each of four suits. Cards are dealt one by one at random without replacement from the deck. Let $X$ be the number of cards dealt till the first time any suit appears more than once. For example, if the sequence of suits is Clubs, Diamonds, Hearts, Diamonds then $X = 4$. Find the distribution of $X$."
   ]
  },
  {
   "cell_type": "markdown",
   "metadata": {},
   "source": [
    "**11.**\n",
    "In a box of numbered tickets, 20% of the tickets are numbered 0, 30% are numbered 1, and 50% are numbered 2. Two tickets are drawn from the box at random with replacement. Let $M$ be the maximum and $S$ the sum of the two numbers drawn.\n",
    "\n",
    "(a) Find the joint distribution of $M$ and $S$.\n",
    "\n",
    "(b) Find the conditional distribution of $S$ given $M = 1$."
   ]
  },
  {
   "cell_type": "markdown",
   "metadata": {},
   "source": [
    "**12.**\n",
    "A roulette wheel has 38 pockets. Of these, 18 are red, 18 black, and 2 green. \n",
    "The wheel is spun 20 times. \n",
    "Assume that on each spin, each pocket is equally likely to appear; and assume that the spins are independent of each other. \n",
    "Find the probability that all three colors appear."
   ]
  },
  {
   "cell_type": "markdown",
   "metadata": {},
   "source": [
    "### Additional Practice ###"
   ]
  },
  {
   "cell_type": "markdown",
   "metadata": {},
   "source": [
    "**13.**\n",
    "A deck consists of 52 cards. A poker hand is 5 \tcards dealt at random without replacement.\n",
    "\n",
    "(a) How many 5-card poker hands are there?\n",
    "\n",
    "(b) I play poker two times. What is the chance I get the same hand both times?"
   ]
  },
  {
   "cell_type": "markdown",
   "metadata": {},
   "source": [
    "**14.**\n",
    "A population consists of 10 children, 15 women, and 20 men. I sample 5 people at random without replacement. In the sample, let $K$ be the number of children, $W$ the number of women, and $M$ the number of men.\n",
    "\n",
    "(a) Find the joint distribution of $K$ and $W$.\n",
    "\n",
    "(b) Find the distribution of $W$.\n",
    "\n",
    "(c) Find the conditional distribution of $W$ given that $K = 2$."
   ]
  },
  {
   "cell_type": "markdown",
   "metadata": {},
   "source": [
    "**15.**\n",
    "A lie detector is known to be reliable 80% of the time when the person is guilty, and 90% reliable when the person is innocent. A suspect is chosen at random from a group of suspects of whom only 1% have ever committed a crime. If the test indicates that the suspect is guilty, what is the probability that the suspect is innocent?"
   ]
  },
  {
   "cell_type": "markdown",
   "metadata": {},
   "source": [
    "**16.**\n",
    "Assume as usual that if events $A$ and $B$ in a probability space are mutually exclusive, then $P(A \\cup B) = P(A) + P(B)$. Show by the method of induction that \n",
    "\n",
    "$$\n",
    "P(\\bigcup_{i=1}^n A_i) ~ = ~ \\sum_{i=1}^n P(A_i) ~~~~~ \\mbox{if } A_1, A_2, \\ldots, A_n \\mbox{ are mutually exclusive}\n",
    "$$"
   ]
  },
  {
   "cell_type": "markdown",
   "metadata": {},
   "source": [
    "**17.**\n",
    "The multiplication rule says that $P(A_1A_2) = P(A_1)P(A_2 \\vert A_1)$. \n",
    "Use induction to show that for events $A_1, A_2, \\ldots, A_n$, \n",
    "\n",
    "$$\n",
    "P(A_1A_2 \\ldots A_n) ~ = ~ P(A_1)P(A_2 \\vert A_1)P(A_3 \\vert A_1A_2) \\cdots P(A_n \\vert A_1A_2 \\ldots A_{n-1})\n",
    "$$"
   ]
  },
  {
   "cell_type": "markdown",
   "metadata": {},
   "source": [
    "**18.**\n",
    "There are three boxes, each with two drawers. Box 1 has a gold coin in each drawer and box 2 has a silver coin in each drawer. Box 3 has a silver coin in one drawer and a gold coin in the other. One box is chosen at random, and then a drawer is chosen at random from the box. Find the probability that box 1 is chosen, given that the chosen drawer yields a gold coin."
   ]
  },
  {
   "cell_type": "markdown",
   "metadata": {},
   "source": [
    "19.\n",
    "Let $X$ be the minimum of $n$ integers drawn at random with replacement from the set $1, 2, 3, \\ldots, N$.\n",
    "\n",
    "(a) For each $k$ in the range 1 through $N$, find $P(X \\ge k)$.\n",
    "\n",
    "(b) For each $k$ in the range 1 through $N$, use Part (a) to find $P(X = k)$."
   ]
  },
  {
   "cell_type": "markdown",
   "metadata": {},
   "source": [
    "**20.**\n",
    "A hat contains $n$ coins, $f$ of which are fair, and $b$ of which are biased to land heads with probability $2/3$. A coin is drawn at random from the hat and tossed twice. The first time it lands heads, and the second time it lands tails. Given this information, what is the probability that it is a fair coin?"
   ]
  },
  {
   "cell_type": "markdown",
   "metadata": {},
   "source": [
    "**21.**\n",
    "A mail room has $n$ empty mail slots, for some fixed positive integer $n$. The slots are labeled $1$ through $n$. I have $2n$ letters. For each letter, I pick a mail slot uniformly at random and put the letter in it. Assume that my choices for the $2n$ letters are independent of each other. \n",
    "\n",
    "(a) Find the chance that Slot 1 is empty after I have deposited all $2n$ letters. \n",
    "\n",
    "(b) Assuming that $n$ is very large, find an exponential approximation for the probability in Part (a)."
   ]
  },
  {
   "cell_type": "markdown",
   "metadata": {},
   "source": [
    "**22.**\n",
    "A population has three classes of individuals, in the proportions 0.6, 0.3, and 0.1. If you sample $n$ individuals at random with replacement, what is the chance that all three classes appear in the sample?"
   ]
  },
  {
   "cell_type": "markdown",
   "metadata": {},
   "source": [
    "**23.**\n",
    "Eight rooks are placed at positions sampled randomly without replacement on an $8 \\times 8$ chessboard. What is the probability that none of them attacks any of the others? (Two rooks attack each other if they are in the same row or in the same column.)"
   ]
  },
  {
   "cell_type": "markdown",
   "metadata": {},
   "source": [
    "**24.**\n",
    "A deck of five cards contains two aces and three queens. The five cards are shuffled and dealt one by one. This problem is about the number of cards dealt till the aces appear. For example, if the order of the cards dealt was QAQQA, then the number of cards dealt until the first ace is $2$, and until the second ace is $5$.\n",
    "\n",
    "(a) Draw a table that displays the distribution of the number of cards dealt until the first ace. \n",
    "\n",
    "(b) Draw a table that displays the distribution of the number of cards dealt until the second ace.\n",
    "\n",
    "(c) Explain why the probabilities in the second table are just those in the first in a different order. [Hint: think about dealing off the bottom of the deck!]"
   ]
  },
  {
   "cell_type": "markdown",
   "metadata": {},
   "source": [
    "**25.**\n",
    "Cards are dealt from a well-shuffled standard deck until the first heart appears. Let $D$ be the number of cards dealt.\n",
    "\n",
    "(a) Find $P(D = 5)$.\n",
    "    \n",
    "(b) Find $P(D \\le 5)$?\n",
    "\n",
    "(c) Find $P(D = 3 \\mid D \\le 5)$."
   ]
  },
  {
   "cell_type": "markdown",
   "metadata": {},
   "source": [
    "**26.**\n",
    "In a raffle with $100$ tickets, $10$ people buy $10$ tickets each. Three winning tickets are drawn at random from this pool of $100$ tickets. Let $W$ be the number of people who win. Find:\n",
    "\n",
    "(a) $P(W > 1)$\n",
    "\n",
    "(b) $P(W = 3)$"
   ]
  },
  {
   "cell_type": "markdown",
   "metadata": {},
   "source": [
    "**27.**\n",
    "Consider a $5$ card hand dealt from a standard card deck. Assume that all ${52 \\choose 5}$ hands are equally likely. Find the probability of being dealt:\n",
    "\n",
    "(a) four of a kind (ranks a,a,a,a,b)\n",
    "\n",
    "(b) one pair (ranks a,a,b,c,d)"
   ]
  },
  {
   "cell_type": "markdown",
   "metadata": {},
   "source": [
    "**28.**\n",
    "A classroom has $n$ students, where $2$ of the students are twins. Assume that each year consists of 365 days, each of the non-twins is equally likely to be born on any day independent of one another, and the twins are equally likely to be born on any day, independent of the rest.  If $r$ students are sampled from this room without replacement, find an *exact* expression for the probability that two students have the same birthday in this sample. "
   ]
  },
  {
   "cell_type": "markdown",
   "metadata": {},
   "source": [
    "**29.**\n",
    "Seven dice are rolled. Write an expression for  $P(\\text{three of one face and four of another})$."
   ]
  },
  {
   "cell_type": "markdown",
   "metadata": {},
   "source": [
    "**30.**\n",
    "In a hand of 13 cards drawn randomly from a pack of 52, find the chance that at most one of the following ranks appears: Jack, Queen, King, Ace."
   ]
  },
  {
   "cell_type": "markdown",
   "metadata": {},
   "source": [
    "**31.**\n",
    "Let $U_1$ and $U_2$ be independent, each uniformly distributed on $\\{1, 2, \\ldots, n\\}$. Let $S = U_1 + U_2$.\n",
    "\n",
    "(a) Find $P(U_1 = U_2)$.\n",
    "\n",
    "(b) Use Part (a) and symmetry to find $P(U_1 < U_2)$ and $P(U_1 > U_2)$.\n",
    "\n",
    "(c) Find the distribution of $S$.\n"
   ]
  },
  {
   "cell_type": "markdown",
   "metadata": {},
   "source": [
    "**32.**\n",
    "Three events $A$, $B$, and $C$ are subsets of an outcome space. Let $N$ be the number of these events that occur. The goal of this problem is to find the distribution of $N$ in terms of the probabilities $P(A)$, $P(B)$, $P(C)$, $P(AB)$, $P(AC)$, $P(BC)$, and $P(ABC)$ only; no complements. Do this in the following steps.\n",
    "\n",
    "(a) What are the possible values of $N$?\n",
    "\n",
    "(b) Find $P(N = 3)$.\n",
    "\n",
    "(c) Find $P(N = 0)$. It's a good idea to draw a Venn diagram.\n",
    "\n",
    "(d) Find $P(N = 2)$. Use your Venn diagram again.\n",
    "\n",
    "(e) Find the remaining components of the distribution of $N$."
   ]
  },
  {
   "cell_type": "markdown",
   "metadata": {},
   "source": [
    "**33.**\n",
    "The Statistics Department used to have a \"birthday cake\" tradition: once a month, there would be a cake to celebrate the birthdays of all department members whose birthdays were in that month. Suppose this tradition continues and suppose the department has $n$ members. Assume that each member's birthday is equally likely to be one of the 12 months of the year, independently of all others.\n",
    "\n",
    "Consider one calendar year (January through December), starting in January.\n",
    "\n",
    "(a) What is the probability that no birthday cake will be needed after September?\n",
    "\n",
    "(b) What is the probability that there will be birthday cake in September but not after that?"
   ]
  },
  {
   "cell_type": "markdown",
   "metadata": {},
   "source": [
    "**34.**\n",
    "A standard deck of 52 cards contains 4 kings. Cards are drawn at random without replacement till there are none left in the deck. Find the chance that the last king appears on the 40th draw."
   ]
  },
  {
   "cell_type": "markdown",
   "metadata": {},
   "source": [
    "**35.**\n",
    "Two draws are made at random from a box containing four tickets numbered 1, 2, 2, and 3. Let $X_1$ be the number on the first ticket drawn and $X_2$ the number on the second. In each part below, say whether the statement is true or false and justify your reasoning.\n",
    "\n",
    "(a) If the draws are made with replacement, then $X_1$ and $X_2$ are independent.\n",
    "\n",
    "(b) If the draws are made without replacement, then $X_1$ and $X_2$ are independent.\n",
    "\n",
    "(c) If the draws are made with replacement, then $X_1$ and $X_2$ are have the same distribution.\n",
    "\n",
    "(d) If the draws are made without replacement, then $X_1$ and $X_2$ have the same distribution."
   ]
  },
  {
   "cell_type": "markdown",
   "metadata": {},
   "source": [
    "**36.**\n",
    "There are 100 men and 100 women who have agreed to participate in a randomized controlled experiment. The researchers are going to pick 100 participants at random without replacement to form the treatment group. Write an expression for the chance that the treatment group contains at least 45 people of each of the two genders."
   ]
  },
  {
   "cell_type": "markdown",
   "metadata": {},
   "source": [
    "**37.**\n",
    "There are $n$ GSIs and $m$ different slots for office hours. Assume $n \\ge m$. Suppose each GSI selects a slot uniformly at random, independently of all the other GSIs. What is the chance that none of the slots is left unselected?"
   ]
  },
  {
   "cell_type": "markdown",
   "metadata": {},
   "source": [
    "**38.**\n",
    "*Polya's urn scheme* is a model for contagion and is used in many different contexts. At the start, the urn has $w$ white balls and $b$ blue balls. Every minute, one ball is drawn at random from the urn and then replaced in the urn along with $d$ additional balls of its color. Let $B_n$ be the event that the ball drawn at the $n$th minute is blue. Let's define the 0th minute to be the start, so that $P(B_1) = b/(w+b)$.\n",
    "\n",
    "(a) Find $P(B_2)$. Make sure you simplify the answer as much as possible; you will see why.\n",
    "\n",
    "(b) Guess a formula for $P(B_n)$ and prove it by induction."
   ]
  },
  {
   "cell_type": "code",
   "execution_count": null,
   "metadata": {},
   "outputs": [],
   "source": []
  }
 ],
 "metadata": {
  "kernelspec": {
   "display_name": "Python 3",
   "language": "python",
   "name": "python3"
  },
  "language_info": {
   "codemirror_mode": {
    "name": "ipython",
    "version": 3
   },
   "file_extension": ".py",
   "mimetype": "text/x-python",
   "name": "python",
   "nbconvert_exporter": "python",
   "pygments_lexer": "ipython3",
   "version": "3.6.4"
  }
 },
 "nbformat": 4,
 "nbformat_minor": 2
}
